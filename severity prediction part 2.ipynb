{
 "cells": [
  {
   "cell_type": "markdown",
   "metadata": {},
   "source": [
    "# BUSINESS OBJECTIVE"
   ]
  },
  {
   "cell_type": "markdown",
   "metadata": {},
   "source": [
    "In order to produce better automobiles, a UK-based automaker has to develop a forecast model to predict severity using details about the vehicles and the accidents. With the help of this report, we hope to identify the various factors that have been used as attributes, such as vehicle type, engine size, road surface condition, vehicle manoeuvre, first point of impact, day of the week, weather conditions, vehicle type, etc., that affect the different levels of accident severity seen in the UK in 2019. The goal of this project is to create predictive models that can use a set of important traits which can be used to classify different levels of accident severity such as fatal ,serious and slight . To predict these, various machine learning techniques were applied."
   ]
  },
  {
   "cell_type": "markdown",
   "metadata": {},
   "source": [
    "The EDA, removal of outliers,null values, featuring enigneering and feature scaling was done in the group assignment."
   ]
  },
  {
   "cell_type": "code",
   "execution_count": 1,
   "metadata": {},
   "outputs": [],
   "source": [
    "# importing various libraries for various purposes such as loading the dataset,plotting graphs etc\n",
    "import pandas as pd\n",
    "import numpy as np\n",
    "import seaborn as sns\n",
    "import matplotlib.pyplot as plt\n",
    "import time\n",
    "from imblearn.over_sampling import RandomOverSampler\n",
    "from sklearn.model_selection import GridSearchCV\n",
    "from sklearn.metrics import precision_recall_fscore_support, classification_report\n",
    "from sklearn.metrics import ConfusionMatrixDisplay\n",
    "from sklearn.model_selection import cross_val_predict"
   ]
  },
  {
   "cell_type": "code",
   "execution_count": 2,
   "metadata": {},
   "outputs": [
    {
     "data": {
      "text/html": [
       "<div>\n",
       "<style scoped>\n",
       "    .dataframe tbody tr th:only-of-type {\n",
       "        vertical-align: middle;\n",
       "    }\n",
       "\n",
       "    .dataframe tbody tr th {\n",
       "        vertical-align: top;\n",
       "    }\n",
       "\n",
       "    .dataframe thead th {\n",
       "        text-align: right;\n",
       "    }\n",
       "</style>\n",
       "<table border=\"1\" class=\"dataframe\">\n",
       "  <thead>\n",
       "    <tr style=\"text-align: right;\">\n",
       "      <th></th>\n",
       "      <th>engine_capacity_cc</th>\n",
       "      <th>Monday</th>\n",
       "      <th>Saturday</th>\n",
       "      <th>Sunday</th>\n",
       "      <th>Thursday</th>\n",
       "      <th>Tuesday</th>\n",
       "      <th>Wednesday</th>\n",
       "      <th>One way street</th>\n",
       "      <th>Roundabout</th>\n",
       "      <th>Single carriageway</th>\n",
       "      <th>...</th>\n",
       "      <th>overtaking</th>\n",
       "      <th>parked</th>\n",
       "      <th>reversing</th>\n",
       "      <th>stopping</th>\n",
       "      <th>turning</th>\n",
       "      <th>front</th>\n",
       "      <th>nearside</th>\n",
       "      <th>no impact</th>\n",
       "      <th>offside</th>\n",
       "      <th>accident_severity</th>\n",
       "    </tr>\n",
       "  </thead>\n",
       "  <tbody>\n",
       "    <tr>\n",
       "      <th>0</th>\n",
       "      <td>0.589525</td>\n",
       "      <td>-0.400334</td>\n",
       "      <td>-0.395847</td>\n",
       "      <td>-0.362695</td>\n",
       "      <td>-0.421568</td>\n",
       "      <td>2.439773</td>\n",
       "      <td>-0.420169</td>\n",
       "      <td>-0.131987</td>\n",
       "      <td>-0.242573</td>\n",
       "      <td>-1.646832</td>\n",
       "      <td>...</td>\n",
       "      <td>0.852962</td>\n",
       "      <td>-0.217475</td>\n",
       "      <td>-0.121083</td>\n",
       "      <td>-0.383663</td>\n",
       "      <td>-0.453704</td>\n",
       "      <td>0.954959</td>\n",
       "      <td>-0.36908</td>\n",
       "      <td>-0.201955</td>\n",
       "      <td>-0.402287</td>\n",
       "      <td>Slight</td>\n",
       "    </tr>\n",
       "    <tr>\n",
       "      <th>1</th>\n",
       "      <td>1.031392</td>\n",
       "      <td>-0.400334</td>\n",
       "      <td>-0.395847</td>\n",
       "      <td>-0.362695</td>\n",
       "      <td>-0.421568</td>\n",
       "      <td>-0.409874</td>\n",
       "      <td>2.379996</td>\n",
       "      <td>-0.131987</td>\n",
       "      <td>-0.242573</td>\n",
       "      <td>0.607226</td>\n",
       "      <td>...</td>\n",
       "      <td>0.852962</td>\n",
       "      <td>-0.217475</td>\n",
       "      <td>-0.121083</td>\n",
       "      <td>-0.383663</td>\n",
       "      <td>-0.453704</td>\n",
       "      <td>0.954959</td>\n",
       "      <td>-0.36908</td>\n",
       "      <td>-0.201955</td>\n",
       "      <td>-0.402287</td>\n",
       "      <td>Slight</td>\n",
       "    </tr>\n",
       "    <tr>\n",
       "      <th>2</th>\n",
       "      <td>0.036743</td>\n",
       "      <td>-0.400334</td>\n",
       "      <td>-0.395847</td>\n",
       "      <td>2.757141</td>\n",
       "      <td>-0.421568</td>\n",
       "      <td>-0.409874</td>\n",
       "      <td>-0.420169</td>\n",
       "      <td>-0.131987</td>\n",
       "      <td>-0.242573</td>\n",
       "      <td>0.607226</td>\n",
       "      <td>...</td>\n",
       "      <td>0.852962</td>\n",
       "      <td>-0.217475</td>\n",
       "      <td>-0.121083</td>\n",
       "      <td>-0.383663</td>\n",
       "      <td>-0.453704</td>\n",
       "      <td>-1.047166</td>\n",
       "      <td>-0.36908</td>\n",
       "      <td>-0.201955</td>\n",
       "      <td>-0.402287</td>\n",
       "      <td>Slight</td>\n",
       "    </tr>\n",
       "    <tr>\n",
       "      <th>3</th>\n",
       "      <td>0.746951</td>\n",
       "      <td>-0.400334</td>\n",
       "      <td>-0.395847</td>\n",
       "      <td>-0.362695</td>\n",
       "      <td>-0.421568</td>\n",
       "      <td>-0.409874</td>\n",
       "      <td>-0.420169</td>\n",
       "      <td>-0.131987</td>\n",
       "      <td>-0.242573</td>\n",
       "      <td>0.607226</td>\n",
       "      <td>...</td>\n",
       "      <td>0.852962</td>\n",
       "      <td>-0.217475</td>\n",
       "      <td>-0.121083</td>\n",
       "      <td>-0.383663</td>\n",
       "      <td>-0.453704</td>\n",
       "      <td>0.954959</td>\n",
       "      <td>-0.36908</td>\n",
       "      <td>-0.201955</td>\n",
       "      <td>-0.402287</td>\n",
       "      <td>Serious</td>\n",
       "    </tr>\n",
       "    <tr>\n",
       "      <th>4</th>\n",
       "      <td>-0.301366</td>\n",
       "      <td>-0.400334</td>\n",
       "      <td>-0.395847</td>\n",
       "      <td>-0.362695</td>\n",
       "      <td>-0.421568</td>\n",
       "      <td>-0.409874</td>\n",
       "      <td>-0.420169</td>\n",
       "      <td>-0.131987</td>\n",
       "      <td>-0.242573</td>\n",
       "      <td>0.607226</td>\n",
       "      <td>...</td>\n",
       "      <td>0.852962</td>\n",
       "      <td>-0.217475</td>\n",
       "      <td>-0.121083</td>\n",
       "      <td>-0.383663</td>\n",
       "      <td>-0.453704</td>\n",
       "      <td>0.954959</td>\n",
       "      <td>-0.36908</td>\n",
       "      <td>-0.201955</td>\n",
       "      <td>-0.402287</td>\n",
       "      <td>Serious</td>\n",
       "    </tr>\n",
       "  </tbody>\n",
       "</table>\n",
       "<p>5 rows × 37 columns</p>\n",
       "</div>"
      ],
      "text/plain": [
       "   engine_capacity_cc    Monday  Saturday    Sunday  Thursday   Tuesday  \\\n",
       "0            0.589525 -0.400334 -0.395847 -0.362695 -0.421568  2.439773   \n",
       "1            1.031392 -0.400334 -0.395847 -0.362695 -0.421568 -0.409874   \n",
       "2            0.036743 -0.400334 -0.395847  2.757141 -0.421568 -0.409874   \n",
       "3            0.746951 -0.400334 -0.395847 -0.362695 -0.421568 -0.409874   \n",
       "4           -0.301366 -0.400334 -0.395847 -0.362695 -0.421568 -0.409874   \n",
       "\n",
       "   Wednesday  One way street  Roundabout  Single carriageway  ...  overtaking  \\\n",
       "0  -0.420169       -0.131987   -0.242573           -1.646832  ...    0.852962   \n",
       "1   2.379996       -0.131987   -0.242573            0.607226  ...    0.852962   \n",
       "2  -0.420169       -0.131987   -0.242573            0.607226  ...    0.852962   \n",
       "3  -0.420169       -0.131987   -0.242573            0.607226  ...    0.852962   \n",
       "4  -0.420169       -0.131987   -0.242573            0.607226  ...    0.852962   \n",
       "\n",
       "     parked  reversing  stopping   turning     front  nearside  no impact  \\\n",
       "0 -0.217475  -0.121083 -0.383663 -0.453704  0.954959  -0.36908  -0.201955   \n",
       "1 -0.217475  -0.121083 -0.383663 -0.453704  0.954959  -0.36908  -0.201955   \n",
       "2 -0.217475  -0.121083 -0.383663 -0.453704 -1.047166  -0.36908  -0.201955   \n",
       "3 -0.217475  -0.121083 -0.383663 -0.453704  0.954959  -0.36908  -0.201955   \n",
       "4 -0.217475  -0.121083 -0.383663 -0.453704  0.954959  -0.36908  -0.201955   \n",
       "\n",
       "    offside  accident_severity  \n",
       "0 -0.402287             Slight  \n",
       "1 -0.402287             Slight  \n",
       "2 -0.402287             Slight  \n",
       "3 -0.402287            Serious  \n",
       "4 -0.402287            Serious  \n",
       "\n",
       "[5 rows x 37 columns]"
      ]
     },
     "execution_count": 2,
     "metadata": {},
     "output_type": "execute_result"
    }
   ],
   "source": [
    "#loading the training dataset acquired from group assignment\n",
    "train_set = pd.read_csv(\"H://BIG data//INDIVIDUAL ASSIGNMENT//trainset.csv\")\n",
    "train_set.head()"
   ]
  },
  {
   "cell_type": "code",
   "execution_count": 3,
   "metadata": {},
   "outputs": [
    {
     "data": {
      "text/plain": [
       "(89416, 37)"
      ]
     },
     "execution_count": 3,
     "metadata": {},
     "output_type": "execute_result"
    }
   ],
   "source": [
    "#dimensions of training dataset\n",
    "train_set.shape"
   ]
  },
  {
   "cell_type": "code",
   "execution_count": 4,
   "metadata": {},
   "outputs": [
    {
     "data": {
      "text/html": [
       "<div>\n",
       "<style scoped>\n",
       "    .dataframe tbody tr th:only-of-type {\n",
       "        vertical-align: middle;\n",
       "    }\n",
       "\n",
       "    .dataframe tbody tr th {\n",
       "        vertical-align: top;\n",
       "    }\n",
       "\n",
       "    .dataframe thead th {\n",
       "        text-align: right;\n",
       "    }\n",
       "</style>\n",
       "<table border=\"1\" class=\"dataframe\">\n",
       "  <thead>\n",
       "    <tr style=\"text-align: right;\">\n",
       "      <th></th>\n",
       "      <th>engine_capacity_cc</th>\n",
       "      <th>Monday</th>\n",
       "      <th>Saturday</th>\n",
       "      <th>Sunday</th>\n",
       "      <th>Thursday</th>\n",
       "      <th>Tuesday</th>\n",
       "      <th>Wednesday</th>\n",
       "      <th>One way street</th>\n",
       "      <th>Roundabout</th>\n",
       "      <th>Single carriageway</th>\n",
       "      <th>...</th>\n",
       "      <th>overtaking</th>\n",
       "      <th>parked</th>\n",
       "      <th>reversing</th>\n",
       "      <th>stopping</th>\n",
       "      <th>turning</th>\n",
       "      <th>front</th>\n",
       "      <th>nearside</th>\n",
       "      <th>no impact</th>\n",
       "      <th>offside</th>\n",
       "      <th>accident_severity</th>\n",
       "    </tr>\n",
       "  </thead>\n",
       "  <tbody>\n",
       "    <tr>\n",
       "      <th>0</th>\n",
       "      <td>1.491149</td>\n",
       "      <td>-0.400334</td>\n",
       "      <td>-0.395847</td>\n",
       "      <td>-0.362695</td>\n",
       "      <td>2.372097</td>\n",
       "      <td>-0.409874</td>\n",
       "      <td>-0.420169</td>\n",
       "      <td>-0.131987</td>\n",
       "      <td>-0.242573</td>\n",
       "      <td>0.607226</td>\n",
       "      <td>...</td>\n",
       "      <td>0.852962</td>\n",
       "      <td>-0.217475</td>\n",
       "      <td>-0.121083</td>\n",
       "      <td>-0.383663</td>\n",
       "      <td>-0.453704</td>\n",
       "      <td>-1.047166</td>\n",
       "      <td>2.709436</td>\n",
       "      <td>-0.201955</td>\n",
       "      <td>-0.402287</td>\n",
       "      <td>Slight</td>\n",
       "    </tr>\n",
       "    <tr>\n",
       "      <th>1</th>\n",
       "      <td>-0.369346</td>\n",
       "      <td>-0.400334</td>\n",
       "      <td>-0.395847</td>\n",
       "      <td>2.757141</td>\n",
       "      <td>-0.421568</td>\n",
       "      <td>-0.409874</td>\n",
       "      <td>-0.420169</td>\n",
       "      <td>-0.131987</td>\n",
       "      <td>-0.242573</td>\n",
       "      <td>0.607226</td>\n",
       "      <td>...</td>\n",
       "      <td>0.852962</td>\n",
       "      <td>-0.217475</td>\n",
       "      <td>-0.121083</td>\n",
       "      <td>-0.383663</td>\n",
       "      <td>-0.453704</td>\n",
       "      <td>0.954959</td>\n",
       "      <td>-0.369080</td>\n",
       "      <td>-0.201955</td>\n",
       "      <td>-0.402287</td>\n",
       "      <td>Slight</td>\n",
       "    </tr>\n",
       "    <tr>\n",
       "      <th>2</th>\n",
       "      <td>-0.306733</td>\n",
       "      <td>-0.400334</td>\n",
       "      <td>-0.395847</td>\n",
       "      <td>-0.362695</td>\n",
       "      <td>-0.421568</td>\n",
       "      <td>-0.409874</td>\n",
       "      <td>2.379996</td>\n",
       "      <td>-0.131987</td>\n",
       "      <td>-0.242573</td>\n",
       "      <td>0.607226</td>\n",
       "      <td>...</td>\n",
       "      <td>-1.172385</td>\n",
       "      <td>-0.217475</td>\n",
       "      <td>-0.121083</td>\n",
       "      <td>-0.383663</td>\n",
       "      <td>-0.453704</td>\n",
       "      <td>0.954959</td>\n",
       "      <td>-0.369080</td>\n",
       "      <td>-0.201955</td>\n",
       "      <td>-0.402287</td>\n",
       "      <td>Slight</td>\n",
       "    </tr>\n",
       "    <tr>\n",
       "      <th>3</th>\n",
       "      <td>0.766630</td>\n",
       "      <td>-0.400334</td>\n",
       "      <td>-0.395847</td>\n",
       "      <td>-0.362695</td>\n",
       "      <td>-0.421568</td>\n",
       "      <td>2.439773</td>\n",
       "      <td>-0.420169</td>\n",
       "      <td>-0.131987</td>\n",
       "      <td>-0.242573</td>\n",
       "      <td>0.607226</td>\n",
       "      <td>...</td>\n",
       "      <td>-1.172385</td>\n",
       "      <td>-0.217475</td>\n",
       "      <td>-0.121083</td>\n",
       "      <td>2.606454</td>\n",
       "      <td>-0.453704</td>\n",
       "      <td>0.954959</td>\n",
       "      <td>-0.369080</td>\n",
       "      <td>-0.201955</td>\n",
       "      <td>-0.402287</td>\n",
       "      <td>Slight</td>\n",
       "    </tr>\n",
       "    <tr>\n",
       "      <th>4</th>\n",
       "      <td>0.718328</td>\n",
       "      <td>-0.400334</td>\n",
       "      <td>-0.395847</td>\n",
       "      <td>-0.362695</td>\n",
       "      <td>-0.421568</td>\n",
       "      <td>-0.409874</td>\n",
       "      <td>2.379996</td>\n",
       "      <td>-0.131987</td>\n",
       "      <td>-0.242573</td>\n",
       "      <td>0.607226</td>\n",
       "      <td>...</td>\n",
       "      <td>0.852962</td>\n",
       "      <td>-0.217475</td>\n",
       "      <td>-0.121083</td>\n",
       "      <td>-0.383663</td>\n",
       "      <td>-0.453704</td>\n",
       "      <td>-1.047166</td>\n",
       "      <td>-0.369080</td>\n",
       "      <td>-0.201955</td>\n",
       "      <td>2.485785</td>\n",
       "      <td>Slight</td>\n",
       "    </tr>\n",
       "  </tbody>\n",
       "</table>\n",
       "<p>5 rows × 37 columns</p>\n",
       "</div>"
      ],
      "text/plain": [
       "   engine_capacity_cc    Monday  Saturday    Sunday  Thursday   Tuesday  \\\n",
       "0            1.491149 -0.400334 -0.395847 -0.362695  2.372097 -0.409874   \n",
       "1           -0.369346 -0.400334 -0.395847  2.757141 -0.421568 -0.409874   \n",
       "2           -0.306733 -0.400334 -0.395847 -0.362695 -0.421568 -0.409874   \n",
       "3            0.766630 -0.400334 -0.395847 -0.362695 -0.421568  2.439773   \n",
       "4            0.718328 -0.400334 -0.395847 -0.362695 -0.421568 -0.409874   \n",
       "\n",
       "   Wednesday  One way street  Roundabout  Single carriageway  ...  overtaking  \\\n",
       "0  -0.420169       -0.131987   -0.242573            0.607226  ...    0.852962   \n",
       "1  -0.420169       -0.131987   -0.242573            0.607226  ...    0.852962   \n",
       "2   2.379996       -0.131987   -0.242573            0.607226  ...   -1.172385   \n",
       "3  -0.420169       -0.131987   -0.242573            0.607226  ...   -1.172385   \n",
       "4   2.379996       -0.131987   -0.242573            0.607226  ...    0.852962   \n",
       "\n",
       "     parked  reversing  stopping   turning     front  nearside  no impact  \\\n",
       "0 -0.217475  -0.121083 -0.383663 -0.453704 -1.047166  2.709436  -0.201955   \n",
       "1 -0.217475  -0.121083 -0.383663 -0.453704  0.954959 -0.369080  -0.201955   \n",
       "2 -0.217475  -0.121083 -0.383663 -0.453704  0.954959 -0.369080  -0.201955   \n",
       "3 -0.217475  -0.121083  2.606454 -0.453704  0.954959 -0.369080  -0.201955   \n",
       "4 -0.217475  -0.121083 -0.383663 -0.453704 -1.047166 -0.369080  -0.201955   \n",
       "\n",
       "    offside  accident_severity  \n",
       "0 -0.402287             Slight  \n",
       "1 -0.402287             Slight  \n",
       "2 -0.402287             Slight  \n",
       "3 -0.402287             Slight  \n",
       "4  2.485785             Slight  \n",
       "\n",
       "[5 rows x 37 columns]"
      ]
     },
     "execution_count": 4,
     "metadata": {},
     "output_type": "execute_result"
    }
   ],
   "source": [
    "#loading the testing dataset acquired from group assignment\n",
    "test_set = pd.read_csv(\"H://BIG data//INDIVIDUAL ASSIGNMENT//testset.csv\")\n",
    "test_set.head()"
   ]
  },
  {
   "cell_type": "code",
   "execution_count": 5,
   "metadata": {},
   "outputs": [
    {
     "data": {
      "text/plain": [
       "(21306, 37)"
      ]
     },
     "execution_count": 5,
     "metadata": {},
     "output_type": "execute_result"
    }
   ],
   "source": [
    "#dimensions of testing dataset\n",
    "test_set.shape"
   ]
  },
  {
   "cell_type": "code",
   "execution_count": 12,
   "metadata": {},
   "outputs": [
    {
     "data": {
      "text/plain": [
       "engine_capacity_cc       0\n",
       "Monday                   0\n",
       "Saturday                 0\n",
       "Sunday                   0\n",
       "Thursday                 0\n",
       "Tuesday                  0\n",
       "Wednesday                0\n",
       "One way street           0\n",
       "Roundabout               0\n",
       "Single carriageway       0\n",
       "Slip road                0\n",
       "Fine no high winds       0\n",
       "Fog or mist              0\n",
       "Other                    0\n",
       "Raining + high winds     0\n",
       "Raining no high winds    0\n",
       "Snowing + high winds     0\n",
       "Snowing no high winds    0\n",
       "Frost                    0\n",
       "dry                      0\n",
       "snow                     0\n",
       "wet                      0\n",
       "bus                      0\n",
       "car                      0\n",
       "goods vehicle            0\n",
       "others                   0\n",
       "moving                   0\n",
       "overtaking               0\n",
       "parked                   0\n",
       "reversing                0\n",
       "stopping                 0\n",
       "turning                  0\n",
       "front                    0\n",
       "nearside                 0\n",
       "no impact                0\n",
       "offside                  0\n",
       "accident_severity        0\n",
       "dtype: int64"
      ]
     },
     "execution_count": 12,
     "metadata": {},
     "output_type": "execute_result"
    }
   ],
   "source": [
    "#checking for null values in train set\n",
    "train_set.isnull().sum()"
   ]
  },
  {
   "cell_type": "code",
   "execution_count": 13,
   "metadata": {},
   "outputs": [
    {
     "data": {
      "text/plain": [
       "engine_capacity_cc       0\n",
       "Monday                   0\n",
       "Saturday                 0\n",
       "Sunday                   0\n",
       "Thursday                 0\n",
       "Tuesday                  0\n",
       "Wednesday                0\n",
       "One way street           0\n",
       "Roundabout               0\n",
       "Single carriageway       0\n",
       "Slip road                0\n",
       "Fine no high winds       0\n",
       "Fog or mist              0\n",
       "Other                    0\n",
       "Raining + high winds     0\n",
       "Raining no high winds    0\n",
       "Snowing + high winds     0\n",
       "Snowing no high winds    0\n",
       "Frost                    0\n",
       "dry                      0\n",
       "snow                     0\n",
       "wet                      0\n",
       "bus                      0\n",
       "car                      0\n",
       "goods vehicle            0\n",
       "others                   0\n",
       "moving                   0\n",
       "overtaking               0\n",
       "parked                   0\n",
       "reversing                0\n",
       "stopping                 0\n",
       "turning                  0\n",
       "front                    0\n",
       "nearside                 0\n",
       "no impact                0\n",
       "offside                  0\n",
       "accident_severity        0\n",
       "dtype: int64"
      ]
     },
     "execution_count": 13,
     "metadata": {},
     "output_type": "execute_result"
    }
   ],
   "source": [
    "#checking for null values in test set\n",
    "test_set.isnull().sum()"
   ]
  },
  {
   "cell_type": "code",
   "execution_count": 6,
   "metadata": {},
   "outputs": [],
   "source": [
    "# dropping the target variable from test set and only keeping the predictors\n",
    "#copying the  target variable in another variable\n",
    "Xtest = test_set.drop(\"accident_severity\", axis=1)\n",
    "ytest = test_set[\"accident_severity\"].copy()"
   ]
  },
  {
   "cell_type": "code",
   "execution_count": 7,
   "metadata": {},
   "outputs": [],
   "source": [
    "# dropping target variable and keeping others\n",
    "Xtrain = train_set.drop(\"accident_severity\", axis=1)\n",
    "ytrain = train_set[\"accident_severity\"].copy()"
   ]
  },
  {
   "cell_type": "code",
   "execution_count": 8,
   "metadata": {},
   "outputs": [
    {
     "data": {
      "text/plain": [
       "Slight     70993\n",
       "Serious    17015\n",
       "Fatal       1408\n",
       "Name: accident_severity, dtype: int64"
      ]
     },
     "execution_count": 8,
     "metadata": {},
     "output_type": "execute_result"
    }
   ],
   "source": [
    "#counts for different category of accident severity\n",
    "ytrain.value_counts()"
   ]
  },
  {
   "cell_type": "code",
   "execution_count": 9,
   "metadata": {
    "scrolled": true
   },
   "outputs": [
    {
     "data": {
      "text/plain": [
       "<matplotlib.axes._subplots.AxesSubplot at 0x1fae5ccd308>"
      ]
     },
     "execution_count": 9,
     "metadata": {},
     "output_type": "execute_result"
    },
    {
     "data": {
      "image/png": "[encoded data removed]",
      "text/plain": [
       "<Figure size 432x288 with 1 Axes>"
      ]
     },
     "metadata": {
      "needs_background": "light"
     },
     "output_type": "display_data"
    }
   ],
   "source": [
    "#visualization of different categories of accident severity\n",
    "ytrain.value_counts().plot(kind=\"bar\", rot=0)"
   ]
  },
  {
   "cell_type": "markdown",
   "metadata": {},
   "source": [
    "As it can be seen from the plot that the number of slight cases is way more than serious and fatal, hence the data is imbalanced and we balanced the target variable by creating duplicates using oversampling method."
   ]
  },
  {
   "cell_type": "code",
   "execution_count": 10,
   "metadata": {},
   "outputs": [],
   "source": [
    "# random oversampling is used for balancing\n",
    "strategy = {'Slight':70993, 'Serious':50000, 'Fatal':40000}\n",
    "oversample = RandomOverSampler(sampling_strategy = strategy)"
   ]
  },
  {
   "cell_type": "markdown",
   "metadata": {},
   "source": [
    "Random oversampling uses the technique by creating duplicates of minority class which is added to the training set, with replacement. Here we have used a ratio of slights having 70993, serious having 50000 and fatal having 40000."
   ]
  },
  {
   "cell_type": "code",
   "execution_count": 11,
   "metadata": {},
   "outputs": [],
   "source": [
    "#fitting the oversampled data on to the train set\n",
    "X_train_resampled, y_train_resampled = oversample.fit_resample(Xtrain,ytrain)"
   ]
  },
  {
   "cell_type": "code",
   "execution_count": 12,
   "metadata": {},
   "outputs": [
    {
     "data": {
      "text/plain": [
       "<matplotlib.axes._subplots.AxesSubplot at 0x18714495fc8>"
      ]
     },
     "execution_count": 12,
     "metadata": {},
     "output_type": "execute_result"
    },
    {
     "data": {
      "image/png": "[encoded data removed]",
      "text/plain": [
       "<Figure size 432x288 with 1 Axes>"
      ]
     },
     "metadata": {
      "needs_background": "light"
     },
     "output_type": "display_data"
    }
   ],
   "source": [
    "#visualization after oversampling the data\n",
    "y_train_resampled.value_counts().plot(kind=\"bar\", rot=0)"
   ]
  },
  {
   "cell_type": "markdown",
   "metadata": {},
   "source": [
    "## BASELINE MODEL"
   ]
  },
  {
   "cell_type": "code",
   "execution_count": 13,
   "metadata": {},
   "outputs": [
    {
     "data": {
      "text/plain": [
       "Slight     70993\n",
       "Serious    17015\n",
       "Fatal       1408\n",
       "Name: accident_severity, dtype: int64"
      ]
     },
     "execution_count": 13,
     "metadata": {},
     "output_type": "execute_result"
    }
   ],
   "source": [
    "# counts for different categories in accident_severity\n",
    "train_set['accident_severity'].value_counts()"
   ]
  },
  {
   "cell_type": "code",
   "execution_count": 14,
   "metadata": {},
   "outputs": [
    {
     "data": {
      "text/plain": [
       "89416"
      ]
     },
     "execution_count": 14,
     "metadata": {},
     "output_type": "execute_result"
    }
   ],
   "source": [
    "train_set.shape[0]"
   ]
  },
  {
   "cell_type": "markdown",
   "metadata": {},
   "source": [
    "The output of the baseline classifier will be Slight for all the predictions. We have used macro-averaging."
   ]
  },
  {
   "cell_type": "code",
   "execution_count": 29,
   "metadata": {},
   "outputs": [],
   "source": [
    "#storing the number of cases for each category of accident severity in a variable\n",
    "n_slight = train_set[\"accident_severity\"].value_counts()[\"Slight\"]\n",
    "n_serious = train_set[\"accident_severity\"].value_counts()[\"Serious\"]\n",
    "n_fatal = train_set[\"accident_severity\"].value_counts()[\"Fatal\"]\n",
    "instances = train_set.shape[0]"
   ]
  },
  {
   "cell_type": "code",
   "execution_count": 41,
   "metadata": {},
   "outputs": [
    {
     "name": "stdout",
     "output_type": "stream",
     "text": [
      "Precision: 0.33333\n",
      "Recall: 1.0\n",
      "F-score: 0.41196\n"
     ]
    }
   ],
   "source": [
    "# The precision,recall,fscore for 'Slight' lable is,\n",
    "Slight_precision = n_slight/instances\n",
    "Slight_recall = n_slight/n_slight\n",
    "Slight_fscore = 2/(1/Slight_precision + 1/Slight_recall)\n",
    "\n",
    "# The precision,recall,fscore for 'Serious' lable is,\n",
    "Serious_precision = n_serious/instances\n",
    "Serious_recall = n_serious/n_serious\n",
    "Serious_fscore = 2/(1/Serious_precision + 1/Serious_recall)\n",
    "\n",
    "# The precision,recall,fscore for 'Fatal' lable is,\n",
    "Fatal_precision = n_fatal/instances\n",
    "Fatal_recall = n_fatal/n_fatal\n",
    "Fatal_fscore = 2/(1/Fatal_precision + 1/Fatal_recall)\n",
    "\n",
    "# the baseline scores are the average of the three classes\n",
    "p = (Slight_precision+Serious_precision+Fatal_precision)/3\n",
    "r = (Slight_recall+Serious_recall+Fatal_recall)/3\n",
    "f = (Slight_fscore+Serious_fscore+Fatal_fscore)/3\n",
    "\n",
    "print(f\"Precision: {p:.5}\")\n",
    "print(f\"Recall: {r:.5}\")\n",
    "print(f\"F-score: {f:.5}\")"
   ]
  },
  {
   "cell_type": "markdown",
   "metadata": {},
   "source": [
    "For the baseline model the the precision, recall and the f-score can be seen and thus can be used to compare with other models."
   ]
  },
  {
   "cell_type": "markdown",
   "metadata": {},
   "source": [
    "# DECISION TREE"
   ]
  },
  {
   "cell_type": "code",
   "execution_count": 18,
   "metadata": {},
   "outputs": [
    {
     "name": "stdout",
     "output_type": "stream",
     "text": [
      "Fitting 5 folds for each of 12 candidates, totalling 60 fits\n",
      "Took 40.67149519920349 seconds\n"
     ]
    }
   ],
   "source": [
    "from sklearn.tree import DecisionTreeClassifier\n",
    "\n",
    "dtc = DecisionTreeClassifier(random_state=7)\n",
    "\n",
    "#provide the values of the hyperparameters. In the grid, there will be 3 x 4 =12 combinations\n",
    "param_grid = {\n",
    "    'max_depth': [25, 30, 35],\n",
    "    'min_samples_split': [5, 8, 11, 14]\n",
    "}\n",
    "\n",
    "# 5-fold cross-validation has been used\n",
    "dt_grid_search = GridSearchCV(dtc, param_grid, cv=5,\n",
    "                           scoring='f1_macro', \n",
    "                           return_train_score=True,verbose=1) \n",
    "\n",
    "start = time.time()\n",
    "dt_grid_search.fit(Xtrain, ytrain)\n",
    "end = time.time() - start\n",
    "print(f\"Took {end} seconds\")"
   ]
  },
  {
   "cell_type": "code",
   "execution_count": 19,
   "metadata": {},
   "outputs": [],
   "source": [
    "# best hyerparameters for decision tree\n",
    "best_dtc = dt_grid_search.best_estimator_"
   ]
  },
  {
   "cell_type": "code",
   "execution_count": 20,
   "metadata": {},
   "outputs": [
    {
     "data": {
      "text/plain": [
       "0.3538861722176358"
      ]
     },
     "execution_count": 20,
     "metadata": {},
     "output_type": "execute_result"
    }
   ],
   "source": [
    "#best score achieved for decision tree\n",
    "dt_grid_search.best_score_"
   ]
  },
  {
   "cell_type": "code",
   "execution_count": 21,
   "metadata": {},
   "outputs": [
    {
     "data": {
      "text/html": [
       "<div>\n",
       "<style scoped>\n",
       "    .dataframe tbody tr th:only-of-type {\n",
       "        vertical-align: middle;\n",
       "    }\n",
       "\n",
       "    .dataframe tbody tr th {\n",
       "        vertical-align: top;\n",
       "    }\n",
       "\n",
       "    .dataframe thead th {\n",
       "        text-align: right;\n",
       "    }\n",
       "</style>\n",
       "<table border=\"1\" class=\"dataframe\">\n",
       "  <thead>\n",
       "    <tr style=\"text-align: right;\">\n",
       "      <th></th>\n",
       "      <th>params</th>\n",
       "      <th>mean_train_score</th>\n",
       "      <th>mean_test_score</th>\n",
       "      <th>diff, %</th>\n",
       "    </tr>\n",
       "  </thead>\n",
       "  <tbody>\n",
       "    <tr>\n",
       "      <th>0</th>\n",
       "      <td>{'max_depth': 25, 'min_samples_split': 5}</td>\n",
       "      <td>0.611895</td>\n",
       "      <td>0.353886</td>\n",
       "      <td>42.165563</td>\n",
       "    </tr>\n",
       "    <tr>\n",
       "      <th>4</th>\n",
       "      <td>{'max_depth': 30, 'min_samples_split': 5}</td>\n",
       "      <td>0.638047</td>\n",
       "      <td>0.353118</td>\n",
       "      <td>44.656518</td>\n",
       "    </tr>\n",
       "    <tr>\n",
       "      <th>8</th>\n",
       "      <td>{'max_depth': 35, 'min_samples_split': 5}</td>\n",
       "      <td>0.644074</td>\n",
       "      <td>0.352890</td>\n",
       "      <td>45.209763</td>\n",
       "    </tr>\n",
       "    <tr>\n",
       "      <th>5</th>\n",
       "      <td>{'max_depth': 30, 'min_samples_split': 8}</td>\n",
       "      <td>0.578256</td>\n",
       "      <td>0.351966</td>\n",
       "      <td>39.133138</td>\n",
       "    </tr>\n",
       "    <tr>\n",
       "      <th>9</th>\n",
       "      <td>{'max_depth': 35, 'min_samples_split': 8}</td>\n",
       "      <td>0.583025</td>\n",
       "      <td>0.351854</td>\n",
       "      <td>39.650328</td>\n",
       "    </tr>\n",
       "    <tr>\n",
       "      <th>1</th>\n",
       "      <td>{'max_depth': 25, 'min_samples_split': 8}</td>\n",
       "      <td>0.557922</td>\n",
       "      <td>0.351287</td>\n",
       "      <td>37.036559</td>\n",
       "    </tr>\n",
       "    <tr>\n",
       "      <th>10</th>\n",
       "      <td>{'max_depth': 35, 'min_samples_split': 11}</td>\n",
       "      <td>0.541208</td>\n",
       "      <td>0.349404</td>\n",
       "      <td>35.439966</td>\n",
       "    </tr>\n",
       "    <tr>\n",
       "      <th>6</th>\n",
       "      <td>{'max_depth': 30, 'min_samples_split': 11}</td>\n",
       "      <td>0.537470</td>\n",
       "      <td>0.349378</td>\n",
       "      <td>34.995751</td>\n",
       "    </tr>\n",
       "    <tr>\n",
       "      <th>2</th>\n",
       "      <td>{'max_depth': 25, 'min_samples_split': 11}</td>\n",
       "      <td>0.522153</td>\n",
       "      <td>0.348760</td>\n",
       "      <td>33.207225</td>\n",
       "    </tr>\n",
       "    <tr>\n",
       "      <th>11</th>\n",
       "      <td>{'max_depth': 35, 'min_samples_split': 14}</td>\n",
       "      <td>0.511920</td>\n",
       "      <td>0.348122</td>\n",
       "      <td>31.996884</td>\n",
       "    </tr>\n",
       "    <tr>\n",
       "      <th>7</th>\n",
       "      <td>{'max_depth': 30, 'min_samples_split': 14}</td>\n",
       "      <td>0.508966</td>\n",
       "      <td>0.347961</td>\n",
       "      <td>31.633742</td>\n",
       "    </tr>\n",
       "    <tr>\n",
       "      <th>3</th>\n",
       "      <td>{'max_depth': 25, 'min_samples_split': 14}</td>\n",
       "      <td>0.496772</td>\n",
       "      <td>0.347303</td>\n",
       "      <td>30.088042</td>\n",
       "    </tr>\n",
       "  </tbody>\n",
       "</table>\n",
       "</div>"
      ],
      "text/plain": [
       "                                        params  mean_train_score  \\\n",
       "0    {'max_depth': 25, 'min_samples_split': 5}          0.611895   \n",
       "4    {'max_depth': 30, 'min_samples_split': 5}          0.638047   \n",
       "8    {'max_depth': 35, 'min_samples_split': 5}          0.644074   \n",
       "5    {'max_depth': 30, 'min_samples_split': 8}          0.578256   \n",
       "9    {'max_depth': 35, 'min_samples_split': 8}          0.583025   \n",
       "1    {'max_depth': 25, 'min_samples_split': 8}          0.557922   \n",
       "10  {'max_depth': 35, 'min_samples_split': 11}          0.541208   \n",
       "6   {'max_depth': 30, 'min_samples_split': 11}          0.537470   \n",
       "2   {'max_depth': 25, 'min_samples_split': 11}          0.522153   \n",
       "11  {'max_depth': 35, 'min_samples_split': 14}          0.511920   \n",
       "7   {'max_depth': 30, 'min_samples_split': 14}          0.508966   \n",
       "3   {'max_depth': 25, 'min_samples_split': 14}          0.496772   \n",
       "\n",
       "    mean_test_score    diff, %  \n",
       "0          0.353886  42.165563  \n",
       "4          0.353118  44.656518  \n",
       "8          0.352890  45.209763  \n",
       "5          0.351966  39.133138  \n",
       "9          0.351854  39.650328  \n",
       "1          0.351287  37.036559  \n",
       "10         0.349404  35.439966  \n",
       "6          0.349378  34.995751  \n",
       "2          0.348760  33.207225  \n",
       "11         0.348122  31.996884  \n",
       "7          0.347961  31.633742  \n",
       "3          0.347303  30.088042  "
      ]
     },
     "execution_count": 21,
     "metadata": {},
     "output_type": "execute_result"
    }
   ],
   "source": [
    "# creating a dataframe to show variations in scores of \n",
    "# train and validation set with different hyperparameters\n",
    "cv_results = pd.DataFrame(dt_grid_search.cv_results_)[['params', 'mean_train_score', 'mean_test_score']]\n",
    "cv_results[\"diff, %\"] = 100*(cv_results[\"mean_train_score\"]-cv_results[\"mean_test_score\"]\n",
    "                                                     )/cv_results[\"mean_train_score\"]\n",
    "\n",
    "pd.set_option('display.max_colwidth', 100)\n",
    "cv_results.sort_values('mean_test_score', ascending=False)"
   ]
  },
  {
   "cell_type": "markdown",
   "metadata": {},
   "source": [
    "we see that for various combinations of hyperparameters, the train score shows variation but on the validation set there is slight variation. The model is underfitting on all the combinations of hyperparameters.thus, the model is unable to find the underlying trend.The model is performing better on train set than on validation set.hence, we will need to check other models if we can achieve better results.Though model is performing bad but is better than the baseline model. "
   ]
  },
  {
   "cell_type": "code",
   "execution_count": 22,
   "metadata": {},
   "outputs": [
    {
     "name": "stdout",
     "output_type": "stream",
     "text": [
      "Decision tree:\n",
      "Precision: 0.71415756795288\n",
      "Recall: 0.537998505587009\n",
      "F score: 0.5905195505071633\n"
     ]
    }
   ],
   "source": [
    "# using the best hyperparameters to predict the test set\n",
    "yhat = best_dtc.predict(Xtest)\n",
    "\n",
    "# measuring of classification accucary by micro-avering the the presion,recall and f-score\n",
    "p, r, f, s = precision_recall_fscore_support(ytest, yhat, average=\"macro\")\n",
    "print(\"Decision tree:\")\n",
    "print(f\"Precision: {p}\")\n",
    "print(f\"Recall: {r}\")\n",
    "print(f\"F score: {f}\")"
   ]
  },
  {
   "cell_type": "code",
   "execution_count": 23,
   "metadata": {},
   "outputs": [
    {
     "data": {
      "text/plain": [
       "<sklearn.metrics._plot.confusion_matrix.ConfusionMatrixDisplay at 0x7faa61d5a0d0>"
      ]
     },
     "execution_count": 23,
     "metadata": {},
     "output_type": "execute_result"
    },
    {
     "data": {
      "image/png": "[encoded data removed]",
      "text/plain": [
       "<Figure size 432x288 with 2 Axes>"
      ]
     },
     "metadata": {
      "needs_background": "light"
     },
     "output_type": "display_data"
    }
   ],
   "source": [
    "# confusion matrix on the test data\n",
    "from sklearn.metrics import ConfusionMatrixDisplay\n",
    "\n",
    "ConfusionMatrixDisplay.from_predictions(ytest, yhat, labels=best_dtc.classes_, \n",
    "                                        xticks_rotation=\"vertical\", normalize=\"true\",\n",
    "                                        cmap=plt.cm.Blues)"
   ]
  },
  {
   "cell_type": "markdown",
   "metadata": {},
   "source": [
    "from the confusion matrix, the model has classified fatal as fatal for 83% of true instances ,for serious class that model has classified serious for 86% of true instances and for slight it has classified 90% of true instances."
   ]
  },
  {
   "cell_type": "markdown",
   "metadata": {},
   "source": [
    "# RANDOM FOREST"
   ]
  },
  {
   "cell_type": "code",
   "execution_count": 82,
   "metadata": {},
   "outputs": [
    {
     "name": "stdout",
     "output_type": "stream",
     "text": [
      "Fitting 3 folds for each of 27 candidates, totalling 81 fits\n",
      "Took 3175.679929971695 seconds\n"
     ]
    }
   ],
   "source": [
    "from sklearn.ensemble import RandomForestClassifier\n",
    "\n",
    "rf = RandomForestClassifier(random_state=7)\n",
    "\n",
    "#provide the values of the hyperparameters. In the grid, there will be 3x3x3=27 combinations\n",
    "param_grid = {\n",
    "    'n_estimators': [ 200, 500,800],\n",
    "    'max_depth': [30, 35,40],\n",
    "    'min_samples_split': [9,11, 14]\n",
    "}\n",
    "\n",
    "# 5-fold cross-validation has been used\n",
    "rf_grid_search = GridSearchCV(rf, param_grid, cv=3,\n",
    "                           scoring='f1_macro', \n",
    "                           return_train_score=True,verbose=1) \n",
    "\n",
    "start = time.time()\n",
    "rf_grid_search.fit(Xtrain, ytrain)\n",
    "end = time.time() - start\n",
    "print(f\"Took {end} seconds\")"
   ]
  },
  {
   "cell_type": "code",
   "execution_count": 86,
   "metadata": {},
   "outputs": [],
   "source": [
    "best_rf = rf_grid_search.best_estimator_"
   ]
  },
  {
   "cell_type": "code",
   "execution_count": 88,
   "metadata": {},
   "outputs": [
    {
     "data": {
      "text/plain": [
       "0.32824726969507956"
      ]
     },
     "execution_count": 88,
     "metadata": {},
     "output_type": "execute_result"
    }
   ],
   "source": [
    "rf_grid_search.best_score_"
   ]
  },
  {
   "cell_type": "code",
   "execution_count": 89,
   "metadata": {},
   "outputs": [
    {
     "data": {
      "text/html": [
       "<div>\n",
       "<style scoped>\n",
       "    .dataframe tbody tr th:only-of-type {\n",
       "        vertical-align: middle;\n",
       "    }\n",
       "\n",
       "    .dataframe tbody tr th {\n",
       "        vertical-align: top;\n",
       "    }\n",
       "\n",
       "    .dataframe thead th {\n",
       "        text-align: right;\n",
       "    }\n",
       "</style>\n",
       "<table border=\"1\" class=\"dataframe\">\n",
       "  <thead>\n",
       "    <tr style=\"text-align: right;\">\n",
       "      <th></th>\n",
       "      <th>params</th>\n",
       "      <th>mean_train_score</th>\n",
       "      <th>mean_test_score</th>\n",
       "      <th>diff, %</th>\n",
       "    </tr>\n",
       "  </thead>\n",
       "  <tbody>\n",
       "    <tr>\n",
       "      <th>1</th>\n",
       "      <td>{'max_depth': 30, 'min_samples_split': 9, 'n_estimators': 500}</td>\n",
       "      <td>0.416586</td>\n",
       "      <td>0.328247</td>\n",
       "      <td>21.205488</td>\n",
       "    </tr>\n",
       "    <tr>\n",
       "      <th>9</th>\n",
       "      <td>{'max_depth': 35, 'min_samples_split': 9, 'n_estimators': 200}</td>\n",
       "      <td>0.424315</td>\n",
       "      <td>0.328165</td>\n",
       "      <td>22.660183</td>\n",
       "    </tr>\n",
       "    <tr>\n",
       "      <th>18</th>\n",
       "      <td>{'max_depth': 40, 'min_samples_split': 9, 'n_estimators': 200}</td>\n",
       "      <td>0.426501</td>\n",
       "      <td>0.327964</td>\n",
       "      <td>23.103505</td>\n",
       "    </tr>\n",
       "    <tr>\n",
       "      <th>11</th>\n",
       "      <td>{'max_depth': 35, 'min_samples_split': 9, 'n_estimators': 800}</td>\n",
       "      <td>0.424018</td>\n",
       "      <td>0.327920</td>\n",
       "      <td>22.663825</td>\n",
       "    </tr>\n",
       "    <tr>\n",
       "      <th>10</th>\n",
       "      <td>{'max_depth': 35, 'min_samples_split': 9, 'n_estimators': 500}</td>\n",
       "      <td>0.424767</td>\n",
       "      <td>0.327876</td>\n",
       "      <td>22.810513</td>\n",
       "    </tr>\n",
       "    <tr>\n",
       "      <th>2</th>\n",
       "      <td>{'max_depth': 30, 'min_samples_split': 9, 'n_estimators': 800}</td>\n",
       "      <td>0.417092</td>\n",
       "      <td>0.327625</td>\n",
       "      <td>21.450090</td>\n",
       "    </tr>\n",
       "    <tr>\n",
       "      <th>19</th>\n",
       "      <td>{'max_depth': 40, 'min_samples_split': 9, 'n_estimators': 500}</td>\n",
       "      <td>0.425157</td>\n",
       "      <td>0.327581</td>\n",
       "      <td>22.950628</td>\n",
       "    </tr>\n",
       "    <tr>\n",
       "      <th>20</th>\n",
       "      <td>{'max_depth': 40, 'min_samples_split': 9, 'n_estimators': 800}</td>\n",
       "      <td>0.425532</td>\n",
       "      <td>0.327567</td>\n",
       "      <td>23.021727</td>\n",
       "    </tr>\n",
       "    <tr>\n",
       "      <th>0</th>\n",
       "      <td>{'max_depth': 30, 'min_samples_split': 9, 'n_estimators': 200}</td>\n",
       "      <td>0.416244</td>\n",
       "      <td>0.327419</td>\n",
       "      <td>21.339636</td>\n",
       "    </tr>\n",
       "    <tr>\n",
       "      <th>21</th>\n",
       "      <td>{'max_depth': 40, 'min_samples_split': 11, 'n_estimators': 200}</td>\n",
       "      <td>0.401795</td>\n",
       "      <td>0.326405</td>\n",
       "      <td>18.763307</td>\n",
       "    </tr>\n",
       "    <tr>\n",
       "      <th>12</th>\n",
       "      <td>{'max_depth': 35, 'min_samples_split': 11, 'n_estimators': 200}</td>\n",
       "      <td>0.400380</td>\n",
       "      <td>0.326399</td>\n",
       "      <td>18.477625</td>\n",
       "    </tr>\n",
       "    <tr>\n",
       "      <th>23</th>\n",
       "      <td>{'max_depth': 40, 'min_samples_split': 11, 'n_estimators': 800}</td>\n",
       "      <td>0.400252</td>\n",
       "      <td>0.326382</td>\n",
       "      <td>18.455922</td>\n",
       "    </tr>\n",
       "    <tr>\n",
       "      <th>14</th>\n",
       "      <td>{'max_depth': 35, 'min_samples_split': 11, 'n_estimators': 800}</td>\n",
       "      <td>0.399065</td>\n",
       "      <td>0.326326</td>\n",
       "      <td>18.227568</td>\n",
       "    </tr>\n",
       "    <tr>\n",
       "      <th>22</th>\n",
       "      <td>{'max_depth': 40, 'min_samples_split': 11, 'n_estimators': 500}</td>\n",
       "      <td>0.400794</td>\n",
       "      <td>0.326064</td>\n",
       "      <td>18.645502</td>\n",
       "    </tr>\n",
       "    <tr>\n",
       "      <th>13</th>\n",
       "      <td>{'max_depth': 35, 'min_samples_split': 11, 'n_estimators': 500}</td>\n",
       "      <td>0.399998</td>\n",
       "      <td>0.325973</td>\n",
       "      <td>18.506305</td>\n",
       "    </tr>\n",
       "    <tr>\n",
       "      <th>3</th>\n",
       "      <td>{'max_depth': 30, 'min_samples_split': 11, 'n_estimators': 200}</td>\n",
       "      <td>0.395173</td>\n",
       "      <td>0.325878</td>\n",
       "      <td>17.535295</td>\n",
       "    </tr>\n",
       "    <tr>\n",
       "      <th>4</th>\n",
       "      <td>{'max_depth': 30, 'min_samples_split': 11, 'n_estimators': 500}</td>\n",
       "      <td>0.393724</td>\n",
       "      <td>0.325692</td>\n",
       "      <td>17.279019</td>\n",
       "    </tr>\n",
       "    <tr>\n",
       "      <th>5</th>\n",
       "      <td>{'max_depth': 30, 'min_samples_split': 11, 'n_estimators': 800}</td>\n",
       "      <td>0.393779</td>\n",
       "      <td>0.325477</td>\n",
       "      <td>17.345114</td>\n",
       "    </tr>\n",
       "    <tr>\n",
       "      <th>25</th>\n",
       "      <td>{'max_depth': 40, 'min_samples_split': 14, 'n_estimators': 500}</td>\n",
       "      <td>0.379535</td>\n",
       "      <td>0.324413</td>\n",
       "      <td>14.523501</td>\n",
       "    </tr>\n",
       "    <tr>\n",
       "      <th>16</th>\n",
       "      <td>{'max_depth': 35, 'min_samples_split': 14, 'n_estimators': 500}</td>\n",
       "      <td>0.378554</td>\n",
       "      <td>0.324202</td>\n",
       "      <td>14.357826</td>\n",
       "    </tr>\n",
       "    <tr>\n",
       "      <th>26</th>\n",
       "      <td>{'max_depth': 40, 'min_samples_split': 14, 'n_estimators': 800}</td>\n",
       "      <td>0.379587</td>\n",
       "      <td>0.324060</td>\n",
       "      <td>14.628253</td>\n",
       "    </tr>\n",
       "    <tr>\n",
       "      <th>17</th>\n",
       "      <td>{'max_depth': 35, 'min_samples_split': 14, 'n_estimators': 800}</td>\n",
       "      <td>0.378535</td>\n",
       "      <td>0.323775</td>\n",
       "      <td>14.466322</td>\n",
       "    </tr>\n",
       "    <tr>\n",
       "      <th>24</th>\n",
       "      <td>{'max_depth': 40, 'min_samples_split': 14, 'n_estimators': 200}</td>\n",
       "      <td>0.379023</td>\n",
       "      <td>0.323713</td>\n",
       "      <td>14.592855</td>\n",
       "    </tr>\n",
       "    <tr>\n",
       "      <th>15</th>\n",
       "      <td>{'max_depth': 35, 'min_samples_split': 14, 'n_estimators': 200}</td>\n",
       "      <td>0.379762</td>\n",
       "      <td>0.323464</td>\n",
       "      <td>14.824742</td>\n",
       "    </tr>\n",
       "    <tr>\n",
       "      <th>6</th>\n",
       "      <td>{'max_depth': 30, 'min_samples_split': 14, 'n_estimators': 200}</td>\n",
       "      <td>0.373991</td>\n",
       "      <td>0.323262</td>\n",
       "      <td>13.564410</td>\n",
       "    </tr>\n",
       "    <tr>\n",
       "      <th>7</th>\n",
       "      <td>{'max_depth': 30, 'min_samples_split': 14, 'n_estimators': 500}</td>\n",
       "      <td>0.373500</td>\n",
       "      <td>0.323092</td>\n",
       "      <td>13.495945</td>\n",
       "    </tr>\n",
       "    <tr>\n",
       "      <th>8</th>\n",
       "      <td>{'max_depth': 30, 'min_samples_split': 14, 'n_estimators': 800}</td>\n",
       "      <td>0.373710</td>\n",
       "      <td>0.323006</td>\n",
       "      <td>13.567783</td>\n",
       "    </tr>\n",
       "  </tbody>\n",
       "</table>\n",
       "</div>"
      ],
      "text/plain": [
       "                                                             params  \\\n",
       "1    {'max_depth': 30, 'min_samples_split': 9, 'n_estimators': 500}   \n",
       "9    {'max_depth': 35, 'min_samples_split': 9, 'n_estimators': 200}   \n",
       "18   {'max_depth': 40, 'min_samples_split': 9, 'n_estimators': 200}   \n",
       "11   {'max_depth': 35, 'min_samples_split': 9, 'n_estimators': 800}   \n",
       "10   {'max_depth': 35, 'min_samples_split': 9, 'n_estimators': 500}   \n",
       "2    {'max_depth': 30, 'min_samples_split': 9, 'n_estimators': 800}   \n",
       "19   {'max_depth': 40, 'min_samples_split': 9, 'n_estimators': 500}   \n",
       "20   {'max_depth': 40, 'min_samples_split': 9, 'n_estimators': 800}   \n",
       "0    {'max_depth': 30, 'min_samples_split': 9, 'n_estimators': 200}   \n",
       "21  {'max_depth': 40, 'min_samples_split': 11, 'n_estimators': 200}   \n",
       "12  {'max_depth': 35, 'min_samples_split': 11, 'n_estimators': 200}   \n",
       "23  {'max_depth': 40, 'min_samples_split': 11, 'n_estimators': 800}   \n",
       "14  {'max_depth': 35, 'min_samples_split': 11, 'n_estimators': 800}   \n",
       "22  {'max_depth': 40, 'min_samples_split': 11, 'n_estimators': 500}   \n",
       "13  {'max_depth': 35, 'min_samples_split': 11, 'n_estimators': 500}   \n",
       "3   {'max_depth': 30, 'min_samples_split': 11, 'n_estimators': 200}   \n",
       "4   {'max_depth': 30, 'min_samples_split': 11, 'n_estimators': 500}   \n",
       "5   {'max_depth': 30, 'min_samples_split': 11, 'n_estimators': 800}   \n",
       "25  {'max_depth': 40, 'min_samples_split': 14, 'n_estimators': 500}   \n",
       "16  {'max_depth': 35, 'min_samples_split': 14, 'n_estimators': 500}   \n",
       "26  {'max_depth': 40, 'min_samples_split': 14, 'n_estimators': 800}   \n",
       "17  {'max_depth': 35, 'min_samples_split': 14, 'n_estimators': 800}   \n",
       "24  {'max_depth': 40, 'min_samples_split': 14, 'n_estimators': 200}   \n",
       "15  {'max_depth': 35, 'min_samples_split': 14, 'n_estimators': 200}   \n",
       "6   {'max_depth': 30, 'min_samples_split': 14, 'n_estimators': 200}   \n",
       "7   {'max_depth': 30, 'min_samples_split': 14, 'n_estimators': 500}   \n",
       "8   {'max_depth': 30, 'min_samples_split': 14, 'n_estimators': 800}   \n",
       "\n",
       "    mean_train_score  mean_test_score    diff, %  \n",
       "1           0.416586         0.328247  21.205488  \n",
       "9           0.424315         0.328165  22.660183  \n",
       "18          0.426501         0.327964  23.103505  \n",
       "11          0.424018         0.327920  22.663825  \n",
       "10          0.424767         0.327876  22.810513  \n",
       "2           0.417092         0.327625  21.450090  \n",
       "19          0.425157         0.327581  22.950628  \n",
       "20          0.425532         0.327567  23.021727  \n",
       "0           0.416244         0.327419  21.339636  \n",
       "21          0.401795         0.326405  18.763307  \n",
       "12          0.400380         0.326399  18.477625  \n",
       "23          0.400252         0.326382  18.455922  \n",
       "14          0.399065         0.326326  18.227568  \n",
       "22          0.400794         0.326064  18.645502  \n",
       "13          0.399998         0.325973  18.506305  \n",
       "3           0.395173         0.325878  17.535295  \n",
       "4           0.393724         0.325692  17.279019  \n",
       "5           0.393779         0.325477  17.345114  \n",
       "25          0.379535         0.324413  14.523501  \n",
       "16          0.378554         0.324202  14.357826  \n",
       "26          0.379587         0.324060  14.628253  \n",
       "17          0.378535         0.323775  14.466322  \n",
       "24          0.379023         0.323713  14.592855  \n",
       "15          0.379762         0.323464  14.824742  \n",
       "6           0.373991         0.323262  13.564410  \n",
       "7           0.373500         0.323092  13.495945  \n",
       "8           0.373710         0.323006  13.567783  "
      ]
     },
     "execution_count": 89,
     "metadata": {},
     "output_type": "execute_result"
    }
   ],
   "source": [
    "cv_results = pd.DataFrame(rf_grid_search.cv_results_)[['params', 'mean_train_score', 'mean_test_score']]\n",
    "cv_results[\"diff, %\"] = 100*(cv_results[\"mean_train_score\"]-cv_results[\"mean_test_score\"]\n",
    "                                                     )/cv_results[\"mean_train_score\"]\n",
    "\n",
    "pd.set_option('display.max_colwidth', 100)\n",
    "cv_results.sort_values('mean_test_score', ascending=False)"
   ]
  },
  {
   "cell_type": "markdown",
   "metadata": {},
   "source": [
    "for various combination of hyperparameters of random forest, the model is underfitting.the scores on train and validation set is very low. thus the model here alsois unable to identify the underlying pattern."
   ]
  },
  {
   "cell_type": "code",
   "execution_count": 90,
   "metadata": {},
   "outputs": [
    {
     "name": "stdout",
     "output_type": "stream",
     "text": [
      "Decision tree:\n",
      "Precision: 0.44418240645040763\n",
      "Recall: 0.3445306451394358\n",
      "F score: 0.3278509764045873\n"
     ]
    }
   ],
   "source": [
    "yhat1 = best_rf.predict(Xtest)\n",
    "\n",
    "# micro-averaged precision, recall and f-score\n",
    "p, r, f, s = precision_recall_fscore_support(ytest, yhat1, average=\"macro\")\n",
    "print(\"Decision tree:\")\n",
    "print(f\"Precision: {p}\")\n",
    "print(f\"Recall: {r}\")\n",
    "print(f\"F score: {f}\")"
   ]
  },
  {
   "cell_type": "code",
   "execution_count": 91,
   "metadata": {},
   "outputs": [
    {
     "data": {
      "text/plain": [
       "<sklearn.metrics._plot.confusion_matrix.ConfusionMatrixDisplay at 0x2cd008cf5c8>"
      ]
     },
     "execution_count": 91,
     "metadata": {},
     "output_type": "execute_result"
    },
    {
     "data": {
      "image/png": "[encoded data removed]",
      "text/plain": [
       "<Figure size 432x288 with 2 Axes>"
      ]
     },
     "metadata": {
      "needs_background": "light"
     },
     "output_type": "display_data"
    }
   ],
   "source": [
    "ConfusionMatrixDisplay.from_predictions(ytest, yhat1, labels=best_rf.classes_, \n",
    "                                        xticks_rotation=\"vertical\", normalize=\"true\",\n",
    "                                        cmap=plt.cm.Blues)"
   ]
  },
  {
   "cell_type": "markdown",
   "metadata": {},
   "source": [
    "# K NEIGHBOUR CLASSIFIER"
   ]
  },
  {
   "cell_type": "code",
   "execution_count": 92,
   "metadata": {},
   "outputs": [
    {
     "name": "stdout",
     "output_type": "stream",
     "text": [
      "Fitting 5 folds for each of 6 candidates, totalling 30 fits\n",
      "Took 3368.002560377121 seconds\n"
     ]
    }
   ],
   "source": [
    "from sklearn.neighbors import KNeighborsClassifier\n",
    "knc = KNeighborsClassifier()\n",
    "\n",
    "#provide the values of the hyperparameters. In the grid, there will be 6 combinations\n",
    "param_grid = {\n",
    "    'n_neighbors' : [3,5,8,10,12,14]\n",
    "}\n",
    "\n",
    "# 5-fold cross-validation has been used\n",
    "knc_grid_search = GridSearchCV(knc, param_grid, cv=5,\n",
    "                           scoring='f1_macro', \n",
    "                           return_train_score=True,verbose=1) \n",
    "\n",
    "start = time.time()\n",
    "knc_grid_search.fit(Xtrain, ytrain)\n",
    "end = time.time() - start\n",
    "print(f\"Took {end} seconds\")"
   ]
  },
  {
   "cell_type": "code",
   "execution_count": 93,
   "metadata": {},
   "outputs": [],
   "source": [
    "best_knc = knc_grid_search.best_estimator_"
   ]
  },
  {
   "cell_type": "code",
   "execution_count": 94,
   "metadata": {},
   "outputs": [
    {
     "data": {
      "text/plain": [
       "0.35625887963615327"
      ]
     },
     "execution_count": 94,
     "metadata": {},
     "output_type": "execute_result"
    }
   ],
   "source": [
    "knc_grid_search.best_score_"
   ]
  },
  {
   "cell_type": "code",
   "execution_count": 95,
   "metadata": {},
   "outputs": [
    {
     "data": {
      "text/html": [
       "<div>\n",
       "<style scoped>\n",
       "    .dataframe tbody tr th:only-of-type {\n",
       "        vertical-align: middle;\n",
       "    }\n",
       "\n",
       "    .dataframe tbody tr th {\n",
       "        vertical-align: top;\n",
       "    }\n",
       "\n",
       "    .dataframe thead th {\n",
       "        text-align: right;\n",
       "    }\n",
       "</style>\n",
       "<table border=\"1\" class=\"dataframe\">\n",
       "  <thead>\n",
       "    <tr style=\"text-align: right;\">\n",
       "      <th></th>\n",
       "      <th>params</th>\n",
       "      <th>mean_train_score</th>\n",
       "      <th>mean_test_score</th>\n",
       "      <th>diff, %</th>\n",
       "    </tr>\n",
       "  </thead>\n",
       "  <tbody>\n",
       "    <tr>\n",
       "      <th>0</th>\n",
       "      <td>{'n_neighbors': 3}</td>\n",
       "      <td>0.513298</td>\n",
       "      <td>0.356259</td>\n",
       "      <td>30.594134</td>\n",
       "    </tr>\n",
       "    <tr>\n",
       "      <th>1</th>\n",
       "      <td>{'n_neighbors': 5}</td>\n",
       "      <td>0.427911</td>\n",
       "      <td>0.349512</td>\n",
       "      <td>18.321401</td>\n",
       "    </tr>\n",
       "    <tr>\n",
       "      <th>2</th>\n",
       "      <td>{'n_neighbors': 8}</td>\n",
       "      <td>0.393532</td>\n",
       "      <td>0.345470</td>\n",
       "      <td>12.212985</td>\n",
       "    </tr>\n",
       "    <tr>\n",
       "      <th>3</th>\n",
       "      <td>{'n_neighbors': 10}</td>\n",
       "      <td>0.368186</td>\n",
       "      <td>0.337874</td>\n",
       "      <td>8.232795</td>\n",
       "    </tr>\n",
       "    <tr>\n",
       "      <th>4</th>\n",
       "      <td>{'n_neighbors': 12}</td>\n",
       "      <td>0.353972</td>\n",
       "      <td>0.332698</td>\n",
       "      <td>6.010216</td>\n",
       "    </tr>\n",
       "    <tr>\n",
       "      <th>5</th>\n",
       "      <td>{'n_neighbors': 14}</td>\n",
       "      <td>0.343472</td>\n",
       "      <td>0.328277</td>\n",
       "      <td>4.423760</td>\n",
       "    </tr>\n",
       "  </tbody>\n",
       "</table>\n",
       "</div>"
      ],
      "text/plain": [
       "                params  mean_train_score  mean_test_score    diff, %\n",
       "0   {'n_neighbors': 3}          0.513298         0.356259  30.594134\n",
       "1   {'n_neighbors': 5}          0.427911         0.349512  18.321401\n",
       "2   {'n_neighbors': 8}          0.393532         0.345470  12.212985\n",
       "3  {'n_neighbors': 10}          0.368186         0.337874   8.232795\n",
       "4  {'n_neighbors': 12}          0.353972         0.332698   6.010216\n",
       "5  {'n_neighbors': 14}          0.343472         0.328277   4.423760"
      ]
     },
     "execution_count": 95,
     "metadata": {},
     "output_type": "execute_result"
    }
   ],
   "source": [
    "cv_results = pd.DataFrame(knc_grid_search.cv_results_)[['params', 'mean_train_score', 'mean_test_score']]\n",
    "cv_results[\"diff, %\"] = 100*(cv_results[\"mean_train_score\"]-cv_results[\"mean_test_score\"]\n",
    "                                                     )/cv_results[\"mean_train_score\"]\n",
    "\n",
    "pd.set_option('display.max_colwidth', 100)\n",
    "cv_results.sort_values('mean_test_score', ascending=False)"
   ]
  },
  {
   "cell_type": "code",
   "execution_count": 96,
   "metadata": {},
   "outputs": [
    {
     "name": "stdout",
     "output_type": "stream",
     "text": [
      "Decision tree:\n",
      "Precision: 0.3676789292656837\n",
      "Recall: 0.35902030005152613\n",
      "F score: 0.35608181802517347\n"
     ]
    }
   ],
   "source": [
    "yhat2 = best_knc.predict(Xtest)\n",
    "\n",
    "# micro-averaged precision, recall and f-score\n",
    "p, r, f, s = precision_recall_fscore_support(ytest, yhat2, average=\"macro\")\n",
    "print(\"Decision tree:\")\n",
    "print(f\"Precision: {p}\")\n",
    "print(f\"Recall: {r}\")\n",
    "print(f\"F score: {f}\")"
   ]
  },
  {
   "cell_type": "code",
   "execution_count": 97,
   "metadata": {},
   "outputs": [
    {
     "data": {
      "text/plain": [
       "<sklearn.metrics._plot.confusion_matrix.ConfusionMatrixDisplay at 0x2cd72f80888>"
      ]
     },
     "execution_count": 97,
     "metadata": {},
     "output_type": "execute_result"
    },
    {
     "data": {
      "image/png": "[encoded data removed]",
      "text/plain": [
       "<Figure size 432x288 with 2 Axes>"
      ]
     },
     "metadata": {
      "needs_background": "light"
     },
     "output_type": "display_data"
    }
   ],
   "source": [
    "ConfusionMatrixDisplay.from_predictions(ytest, yhat2, labels=best_knc.classes_, \n",
    "                                        xticks_rotation=\"vertical\", normalize=\"true\",\n",
    "                                        cmap=plt.cm.Blues)"
   ]
  },
  {
   "cell_type": "markdown",
   "metadata": {},
   "source": [
    "# SUPPORT VECTOR MACHINE"
   ]
  },
  {
   "cell_type": "code",
   "execution_count": 19,
   "metadata": {},
   "outputs": [
    {
     "name": "stdout",
     "output_type": "stream",
     "text": [
      "Fitting 5 folds for each of 8 candidates, totalling 40 fits\n",
      "Took 125562.55700993538 seconds\n",
      "Took 125562.55700993538 seconds\n"
     ]
    }
   ],
   "source": [
    "from sklearn.svm import SVC\n",
    "\n",
    "svm = SVC(random_state=7, kernel='rbf')\n",
    "\n",
    "# specify the hyperparameters and their values\n",
    "# 5 combinations in the grid\n",
    "param_grid = {\n",
    "    'C': [ 0.01, 0.1, 1, 10],\n",
    "    'gamma': [\"auto\", 0.1],\n",
    "}\n",
    "\n",
    "# we'll use 5-fold cross-validation\n",
    "svm_grid_search = GridSearchCV(svm, param_grid, cv=5, scoring='f1_macro', return_train_score=True,verbose=1) \n",
    "\n",
    "start = time.time()\n",
    "svm_grid_search.fit(Xtrain, ytrain)\n",
    "end = time.time() - start\n",
    "print(f\"Took {end} seconds\")\n",
    "print(f\"Took {end} seconds\")"
   ]
  },
  {
   "cell_type": "code",
   "execution_count": 20,
   "metadata": {},
   "outputs": [],
   "source": [
    "best_svm = svm_grid_search.best_estimator_"
   ]
  },
  {
   "cell_type": "code",
   "execution_count": 21,
   "metadata": {},
   "outputs": [
    {
     "data": {
      "text/plain": [
       "0.3320579475275768"
      ]
     },
     "execution_count": 21,
     "metadata": {},
     "output_type": "execute_result"
    }
   ],
   "source": [
    "svm_grid_search.best_score_"
   ]
  },
  {
   "cell_type": "code",
   "execution_count": 22,
   "metadata": {},
   "outputs": [
    {
     "data": {
      "text/html": [
       "<div>\n",
       "<style scoped>\n",
       "    .dataframe tbody tr th:only-of-type {\n",
       "        vertical-align: middle;\n",
       "    }\n",
       "\n",
       "    .dataframe tbody tr th {\n",
       "        vertical-align: top;\n",
       "    }\n",
       "\n",
       "    .dataframe thead th {\n",
       "        text-align: right;\n",
       "    }\n",
       "</style>\n",
       "<table border=\"1\" class=\"dataframe\">\n",
       "  <thead>\n",
       "    <tr style=\"text-align: right;\">\n",
       "      <th></th>\n",
       "      <th>params</th>\n",
       "      <th>mean_train_score</th>\n",
       "      <th>mean_test_score</th>\n",
       "      <th>diff, %</th>\n",
       "    </tr>\n",
       "  </thead>\n",
       "  <tbody>\n",
       "    <tr>\n",
       "      <th>7</th>\n",
       "      <td>{'C': 10, 'gamma': 0.1}</td>\n",
       "      <td>0.408867</td>\n",
       "      <td>0.332058</td>\n",
       "      <td>1.878579e+01</td>\n",
       "    </tr>\n",
       "    <tr>\n",
       "      <th>5</th>\n",
       "      <td>{'C': 1, 'gamma': 0.1}</td>\n",
       "      <td>0.336575</td>\n",
       "      <td>0.318793</td>\n",
       "      <td>5.283361e+00</td>\n",
       "    </tr>\n",
       "    <tr>\n",
       "      <th>6</th>\n",
       "      <td>{'C': 10, 'gamma': 'auto'}</td>\n",
       "      <td>0.354517</td>\n",
       "      <td>0.318369</td>\n",
       "      <td>1.019660e+01</td>\n",
       "    </tr>\n",
       "    <tr>\n",
       "      <th>4</th>\n",
       "      <td>{'C': 1, 'gamma': 'auto'}</td>\n",
       "      <td>0.305470</td>\n",
       "      <td>0.304114</td>\n",
       "      <td>4.440746e-01</td>\n",
       "    </tr>\n",
       "    <tr>\n",
       "      <th>3</th>\n",
       "      <td>{'C': 0.1, 'gamma': 0.1}</td>\n",
       "      <td>0.302627</td>\n",
       "      <td>0.302336</td>\n",
       "      <td>9.619269e-02</td>\n",
       "    </tr>\n",
       "    <tr>\n",
       "      <th>0</th>\n",
       "      <td>{'C': 0.01, 'gamma': 'auto'}</td>\n",
       "      <td>0.295050</td>\n",
       "      <td>0.295050</td>\n",
       "      <td>1.485152e-08</td>\n",
       "    </tr>\n",
       "    <tr>\n",
       "      <th>1</th>\n",
       "      <td>{'C': 0.01, 'gamma': 0.1}</td>\n",
       "      <td>0.295050</td>\n",
       "      <td>0.295050</td>\n",
       "      <td>1.485152e-08</td>\n",
       "    </tr>\n",
       "    <tr>\n",
       "      <th>2</th>\n",
       "      <td>{'C': 0.1, 'gamma': 'auto'}</td>\n",
       "      <td>0.295050</td>\n",
       "      <td>0.295050</td>\n",
       "      <td>1.485152e-08</td>\n",
       "    </tr>\n",
       "  </tbody>\n",
       "</table>\n",
       "</div>"
      ],
      "text/plain": [
       "                         params  mean_train_score  mean_test_score  \\\n",
       "7       {'C': 10, 'gamma': 0.1}          0.408867         0.332058   \n",
       "5        {'C': 1, 'gamma': 0.1}          0.336575         0.318793   \n",
       "6    {'C': 10, 'gamma': 'auto'}          0.354517         0.318369   \n",
       "4     {'C': 1, 'gamma': 'auto'}          0.305470         0.304114   \n",
       "3      {'C': 0.1, 'gamma': 0.1}          0.302627         0.302336   \n",
       "0  {'C': 0.01, 'gamma': 'auto'}          0.295050         0.295050   \n",
       "1     {'C': 0.01, 'gamma': 0.1}          0.295050         0.295050   \n",
       "2   {'C': 0.1, 'gamma': 'auto'}          0.295050         0.295050   \n",
       "\n",
       "        diff, %  \n",
       "7  1.878579e+01  \n",
       "5  5.283361e+00  \n",
       "6  1.019660e+01  \n",
       "4  4.440746e-01  \n",
       "3  9.619269e-02  \n",
       "0  1.485152e-08  \n",
       "1  1.485152e-08  \n",
       "2  1.485152e-08  "
      ]
     },
     "execution_count": 22,
     "metadata": {},
     "output_type": "execute_result"
    }
   ],
   "source": [
    "cv_results = pd.DataFrame(svm_grid_search.cv_results_)[['params', 'mean_train_score', 'mean_test_score']]\n",
    "cv_results[\"diff, %\"] = 100*(cv_results[\"mean_train_score\"]-cv_results[\"mean_test_score\"]\n",
    "                                                     )/cv_results[\"mean_train_score\"]\n",
    "\n",
    "pd.set_option('display.max_colwidth', 100)\n",
    "cv_results.sort_values('mean_test_score', ascending=False)"
   ]
  },
  {
   "cell_type": "code",
   "execution_count": 23,
   "metadata": {},
   "outputs": [
    {
     "name": "stdout",
     "output_type": "stream",
     "text": [
      "Decision tree:\n",
      "Precision: 0.8311983064774527\n",
      "Recall: 0.38853815487862203\n",
      "F score: 0.40047113198340584\n"
     ]
    }
   ],
   "source": [
    "yhat3= best_svm.predict(Xtest)\n",
    "\n",
    "# micro-averaged precision, recall and f-score\n",
    "p, r, f, s = precision_recall_fscore_support(ytest, yhat3, average=\"macro\")\n",
    "print(\"Decision tree:\")\n",
    "print(f\"Precision: {p}\")\n",
    "print(f\"Recall: {r}\")\n",
    "print(f\"F score: {f}\")"
   ]
  },
  {
   "cell_type": "code",
   "execution_count": 24,
   "metadata": {},
   "outputs": [
    {
     "data": {
      "text/plain": [
       "<sklearn.metrics._plot.confusion_matrix.ConfusionMatrixDisplay at 0x7fcb33c8b760>"
      ]
     },
     "execution_count": 24,
     "metadata": {},
     "output_type": "execute_result"
    },
    {
     "data": {
      "image/png": "[encoded data removed]",
      "text/plain": [
       "<Figure size 432x288 with 2 Axes>"
      ]
     },
     "metadata": {
      "needs_background": "light"
     },
     "output_type": "display_data"
    }
   ],
   "source": [
    "ConfusionMatrixDisplay.from_predictions(ytest, yhat3, labels=best_svm.classes_, \n",
    "                                        xticks_rotation=\"vertical\", normalize=\"true\",\n",
    "                                        cmap=plt.cm.Blues)"
   ]
  },
  {
   "cell_type": "markdown",
   "metadata": {},
   "source": [
    "# XG BOOST"
   ]
  },
  {
   "cell_type": "code",
   "execution_count": 13,
   "metadata": {},
   "outputs": [
    {
     "name": "stdout",
     "output_type": "stream",
     "text": [
      "Fitting 5 folds for each of 12 candidates, totalling 60 fits\n",
      "Took 6123.209990978241 seconds\n",
      "Took 6123.209990978241 seconds\n"
     ]
    }
   ],
   "source": [
    "from xgboost import XGBClassifier\n",
    "\n",
    "xgb = XGBClassifier(objective='multi:softprob',\n",
    "                                nthread=4,seed=42)\n",
    "\n",
    "# specify the hyperparameters and their values\n",
    "# 5 combinations in the grid\n",
    "param_grid = {\n",
    "    'max_depth':  (2, 10),\n",
    "    'n_estimators': (60, 220, 40),\n",
    "    'learning_rate': [0.1, 0.05]\n",
    "}\n",
    "\n",
    "# we'll use 5-fold cross-validation\n",
    "xgb_grid_search = GridSearchCV(xgb, param_grid, cv=5, scoring='f1_macro', \n",
    "                               return_train_score=True,verbose=1) \n",
    "\n",
    "start = time.time()\n",
    "xgb_grid_search.fit(Xtrain, ytrain)\n",
    "end = time.time() - start\n",
    "print(f\"Took {end} seconds\")\n",
    "print(f\"Took {end} seconds\")"
   ]
  },
  {
   "cell_type": "code",
   "execution_count": 14,
   "metadata": {},
   "outputs": [],
   "source": [
    "best_xgb = xgb_grid_search.best_estimator_"
   ]
  },
  {
   "cell_type": "code",
   "execution_count": 15,
   "metadata": {},
   "outputs": [
    {
     "data": {
      "text/plain": [
       "0.3269753306807723"
      ]
     },
     "execution_count": 15,
     "metadata": {},
     "output_type": "execute_result"
    }
   ],
   "source": [
    "xgb_grid_search.best_score_"
   ]
  },
  {
   "cell_type": "code",
   "execution_count": 16,
   "metadata": {},
   "outputs": [
    {
     "data": {
      "text/html": [
       "<div>\n",
       "<style scoped>\n",
       "    .dataframe tbody tr th:only-of-type {\n",
       "        vertical-align: middle;\n",
       "    }\n",
       "\n",
       "    .dataframe tbody tr th {\n",
       "        vertical-align: top;\n",
       "    }\n",
       "\n",
       "    .dataframe thead th {\n",
       "        text-align: right;\n",
       "    }\n",
       "</style>\n",
       "<table border=\"1\" class=\"dataframe\">\n",
       "  <thead>\n",
       "    <tr style=\"text-align: right;\">\n",
       "      <th></th>\n",
       "      <th>params</th>\n",
       "      <th>mean_train_score</th>\n",
       "      <th>mean_test_score</th>\n",
       "      <th>diff, %</th>\n",
       "    </tr>\n",
       "  </thead>\n",
       "  <tbody>\n",
       "    <tr>\n",
       "      <th>4</th>\n",
       "      <td>{'learning_rate': 0.1, 'max_depth': 10, 'n_estimators': 220}</td>\n",
       "      <td>0.425224</td>\n",
       "      <td>0.326975</td>\n",
       "      <td>2.310514e+01</td>\n",
       "    </tr>\n",
       "    <tr>\n",
       "      <th>10</th>\n",
       "      <td>{'learning_rate': 0.05, 'max_depth': 10, 'n_estimators': 220}</td>\n",
       "      <td>0.375047</td>\n",
       "      <td>0.323533</td>\n",
       "      <td>1.373527e+01</td>\n",
       "    </tr>\n",
       "    <tr>\n",
       "      <th>3</th>\n",
       "      <td>{'learning_rate': 0.1, 'max_depth': 10, 'n_estimators': 60}</td>\n",
       "      <td>0.352420</td>\n",
       "      <td>0.322597</td>\n",
       "      <td>8.462161e+00</td>\n",
       "    </tr>\n",
       "    <tr>\n",
       "      <th>11</th>\n",
       "      <td>{'learning_rate': 0.05, 'max_depth': 10, 'n_estimators': 40}</td>\n",
       "      <td>0.339035</td>\n",
       "      <td>0.321718</td>\n",
       "      <td>5.107823e+00</td>\n",
       "    </tr>\n",
       "    <tr>\n",
       "      <th>9</th>\n",
       "      <td>{'learning_rate': 0.05, 'max_depth': 10, 'n_estimators': 60}</td>\n",
       "      <td>0.341507</td>\n",
       "      <td>0.321493</td>\n",
       "      <td>5.860680e+00</td>\n",
       "    </tr>\n",
       "    <tr>\n",
       "      <th>5</th>\n",
       "      <td>{'learning_rate': 0.1, 'max_depth': 10, 'n_estimators': 40}</td>\n",
       "      <td>0.345345</td>\n",
       "      <td>0.321466</td>\n",
       "      <td>6.914494e+00</td>\n",
       "    </tr>\n",
       "    <tr>\n",
       "      <th>1</th>\n",
       "      <td>{'learning_rate': 0.1, 'max_depth': 2, 'n_estimators': 220}</td>\n",
       "      <td>0.302064</td>\n",
       "      <td>0.301391</td>\n",
       "      <td>2.229130e-01</td>\n",
       "    </tr>\n",
       "    <tr>\n",
       "      <th>7</th>\n",
       "      <td>{'learning_rate': 0.05, 'max_depth': 2, 'n_estimators': 220}</td>\n",
       "      <td>0.295902</td>\n",
       "      <td>0.295605</td>\n",
       "      <td>1.002337e-01</td>\n",
       "    </tr>\n",
       "    <tr>\n",
       "      <th>0</th>\n",
       "      <td>{'learning_rate': 0.1, 'max_depth': 2, 'n_estimators': 60}</td>\n",
       "      <td>0.295050</td>\n",
       "      <td>0.295050</td>\n",
       "      <td>1.485152e-08</td>\n",
       "    </tr>\n",
       "    <tr>\n",
       "      <th>2</th>\n",
       "      <td>{'learning_rate': 0.1, 'max_depth': 2, 'n_estimators': 40}</td>\n",
       "      <td>0.295050</td>\n",
       "      <td>0.295050</td>\n",
       "      <td>1.485152e-08</td>\n",
       "    </tr>\n",
       "    <tr>\n",
       "      <th>6</th>\n",
       "      <td>{'learning_rate': 0.05, 'max_depth': 2, 'n_estimators': 60}</td>\n",
       "      <td>0.295050</td>\n",
       "      <td>0.295050</td>\n",
       "      <td>1.485152e-08</td>\n",
       "    </tr>\n",
       "    <tr>\n",
       "      <th>8</th>\n",
       "      <td>{'learning_rate': 0.05, 'max_depth': 2, 'n_estimators': 40}</td>\n",
       "      <td>0.295050</td>\n",
       "      <td>0.295050</td>\n",
       "      <td>1.485152e-08</td>\n",
       "    </tr>\n",
       "  </tbody>\n",
       "</table>\n",
       "</div>"
      ],
      "text/plain": [
       "                                                           params  \\\n",
       "4    {'learning_rate': 0.1, 'max_depth': 10, 'n_estimators': 220}   \n",
       "10  {'learning_rate': 0.05, 'max_depth': 10, 'n_estimators': 220}   \n",
       "3     {'learning_rate': 0.1, 'max_depth': 10, 'n_estimators': 60}   \n",
       "11   {'learning_rate': 0.05, 'max_depth': 10, 'n_estimators': 40}   \n",
       "9    {'learning_rate': 0.05, 'max_depth': 10, 'n_estimators': 60}   \n",
       "5     {'learning_rate': 0.1, 'max_depth': 10, 'n_estimators': 40}   \n",
       "1     {'learning_rate': 0.1, 'max_depth': 2, 'n_estimators': 220}   \n",
       "7    {'learning_rate': 0.05, 'max_depth': 2, 'n_estimators': 220}   \n",
       "0      {'learning_rate': 0.1, 'max_depth': 2, 'n_estimators': 60}   \n",
       "2      {'learning_rate': 0.1, 'max_depth': 2, 'n_estimators': 40}   \n",
       "6     {'learning_rate': 0.05, 'max_depth': 2, 'n_estimators': 60}   \n",
       "8     {'learning_rate': 0.05, 'max_depth': 2, 'n_estimators': 40}   \n",
       "\n",
       "    mean_train_score  mean_test_score       diff, %  \n",
       "4           0.425224         0.326975  2.310514e+01  \n",
       "10          0.375047         0.323533  1.373527e+01  \n",
       "3           0.352420         0.322597  8.462161e+00  \n",
       "11          0.339035         0.321718  5.107823e+00  \n",
       "9           0.341507         0.321493  5.860680e+00  \n",
       "5           0.345345         0.321466  6.914494e+00  \n",
       "1           0.302064         0.301391  2.229130e-01  \n",
       "7           0.295902         0.295605  1.002337e-01  \n",
       "0           0.295050         0.295050  1.485152e-08  \n",
       "2           0.295050         0.295050  1.485152e-08  \n",
       "6           0.295050         0.295050  1.485152e-08  \n",
       "8           0.295050         0.295050  1.485152e-08  "
      ]
     },
     "execution_count": 16,
     "metadata": {},
     "output_type": "execute_result"
    }
   ],
   "source": [
    "cv_results = pd.DataFrame(xgb_grid_search.cv_results_)[['params', 'mean_train_score', 'mean_test_score']]\n",
    "cv_results[\"diff, %\"] = 100*(cv_results[\"mean_train_score\"]-cv_results[\"mean_test_score\"]\n",
    "                                                     )/cv_results[\"mean_train_score\"]\n",
    "\n",
    "pd.set_option('display.max_colwidth', 100)\n",
    "cv_results.sort_values('mean_test_score', ascending=False)"
   ]
  },
  {
   "cell_type": "code",
   "execution_count": 17,
   "metadata": {},
   "outputs": [
    {
     "name": "stdout",
     "output_type": "stream",
     "text": [
      "Decision tree:\n",
      "Precision: 0.8526556992645933\n",
      "Recall: 0.39053593175613227\n",
      "F score: 0.40393154984640917\n"
     ]
    }
   ],
   "source": [
    "yhat4= best_xgb.predict(Xtest)\n",
    "\n",
    "# micro-averaged precision, recall and f-score\n",
    "p, r, f, s = precision_recall_fscore_support(ytest, yhat4, average=\"macro\")\n",
    "print(\"Decision tree:\")\n",
    "print(f\"Precision: {p}\")\n",
    "print(f\"Recall: {r}\")\n",
    "print(f\"F score: {f}\")"
   ]
  },
  {
   "cell_type": "code",
   "execution_count": 18,
   "metadata": {},
   "outputs": [
    {
     "data": {
      "text/plain": [
       "<sklearn.metrics._plot.confusion_matrix.ConfusionMatrixDisplay at 0x7fcb34666490>"
      ]
     },
     "execution_count": 18,
     "metadata": {},
     "output_type": "execute_result"
    },
    {
     "data": {
      "image/png": "[encoded data removed]",
      "text/plain": [
       "<Figure size 432x288 with 2 Axes>"
      ]
     },
     "metadata": {
      "needs_background": "light"
     },
     "output_type": "display_data"
    }
   ],
   "source": [
    "ConfusionMatrixDisplay.from_predictions(ytest, yhat4, labels=best_xgb.classes_, \n",
    "                                        xticks_rotation=\"vertical\", normalize=\"true\",\n",
    "                                        cmap=plt.cm.Blues)"
   ]
  },
  {
   "cell_type": "markdown",
   "metadata": {},
   "source": [
    "#  LOGISTIC REGRESSION"
   ]
  },
  {
   "cell_type": "code",
   "execution_count": 21,
   "metadata": {
    "scrolled": true
   },
   "outputs": [
    {
     "name": "stdout",
     "output_type": "stream",
     "text": [
      "Fitting 5 folds for each of 15 candidates, totalling 75 fits\n"
     ]
    },
    {
     "name": "stderr",
     "output_type": "stream",
     "text": [
      "C:\\Users\\210185944\\AppData\\Roaming\\Python\\Python37\\site-packages\\sklearn\\model_selection\\_validation.py:372: FitFailedWarning: \n",
      "50 fits failed out of a total of 75.\n",
      "The score on these train-test partitions for these parameters will be set to nan.\n",
      "If these failures are not expected, you can try to debug them by setting error_score='raise'.\n",
      "\n",
      "Below are more details about the failures:\n",
      "--------------------------------------------------------------------------------\n",
      "5 fits failed with the following error:\n",
      "Traceback (most recent call last):\n",
      "  File \"C:\\Users\\210185944\\AppData\\Roaming\\Python\\Python37\\site-packages\\sklearn\\model_selection\\_validation.py\", line 680, in _fit_and_score\n",
      "    estimator.fit(X_train, y_train, **fit_params)\n",
      "  File \"C:\\Users\\210185944\\AppData\\Roaming\\Python\\Python37\\site-packages\\sklearn\\linear_model\\_logistic.py\", line 1461, in fit\n",
      "    solver = _check_solver(self.solver, self.penalty, self.dual)\n",
      "  File \"C:\\Users\\210185944\\AppData\\Roaming\\Python\\Python37\\site-packages\\sklearn\\linear_model\\_logistic.py\", line 449, in _check_solver\n",
      "    % (solver, penalty)\n",
      "ValueError: Solver newton-cg supports only 'l2' or 'none' penalties, got l1 penalty.\n",
      "\n",
      "--------------------------------------------------------------------------------\n",
      "5 fits failed with the following error:\n",
      "Traceback (most recent call last):\n",
      "  File \"C:\\Users\\210185944\\AppData\\Roaming\\Python\\Python37\\site-packages\\sklearn\\model_selection\\_validation.py\", line 680, in _fit_and_score\n",
      "    estimator.fit(X_train, y_train, **fit_params)\n",
      "  File \"C:\\Users\\210185944\\AppData\\Roaming\\Python\\Python37\\site-packages\\sklearn\\linear_model\\_logistic.py\", line 1461, in fit\n",
      "    solver = _check_solver(self.solver, self.penalty, self.dual)\n",
      "  File \"C:\\Users\\210185944\\AppData\\Roaming\\Python\\Python37\\site-packages\\sklearn\\linear_model\\_logistic.py\", line 449, in _check_solver\n",
      "    % (solver, penalty)\n",
      "ValueError: Solver lbfgs supports only 'l2' or 'none' penalties, got l1 penalty.\n",
      "\n",
      "--------------------------------------------------------------------------------\n",
      "5 fits failed with the following error:\n",
      "Traceback (most recent call last):\n",
      "  File \"C:\\Users\\210185944\\AppData\\Roaming\\Python\\Python37\\site-packages\\sklearn\\model_selection\\_validation.py\", line 680, in _fit_and_score\n",
      "    estimator.fit(X_train, y_train, **fit_params)\n",
      "  File \"C:\\Users\\210185944\\AppData\\Roaming\\Python\\Python37\\site-packages\\sklearn\\linear_model\\_logistic.py\", line 1461, in fit\n",
      "    solver = _check_solver(self.solver, self.penalty, self.dual)\n",
      "  File \"C:\\Users\\210185944\\AppData\\Roaming\\Python\\Python37\\site-packages\\sklearn\\linear_model\\_logistic.py\", line 449, in _check_solver\n",
      "    % (solver, penalty)\n",
      "ValueError: Solver sag supports only 'l2' or 'none' penalties, got l1 penalty.\n",
      "\n",
      "--------------------------------------------------------------------------------\n",
      "10 fits failed with the following error:\n",
      "Traceback (most recent call last):\n",
      "  File \"C:\\Users\\210185944\\AppData\\Roaming\\Python\\Python37\\site-packages\\sklearn\\model_selection\\_validation.py\", line 680, in _fit_and_score\n",
      "    estimator.fit(X_train, y_train, **fit_params)\n",
      "  File \"C:\\Users\\210185944\\AppData\\Roaming\\Python\\Python37\\site-packages\\sklearn\\linear_model\\_logistic.py\", line 1519, in fit\n",
      "    multi_class = _check_multi_class(self.multi_class, solver, len(self.classes_))\n",
      "  File \"C:\\Users\\210185944\\AppData\\Roaming\\Python\\Python37\\site-packages\\sklearn\\linear_model\\_logistic.py\", line 483, in _check_multi_class\n",
      "    raise ValueError(\"Solver %s does not support a multinomial backend.\" % solver)\n",
      "ValueError: Solver liblinear does not support a multinomial backend.\n",
      "\n",
      "--------------------------------------------------------------------------------\n",
      "5 fits failed with the following error:\n",
      "Traceback (most recent call last):\n",
      "  File \"C:\\Users\\210185944\\AppData\\Roaming\\Python\\Python37\\site-packages\\sklearn\\model_selection\\_validation.py\", line 680, in _fit_and_score\n",
      "    estimator.fit(X_train, y_train, **fit_params)\n",
      "  File \"C:\\Users\\210185944\\AppData\\Roaming\\Python\\Python37\\site-packages\\sklearn\\linear_model\\_logistic.py\", line 1461, in fit\n",
      "    solver = _check_solver(self.solver, self.penalty, self.dual)\n",
      "  File \"C:\\Users\\210185944\\AppData\\Roaming\\Python\\Python37\\site-packages\\sklearn\\linear_model\\_logistic.py\", line 449, in _check_solver\n",
      "    % (solver, penalty)\n",
      "ValueError: Solver newton-cg supports only 'l2' or 'none' penalties, got elasticnet penalty.\n",
      "\n",
      "--------------------------------------------------------------------------------\n",
      "5 fits failed with the following error:\n",
      "Traceback (most recent call last):\n",
      "  File \"C:\\Users\\210185944\\AppData\\Roaming\\Python\\Python37\\site-packages\\sklearn\\model_selection\\_validation.py\", line 680, in _fit_and_score\n",
      "    estimator.fit(X_train, y_train, **fit_params)\n",
      "  File \"C:\\Users\\210185944\\AppData\\Roaming\\Python\\Python37\\site-packages\\sklearn\\linear_model\\_logistic.py\", line 1461, in fit\n",
      "    solver = _check_solver(self.solver, self.penalty, self.dual)\n",
      "  File \"C:\\Users\\210185944\\AppData\\Roaming\\Python\\Python37\\site-packages\\sklearn\\linear_model\\_logistic.py\", line 449, in _check_solver\n",
      "    % (solver, penalty)\n",
      "ValueError: Solver lbfgs supports only 'l2' or 'none' penalties, got elasticnet penalty.\n",
      "\n",
      "--------------------------------------------------------------------------------\n",
      "5 fits failed with the following error:\n",
      "Traceback (most recent call last):\n",
      "  File \"C:\\Users\\210185944\\AppData\\Roaming\\Python\\Python37\\site-packages\\sklearn\\model_selection\\_validation.py\", line 680, in _fit_and_score\n",
      "    estimator.fit(X_train, y_train, **fit_params)\n",
      "  File \"C:\\Users\\210185944\\AppData\\Roaming\\Python\\Python37\\site-packages\\sklearn\\linear_model\\_logistic.py\", line 1461, in fit\n",
      "    solver = _check_solver(self.solver, self.penalty, self.dual)\n",
      "  File \"C:\\Users\\210185944\\AppData\\Roaming\\Python\\Python37\\site-packages\\sklearn\\linear_model\\_logistic.py\", line 449, in _check_solver\n",
      "    % (solver, penalty)\n",
      "ValueError: Solver sag supports only 'l2' or 'none' penalties, got elasticnet penalty.\n",
      "\n",
      "--------------------------------------------------------------------------------\n",
      "5 fits failed with the following error:\n",
      "Traceback (most recent call last):\n",
      "  File \"C:\\Users\\210185944\\AppData\\Roaming\\Python\\Python37\\site-packages\\sklearn\\model_selection\\_validation.py\", line 680, in _fit_and_score\n",
      "    estimator.fit(X_train, y_train, **fit_params)\n",
      "  File \"C:\\Users\\210185944\\AppData\\Roaming\\Python\\Python37\\site-packages\\sklearn\\linear_model\\_logistic.py\", line 1473, in fit\n",
      "    % self.l1_ratio\n",
      "ValueError: l1_ratio must be between 0 and 1; got (l1_ratio=None)\n",
      "\n",
      "--------------------------------------------------------------------------------\n",
      "5 fits failed with the following error:\n",
      "Traceback (most recent call last):\n",
      "  File \"C:\\Users\\210185944\\AppData\\Roaming\\Python\\Python37\\site-packages\\sklearn\\model_selection\\_validation.py\", line 680, in _fit_and_score\n",
      "    estimator.fit(X_train, y_train, **fit_params)\n",
      "  File \"C:\\Users\\210185944\\AppData\\Roaming\\Python\\Python37\\site-packages\\sklearn\\linear_model\\_logistic.py\", line 1461, in fit\n",
      "    solver = _check_solver(self.solver, self.penalty, self.dual)\n",
      "  File \"C:\\Users\\210185944\\AppData\\Roaming\\Python\\Python37\\site-packages\\sklearn\\linear_model\\_logistic.py\", line 459, in _check_solver\n",
      "    solver\n",
      "ValueError: Only 'saga' solver supports elasticnet penalty, got solver=liblinear.\n",
      "\n",
      "  warnings.warn(some_fits_failed_message, FitFailedWarning)\n",
      "C:\\Users\\210185944\\AppData\\Roaming\\Python\\Python37\\site-packages\\sklearn\\model_selection\\_search.py:972: UserWarning: One or more of the test scores are non-finite: [       nan        nan        nan 0.29508583        nan 0.29508351\n",
      " 0.29508351 0.29508351 0.29508351        nan        nan        nan\n",
      "        nan        nan        nan]\n",
      "  category=UserWarning,\n",
      "C:\\Users\\210185944\\AppData\\Roaming\\Python\\Python37\\site-packages\\sklearn\\model_selection\\_search.py:972: UserWarning: One or more of the train scores are non-finite: [       nan        nan        nan 0.29514376        nan 0.29514376\n",
      " 0.29514318 0.29514376 0.29514376        nan        nan        nan\n",
      "        nan        nan        nan]\n",
      "  category=UserWarning,\n"
     ]
    },
    {
     "name": "stdout",
     "output_type": "stream",
     "text": [
      "Took 205.02627968788147 seconds\n",
      "Took 205.02627968788147 seconds\n"
     ]
    }
   ],
   "source": [
    "from sklearn.linear_model import LogisticRegression\n",
    "\n",
    "lr = LogisticRegression(random_state =7, multi_class = 'multinomial', max_iter=10000)\n",
    "\n",
    "param_grid = {\n",
    " 'penalty':['l1','l2','elasticnet'],\n",
    " 'solver' :['newton-cg','lbfgs','sag','saga','liblinear']\n",
    "}\n",
    "\n",
    "lr_grid_search = GridSearchCV(lr, param_grid, cv=5,scoring='f1_macro',\n",
    "                                    return_train_score=True,n_jobs=-1,verbose = 1)\n",
    "\n",
    "start = time.time()\n",
    "lr_grid_search.fit(Xtrain, ytrain)\n",
    "end = time.time() - start\n",
    "print(f\"Took {end} seconds\")\n",
    "print(f\"Took {end} seconds\")"
   ]
  },
  {
   "cell_type": "code",
   "execution_count": 22,
   "metadata": {},
   "outputs": [],
   "source": [
    "best_lr = lr_grid_search.best_estimator_"
   ]
  },
  {
   "cell_type": "code",
   "execution_count": 23,
   "metadata": {},
   "outputs": [
    {
     "data": {
      "text/plain": [
       "0.2950858315435506"
      ]
     },
     "execution_count": 23,
     "metadata": {},
     "output_type": "execute_result"
    }
   ],
   "source": [
    "lr_grid_search.best_score_"
   ]
  },
  {
   "cell_type": "code",
   "execution_count": 24,
   "metadata": {},
   "outputs": [
    {
     "data": {
      "text/html": [
       "<div>\n",
       "<style scoped>\n",
       "    .dataframe tbody tr th:only-of-type {\n",
       "        vertical-align: middle;\n",
       "    }\n",
       "\n",
       "    .dataframe tbody tr th {\n",
       "        vertical-align: top;\n",
       "    }\n",
       "\n",
       "    .dataframe thead th {\n",
       "        text-align: right;\n",
       "    }\n",
       "</style>\n",
       "<table border=\"1\" class=\"dataframe\">\n",
       "  <thead>\n",
       "    <tr style=\"text-align: right;\">\n",
       "      <th></th>\n",
       "      <th>params</th>\n",
       "      <th>mean_train_score</th>\n",
       "      <th>mean_test_score</th>\n",
       "      <th>diff, %</th>\n",
       "    </tr>\n",
       "  </thead>\n",
       "  <tbody>\n",
       "    <tr>\n",
       "      <th>3</th>\n",
       "      <td>{'penalty': 'l1', 'solver': 'saga'}</td>\n",
       "      <td>0.295144</td>\n",
       "      <td>0.295086</td>\n",
       "      <td>0.019627</td>\n",
       "    </tr>\n",
       "    <tr>\n",
       "      <th>5</th>\n",
       "      <td>{'penalty': 'l2', 'solver': 'newton-cg'}</td>\n",
       "      <td>0.295144</td>\n",
       "      <td>0.295084</td>\n",
       "      <td>0.020412</td>\n",
       "    </tr>\n",
       "    <tr>\n",
       "      <th>6</th>\n",
       "      <td>{'penalty': 'l2', 'solver': 'lbfgs'}</td>\n",
       "      <td>0.295143</td>\n",
       "      <td>0.295084</td>\n",
       "      <td>0.020215</td>\n",
       "    </tr>\n",
       "    <tr>\n",
       "      <th>7</th>\n",
       "      <td>{'penalty': 'l2', 'solver': 'sag'}</td>\n",
       "      <td>0.295144</td>\n",
       "      <td>0.295084</td>\n",
       "      <td>0.020412</td>\n",
       "    </tr>\n",
       "    <tr>\n",
       "      <th>8</th>\n",
       "      <td>{'penalty': 'l2', 'solver': 'saga'}</td>\n",
       "      <td>0.295144</td>\n",
       "      <td>0.295084</td>\n",
       "      <td>0.020412</td>\n",
       "    </tr>\n",
       "    <tr>\n",
       "      <th>0</th>\n",
       "      <td>{'penalty': 'l1', 'solver': 'newton-cg'}</td>\n",
       "      <td>NaN</td>\n",
       "      <td>NaN</td>\n",
       "      <td>NaN</td>\n",
       "    </tr>\n",
       "    <tr>\n",
       "      <th>1</th>\n",
       "      <td>{'penalty': 'l1', 'solver': 'lbfgs'}</td>\n",
       "      <td>NaN</td>\n",
       "      <td>NaN</td>\n",
       "      <td>NaN</td>\n",
       "    </tr>\n",
       "    <tr>\n",
       "      <th>2</th>\n",
       "      <td>{'penalty': 'l1', 'solver': 'sag'}</td>\n",
       "      <td>NaN</td>\n",
       "      <td>NaN</td>\n",
       "      <td>NaN</td>\n",
       "    </tr>\n",
       "    <tr>\n",
       "      <th>4</th>\n",
       "      <td>{'penalty': 'l1', 'solver': 'liblinear'}</td>\n",
       "      <td>NaN</td>\n",
       "      <td>NaN</td>\n",
       "      <td>NaN</td>\n",
       "    </tr>\n",
       "    <tr>\n",
       "      <th>9</th>\n",
       "      <td>{'penalty': 'l2', 'solver': 'liblinear'}</td>\n",
       "      <td>NaN</td>\n",
       "      <td>NaN</td>\n",
       "      <td>NaN</td>\n",
       "    </tr>\n",
       "    <tr>\n",
       "      <th>10</th>\n",
       "      <td>{'penalty': 'elasticnet', 'solver': 'newton-cg'}</td>\n",
       "      <td>NaN</td>\n",
       "      <td>NaN</td>\n",
       "      <td>NaN</td>\n",
       "    </tr>\n",
       "    <tr>\n",
       "      <th>11</th>\n",
       "      <td>{'penalty': 'elasticnet', 'solver': 'lbfgs'}</td>\n",
       "      <td>NaN</td>\n",
       "      <td>NaN</td>\n",
       "      <td>NaN</td>\n",
       "    </tr>\n",
       "    <tr>\n",
       "      <th>12</th>\n",
       "      <td>{'penalty': 'elasticnet', 'solver': 'sag'}</td>\n",
       "      <td>NaN</td>\n",
       "      <td>NaN</td>\n",
       "      <td>NaN</td>\n",
       "    </tr>\n",
       "    <tr>\n",
       "      <th>13</th>\n",
       "      <td>{'penalty': 'elasticnet', 'solver': 'saga'}</td>\n",
       "      <td>NaN</td>\n",
       "      <td>NaN</td>\n",
       "      <td>NaN</td>\n",
       "    </tr>\n",
       "    <tr>\n",
       "      <th>14</th>\n",
       "      <td>{'penalty': 'elasticnet', 'solver': 'liblinear'}</td>\n",
       "      <td>NaN</td>\n",
       "      <td>NaN</td>\n",
       "      <td>NaN</td>\n",
       "    </tr>\n",
       "  </tbody>\n",
       "</table>\n",
       "</div>"
      ],
      "text/plain": [
       "                                              params  mean_train_score  \\\n",
       "3                {'penalty': 'l1', 'solver': 'saga'}          0.295144   \n",
       "5           {'penalty': 'l2', 'solver': 'newton-cg'}          0.295144   \n",
       "6               {'penalty': 'l2', 'solver': 'lbfgs'}          0.295143   \n",
       "7                 {'penalty': 'l2', 'solver': 'sag'}          0.295144   \n",
       "8                {'penalty': 'l2', 'solver': 'saga'}          0.295144   \n",
       "0           {'penalty': 'l1', 'solver': 'newton-cg'}               NaN   \n",
       "1               {'penalty': 'l1', 'solver': 'lbfgs'}               NaN   \n",
       "2                 {'penalty': 'l1', 'solver': 'sag'}               NaN   \n",
       "4           {'penalty': 'l1', 'solver': 'liblinear'}               NaN   \n",
       "9           {'penalty': 'l2', 'solver': 'liblinear'}               NaN   \n",
       "10  {'penalty': 'elasticnet', 'solver': 'newton-cg'}               NaN   \n",
       "11      {'penalty': 'elasticnet', 'solver': 'lbfgs'}               NaN   \n",
       "12        {'penalty': 'elasticnet', 'solver': 'sag'}               NaN   \n",
       "13       {'penalty': 'elasticnet', 'solver': 'saga'}               NaN   \n",
       "14  {'penalty': 'elasticnet', 'solver': 'liblinear'}               NaN   \n",
       "\n",
       "    mean_test_score   diff, %  \n",
       "3          0.295086  0.019627  \n",
       "5          0.295084  0.020412  \n",
       "6          0.295084  0.020215  \n",
       "7          0.295084  0.020412  \n",
       "8          0.295084  0.020412  \n",
       "0               NaN       NaN  \n",
       "1               NaN       NaN  \n",
       "2               NaN       NaN  \n",
       "4               NaN       NaN  \n",
       "9               NaN       NaN  \n",
       "10              NaN       NaN  \n",
       "11              NaN       NaN  \n",
       "12              NaN       NaN  \n",
       "13              NaN       NaN  \n",
       "14              NaN       NaN  "
      ]
     },
     "execution_count": 24,
     "metadata": {},
     "output_type": "execute_result"
    }
   ],
   "source": [
    "cv_results = pd.DataFrame(lr_grid_search.cv_results_)[['params', 'mean_train_score', 'mean_test_score']]\n",
    "cv_results[\"diff, %\"] = 100*(cv_results[\"mean_train_score\"]-cv_results[\"mean_test_score\"]\n",
    "                                                     )/cv_results[\"mean_train_score\"]\n",
    "\n",
    "pd.set_option('display.max_colwidth', 100)\n",
    "cv_results.sort_values('mean_test_score', ascending=False)"
   ]
  },
  {
   "cell_type": "code",
   "execution_count": 25,
   "metadata": {},
   "outputs": [
    {
     "name": "stdout",
     "output_type": "stream",
     "text": [
      "Decision tree:\n",
      "Precision: 0.598607525619964\n",
      "Recall: 0.3334165834165834\n",
      "F score: 0.29560120332247175\n"
     ]
    },
    {
     "name": "stderr",
     "output_type": "stream",
     "text": [
      "C:\\Users\\210185944\\AppData\\Roaming\\Python\\Python37\\site-packages\\sklearn\\metrics\\_classification.py:1318: UndefinedMetricWarning: Precision and F-score are ill-defined and being set to 0.0 in labels with no predicted samples. Use `zero_division` parameter to control this behavior.\n",
      "  _warn_prf(average, modifier, msg_start, len(result))\n"
     ]
    }
   ],
   "source": [
    "yhat5= best_lr.predict(Xtest)\n",
    "\n",
    "# micro-averaged precision, recall and f-score\n",
    "p, r, f, s = precision_recall_fscore_support(ytest, yhat5, average=\"macro\")\n",
    "print(\"Decision tree:\")\n",
    "print(f\"Precision: {p}\")\n",
    "print(f\"Recall: {r}\")\n",
    "print(f\"F score: {f}\")"
   ]
  },
  {
   "cell_type": "code",
   "execution_count": 19,
   "metadata": {},
   "outputs": [
    {
     "data": {
      "text/plain": [
       "<sklearn.metrics._plot.confusion_matrix.ConfusionMatrixDisplay at 0x18717ed1808>"
      ]
     },
     "execution_count": 19,
     "metadata": {},
     "output_type": "execute_result"
    },
    {
     "data": {
      "image/png": "[encoded data removed]",
      "text/plain": [
       "<Figure size 432x288 with 2 Axes>"
      ]
     },
     "metadata": {
      "needs_background": "light"
     },
     "output_type": "display_data"
    }
   ],
   "source": [
    "ConfusionMatrixDisplay.from_predictions(ytest, yhat5, labels=best_lr.classes_, \n",
    "                                        xticks_rotation=\"vertical\", normalize=\"true\",\n",
    "                                        cmap=plt.cm.Blues)"
   ]
  },
  {
   "cell_type": "markdown",
   "metadata": {},
   "source": [
    "## CONCLUSION"
   ]
  },
  {
   "cell_type": "markdown",
   "metadata": {},
   "source": [
    "MODEl COMPARISION:\n",
    "\n",
    "       |        MODEL          |TRAIN F1 SCORE |      TEST F1 SCORE |\n",
    "        -------------------------------------------------------------------------\n",
    "       |     Decision tree     |    0.35       |           0.34     |\n",
    "       |     Random forest     |    0.32       |           0.32     |\n",
    "       | K-neighbour classifier|    0.35       |           0.35     |\n",
    "       |          SVM          |    0.33       |           0.40     |\n",
    "       |        XG boost       |    0.32       |           0.40     |\n",
    "       |  Logistic regression  |    0.29       |           0.29     |\n",
    " \n",
    " \n",
    "It was found that all the models performed poorly or couldn't find the undelying pattern. Logistics regression performed some what similar to the baseline model. Though all the models were better than the baseline model.Some of the combinations of hyperparameters gave Nan results as some of the solvers did not support some of the penalties.\n",
    "\n",
    "We had started by merging two datasets one of vehicle and the other of accidents which summed up to a total of about 216000 rows and 62 columns.Multiple rows and columns which were not considered in the model was dropped.Outliers were removed, missing values and unknown values were also removed which roughly reduced the data to 50%,still the dataset was big enough.In the end we came down to 110000(total fron both train and test set) records.\n",
    "\n",
    "Though there were enough data to train and test on several alogorithms we could not achieve a fairly good model. Training the model on the training set was very slow as the dataset was very big.\n",
    "\n"
   ]
  },
  {
   "cell_type": "markdown",
   "metadata": {},
   "source": [
    "##  FUTURE IMPROVEMENTS"
   ]
  },
  {
   "cell_type": "markdown",
   "metadata": {},
   "source": [
    "Since accidents happen everyday we will  we need to keep adding the dataset and retrain the data on new cases and and retest them regularly. We could have included more variables, could have had more realistic data, as there was huge amount of missing and unknown values which had to be dropped that colud have effected the f1-score.\n",
    "Improvements from the business perspective can also be made, as we saw that from the analysis most of the vehicles involved in the accidents were not only because of human error but changes in the vehicles can also be made such as upgrading to a better breaking system, increasing the turning radius of cars, better and strong windscreens, bringing improvements in tyres which can sustain in different weather and road conditions."
   ]
  },
  {
   "cell_type": "code",
   "execution_count": null,
   "metadata": {},
   "outputs": [],
   "source": []
  }
 ],
 "metadata": {
  "kernelspec": {
   "display_name": "Python 3 (ipykernel)",
   "language": "python",
   "name": "python3"
  },
  "language_info": {
   "codemirror_mode": {
    "name": "ipython",
    "version": 3
   },
   "file_extension": ".py",
   "mimetype": "text/x-python",
   "name": "python",
   "nbconvert_exporter": "python",
   "pygments_lexer": "ipython3",
   "version": "3.8.5"
  }
 },
 "nbformat": 4,
 "nbformat_minor": 4
}
