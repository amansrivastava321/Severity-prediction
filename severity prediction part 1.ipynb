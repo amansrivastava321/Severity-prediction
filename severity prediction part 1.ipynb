{
 "cells": [
  {
   "cell_type": "markdown",
   "metadata": {},
   "source": [
    "# Data Source"
   ]
  },
  {
   "cell_type": "markdown",
   "metadata": {},
   "source": [
    "The UK Department for Transport's data files on UK road safety were used to create the dataset.The files have been taken from this link-https://data.gov.uk/dataset/cb7ae6f0-4be6-4935-9277-47e5ce24a11f/road-safety-data"
   ]
  },
  {
   "cell_type": "markdown",
   "metadata": {},
   "source": [
    "# 1. Business Objective"
   ]
  },
  {
   "cell_type": "markdown",
   "metadata": {},
   "source": [
    "In order to develop better vehicles, our client, a UK-based automaker, needs to create a forecast model to anticipate severity using information about the vehicle and the accident's specifics. Through this report, we are attempting to pinpoint the various variables that have been used as predictors, such as vehicle type, engine size, road surface condition, vehicle manoeuvre, first point of impact, day of the week, weather conditions, vehicle type, etc., that contribute to the various levels of accident severity seen in the UK in 2019. The purpose of this study is to develop predictive models that can select a group of significant characteristics that may be used to categorise the seriousness of an event and support a data analysis. Different machine learning methods are used to generate these models."
   ]
  },
  {
   "cell_type": "markdown",
   "metadata": {},
   "source": [
    "# 2. Preparing the enviornment and importing libraries for the model"
   ]
  },
  {
   "cell_type": "code",
   "execution_count": 1,
   "metadata": {},
   "outputs": [],
   "source": [
    "#importing required libraries\n",
    "import pandas as pd\n",
    "import numpy as np\n",
    "from sklearn.model_selection import train_test_split\n",
    "import seaborn as sns\n",
    "import matplotlib.pyplot as plt\n"
   ]
  },
  {
   "cell_type": "markdown",
   "metadata": {},
   "source": [
    "# 3.Data preparation and preprocessing "
   ]
  },
  {
   "cell_type": "code",
   "execution_count": 2,
   "metadata": {},
   "outputs": [
    {
     "name": "stderr",
     "output_type": "stream",
     "text": [
      "C:\\ProgramData\\Anaconda3_2020\\lib\\site-packages\\IPython\\core\\interactiveshell.py:3063: DtypeWarning: Columns (0,2,35) have mixed types.Specify dtype option on import or set low_memory=False.\n",
      "  interactivity=interactivity, compiler=compiler, result=result)\n"
     ]
    },
    {
     "data": {
      "text/html": [
       "<div>\n",
       "<style scoped>\n",
       "    .dataframe tbody tr th:only-of-type {\n",
       "        vertical-align: middle;\n",
       "    }\n",
       "\n",
       "    .dataframe tbody tr th {\n",
       "        vertical-align: top;\n",
       "    }\n",
       "\n",
       "    .dataframe thead th {\n",
       "        text-align: right;\n",
       "    }\n",
       "</style>\n",
       "<table border=\"1\" class=\"dataframe\">\n",
       "  <thead>\n",
       "    <tr style=\"text-align: right;\">\n",
       "      <th></th>\n",
       "      <th>accident_index</th>\n",
       "      <th>accident_year</th>\n",
       "      <th>accident_reference</th>\n",
       "      <th>location_easting_osgr</th>\n",
       "      <th>location_northing_osgr</th>\n",
       "      <th>longitude</th>\n",
       "      <th>latitude</th>\n",
       "      <th>police_force</th>\n",
       "      <th>accident_severity</th>\n",
       "      <th>number_of_vehicles</th>\n",
       "      <th>...</th>\n",
       "      <th>pedestrian_crossing_physical_facilities</th>\n",
       "      <th>light_conditions</th>\n",
       "      <th>weather_conditions</th>\n",
       "      <th>road_surface_conditions</th>\n",
       "      <th>special_conditions_at_site</th>\n",
       "      <th>carriageway_hazards</th>\n",
       "      <th>urban_or_rural_area</th>\n",
       "      <th>did_police_officer_attend_scene_of_accident</th>\n",
       "      <th>trunk_road_flag</th>\n",
       "      <th>lsoa_of_accident_location</th>\n",
       "    </tr>\n",
       "  </thead>\n",
       "  <tbody>\n",
       "    <tr>\n",
       "      <th>0</th>\n",
       "      <td>2019010128300</td>\n",
       "      <td>2019</td>\n",
       "      <td>10128300</td>\n",
       "      <td>528218.0</td>\n",
       "      <td>180407.0</td>\n",
       "      <td>-0.153842</td>\n",
       "      <td>51.508057</td>\n",
       "      <td>1</td>\n",
       "      <td>3</td>\n",
       "      <td>2</td>\n",
       "      <td>...</td>\n",
       "      <td>5</td>\n",
       "      <td>1</td>\n",
       "      <td>1</td>\n",
       "      <td>1</td>\n",
       "      <td>0</td>\n",
       "      <td>0</td>\n",
       "      <td>1</td>\n",
       "      <td>3</td>\n",
       "      <td>2</td>\n",
       "      <td>E01004762</td>\n",
       "    </tr>\n",
       "    <tr>\n",
       "      <th>1</th>\n",
       "      <td>2019010152270</td>\n",
       "      <td>2019</td>\n",
       "      <td>10152270</td>\n",
       "      <td>530219.0</td>\n",
       "      <td>172463.0</td>\n",
       "      <td>-0.127949</td>\n",
       "      <td>51.436208</td>\n",
       "      <td>1</td>\n",
       "      <td>3</td>\n",
       "      <td>2</td>\n",
       "      <td>...</td>\n",
       "      <td>9</td>\n",
       "      <td>4</td>\n",
       "      <td>1</td>\n",
       "      <td>1</td>\n",
       "      <td>0</td>\n",
       "      <td>0</td>\n",
       "      <td>1</td>\n",
       "      <td>3</td>\n",
       "      <td>2</td>\n",
       "      <td>E01003117</td>\n",
       "    </tr>\n",
       "    <tr>\n",
       "      <th>2</th>\n",
       "      <td>2019010155191</td>\n",
       "      <td>2019</td>\n",
       "      <td>10155191</td>\n",
       "      <td>530222.0</td>\n",
       "      <td>182543.0</td>\n",
       "      <td>-0.124193</td>\n",
       "      <td>51.526795</td>\n",
       "      <td>1</td>\n",
       "      <td>3</td>\n",
       "      <td>2</td>\n",
       "      <td>...</td>\n",
       "      <td>0</td>\n",
       "      <td>4</td>\n",
       "      <td>1</td>\n",
       "      <td>1</td>\n",
       "      <td>0</td>\n",
       "      <td>0</td>\n",
       "      <td>1</td>\n",
       "      <td>1</td>\n",
       "      <td>2</td>\n",
       "      <td>E01000943</td>\n",
       "    </tr>\n",
       "    <tr>\n",
       "      <th>3</th>\n",
       "      <td>2019010155192</td>\n",
       "      <td>2019</td>\n",
       "      <td>10155192</td>\n",
       "      <td>525531.0</td>\n",
       "      <td>184605.0</td>\n",
       "      <td>-0.191044</td>\n",
       "      <td>51.546387</td>\n",
       "      <td>1</td>\n",
       "      <td>2</td>\n",
       "      <td>1</td>\n",
       "      <td>...</td>\n",
       "      <td>0</td>\n",
       "      <td>4</td>\n",
       "      <td>1</td>\n",
       "      <td>1</td>\n",
       "      <td>0</td>\n",
       "      <td>0</td>\n",
       "      <td>1</td>\n",
       "      <td>1</td>\n",
       "      <td>2</td>\n",
       "      <td>E01000973</td>\n",
       "    </tr>\n",
       "    <tr>\n",
       "      <th>4</th>\n",
       "      <td>2019010155194</td>\n",
       "      <td>2019</td>\n",
       "      <td>10155194</td>\n",
       "      <td>524920.0</td>\n",
       "      <td>184004.0</td>\n",
       "      <td>-0.200064</td>\n",
       "      <td>51.541121</td>\n",
       "      <td>1</td>\n",
       "      <td>3</td>\n",
       "      <td>2</td>\n",
       "      <td>...</td>\n",
       "      <td>0</td>\n",
       "      <td>4</td>\n",
       "      <td>1</td>\n",
       "      <td>1</td>\n",
       "      <td>0</td>\n",
       "      <td>0</td>\n",
       "      <td>1</td>\n",
       "      <td>1</td>\n",
       "      <td>2</td>\n",
       "      <td>E01000546</td>\n",
       "    </tr>\n",
       "  </tbody>\n",
       "</table>\n",
       "<p>5 rows × 36 columns</p>\n",
       "</div>"
      ],
      "text/plain": [
       "  accident_index  accident_year accident_reference  location_easting_osgr  \\\n",
       "0  2019010128300           2019           10128300               528218.0   \n",
       "1  2019010152270           2019           10152270               530219.0   \n",
       "2  2019010155191           2019           10155191               530222.0   \n",
       "3  2019010155192           2019           10155192               525531.0   \n",
       "4  2019010155194           2019           10155194               524920.0   \n",
       "\n",
       "   location_northing_osgr  longitude   latitude  police_force  \\\n",
       "0                180407.0  -0.153842  51.508057             1   \n",
       "1                172463.0  -0.127949  51.436208             1   \n",
       "2                182543.0  -0.124193  51.526795             1   \n",
       "3                184605.0  -0.191044  51.546387             1   \n",
       "4                184004.0  -0.200064  51.541121             1   \n",
       "\n",
       "   accident_severity  number_of_vehicles  ...  \\\n",
       "0                  3                   2  ...   \n",
       "1                  3                   2  ...   \n",
       "2                  3                   2  ...   \n",
       "3                  2                   1  ...   \n",
       "4                  3                   2  ...   \n",
       "\n",
       "   pedestrian_crossing_physical_facilities light_conditions  \\\n",
       "0                                        5                1   \n",
       "1                                        9                4   \n",
       "2                                        0                4   \n",
       "3                                        0                4   \n",
       "4                                        0                4   \n",
       "\n",
       "   weather_conditions road_surface_conditions  special_conditions_at_site  \\\n",
       "0                   1                       1                           0   \n",
       "1                   1                       1                           0   \n",
       "2                   1                       1                           0   \n",
       "3                   1                       1                           0   \n",
       "4                   1                       1                           0   \n",
       "\n",
       "  carriageway_hazards urban_or_rural_area  \\\n",
       "0                   0                   1   \n",
       "1                   0                   1   \n",
       "2                   0                   1   \n",
       "3                   0                   1   \n",
       "4                   0                   1   \n",
       "\n",
       "   did_police_officer_attend_scene_of_accident  trunk_road_flag  \\\n",
       "0                                            3                2   \n",
       "1                                            3                2   \n",
       "2                                            1                2   \n",
       "3                                            1                2   \n",
       "4                                            1                2   \n",
       "\n",
       "   lsoa_of_accident_location  \n",
       "0                  E01004762  \n",
       "1                  E01003117  \n",
       "2                  E01000943  \n",
       "3                  E01000973  \n",
       "4                  E01000546  \n",
       "\n",
       "[5 rows x 36 columns]"
      ]
     },
     "execution_count": 2,
     "metadata": {},
     "output_type": "execute_result"
    }
   ],
   "source": [
    "#loading the dataset of accidents\n",
    "df_acc = pd.read_csv(\"H://BIG data//coursework//dft-road-casualty-statistics-accident-2019.csv\")\n",
    "df_acc.head()"
   ]
  },
  {
   "cell_type": "code",
   "execution_count": 3,
   "metadata": {},
   "outputs": [
    {
     "data": {
      "text/plain": [
       "(117536, 36)"
      ]
     },
     "execution_count": 3,
     "metadata": {},
     "output_type": "execute_result"
    }
   ],
   "source": [
    "#determining the dimensions of accident's dataset \n",
    "df_acc.shape"
   ]
  },
  {
   "cell_type": "code",
   "execution_count": 4,
   "metadata": {},
   "outputs": [
    {
     "name": "stderr",
     "output_type": "stream",
     "text": [
      "C:\\ProgramData\\Anaconda3_2020\\lib\\site-packages\\IPython\\core\\interactiveshell.py:3063: DtypeWarning: Columns (0,2) have mixed types.Specify dtype option on import or set low_memory=False.\n",
      "  interactivity=interactivity, compiler=compiler, result=result)\n"
     ]
    },
    {
     "data": {
      "text/html": [
       "<div>\n",
       "<style scoped>\n",
       "    .dataframe tbody tr th:only-of-type {\n",
       "        vertical-align: middle;\n",
       "    }\n",
       "\n",
       "    .dataframe tbody tr th {\n",
       "        vertical-align: top;\n",
       "    }\n",
       "\n",
       "    .dataframe thead th {\n",
       "        text-align: right;\n",
       "    }\n",
       "</style>\n",
       "<table border=\"1\" class=\"dataframe\">\n",
       "  <thead>\n",
       "    <tr style=\"text-align: right;\">\n",
       "      <th></th>\n",
       "      <th>accident_index</th>\n",
       "      <th>accident_year</th>\n",
       "      <th>accident_reference</th>\n",
       "      <th>vehicle_reference</th>\n",
       "      <th>vehicle_type</th>\n",
       "      <th>towing_and_articulation</th>\n",
       "      <th>vehicle_manoeuvre</th>\n",
       "      <th>vehicle_direction_from</th>\n",
       "      <th>vehicle_direction_to</th>\n",
       "      <th>vehicle_location_restricted_lane</th>\n",
       "      <th>...</th>\n",
       "      <th>journey_purpose_of_driver</th>\n",
       "      <th>sex_of_driver</th>\n",
       "      <th>age_of_driver</th>\n",
       "      <th>age_band_of_driver</th>\n",
       "      <th>engine_capacity_cc</th>\n",
       "      <th>propulsion_code</th>\n",
       "      <th>age_of_vehicle</th>\n",
       "      <th>generic_make_model</th>\n",
       "      <th>driver_imd_decile</th>\n",
       "      <th>driver_home_area_type</th>\n",
       "    </tr>\n",
       "  </thead>\n",
       "  <tbody>\n",
       "    <tr>\n",
       "      <th>0</th>\n",
       "      <td>2019010128300</td>\n",
       "      <td>2019</td>\n",
       "      <td>10128300</td>\n",
       "      <td>1</td>\n",
       "      <td>9</td>\n",
       "      <td>0</td>\n",
       "      <td>99</td>\n",
       "      <td>9</td>\n",
       "      <td>9</td>\n",
       "      <td>99</td>\n",
       "      <td>...</td>\n",
       "      <td>6</td>\n",
       "      <td>1</td>\n",
       "      <td>58</td>\n",
       "      <td>9</td>\n",
       "      <td>-1</td>\n",
       "      <td>-1</td>\n",
       "      <td>-1</td>\n",
       "      <td>-1</td>\n",
       "      <td>2</td>\n",
       "      <td>1</td>\n",
       "    </tr>\n",
       "    <tr>\n",
       "      <th>1</th>\n",
       "      <td>2019010128300</td>\n",
       "      <td>2019</td>\n",
       "      <td>10128300</td>\n",
       "      <td>2</td>\n",
       "      <td>9</td>\n",
       "      <td>0</td>\n",
       "      <td>99</td>\n",
       "      <td>9</td>\n",
       "      <td>9</td>\n",
       "      <td>99</td>\n",
       "      <td>...</td>\n",
       "      <td>6</td>\n",
       "      <td>3</td>\n",
       "      <td>-1</td>\n",
       "      <td>-1</td>\n",
       "      <td>-1</td>\n",
       "      <td>-1</td>\n",
       "      <td>-1</td>\n",
       "      <td>-1</td>\n",
       "      <td>2</td>\n",
       "      <td>1</td>\n",
       "    </tr>\n",
       "    <tr>\n",
       "      <th>2</th>\n",
       "      <td>2019010152270</td>\n",
       "      <td>2019</td>\n",
       "      <td>10152270</td>\n",
       "      <td>1</td>\n",
       "      <td>9</td>\n",
       "      <td>0</td>\n",
       "      <td>18</td>\n",
       "      <td>9</td>\n",
       "      <td>9</td>\n",
       "      <td>99</td>\n",
       "      <td>...</td>\n",
       "      <td>6</td>\n",
       "      <td>2</td>\n",
       "      <td>24</td>\n",
       "      <td>5</td>\n",
       "      <td>-1</td>\n",
       "      <td>-1</td>\n",
       "      <td>-1</td>\n",
       "      <td>-1</td>\n",
       "      <td>3</td>\n",
       "      <td>1</td>\n",
       "    </tr>\n",
       "    <tr>\n",
       "      <th>3</th>\n",
       "      <td>2019010152270</td>\n",
       "      <td>2019</td>\n",
       "      <td>10152270</td>\n",
       "      <td>2</td>\n",
       "      <td>9</td>\n",
       "      <td>0</td>\n",
       "      <td>18</td>\n",
       "      <td>9</td>\n",
       "      <td>9</td>\n",
       "      <td>99</td>\n",
       "      <td>...</td>\n",
       "      <td>6</td>\n",
       "      <td>3</td>\n",
       "      <td>-1</td>\n",
       "      <td>-1</td>\n",
       "      <td>-1</td>\n",
       "      <td>-1</td>\n",
       "      <td>-1</td>\n",
       "      <td>-1</td>\n",
       "      <td>6</td>\n",
       "      <td>1</td>\n",
       "    </tr>\n",
       "    <tr>\n",
       "      <th>4</th>\n",
       "      <td>2019010155191</td>\n",
       "      <td>2019</td>\n",
       "      <td>10155191</td>\n",
       "      <td>1</td>\n",
       "      <td>9</td>\n",
       "      <td>0</td>\n",
       "      <td>3</td>\n",
       "      <td>5</td>\n",
       "      <td>1</td>\n",
       "      <td>0</td>\n",
       "      <td>...</td>\n",
       "      <td>6</td>\n",
       "      <td>1</td>\n",
       "      <td>45</td>\n",
       "      <td>7</td>\n",
       "      <td>-1</td>\n",
       "      <td>-1</td>\n",
       "      <td>-1</td>\n",
       "      <td>-1</td>\n",
       "      <td>4</td>\n",
       "      <td>1</td>\n",
       "    </tr>\n",
       "  </tbody>\n",
       "</table>\n",
       "<p>5 rows × 27 columns</p>\n",
       "</div>"
      ],
      "text/plain": [
       "  accident_index  accident_year accident_reference  vehicle_reference  \\\n",
       "0  2019010128300           2019           10128300                  1   \n",
       "1  2019010128300           2019           10128300                  2   \n",
       "2  2019010152270           2019           10152270                  1   \n",
       "3  2019010152270           2019           10152270                  2   \n",
       "4  2019010155191           2019           10155191                  1   \n",
       "\n",
       "   vehicle_type  towing_and_articulation  vehicle_manoeuvre  \\\n",
       "0             9                        0                 99   \n",
       "1             9                        0                 99   \n",
       "2             9                        0                 18   \n",
       "3             9                        0                 18   \n",
       "4             9                        0                  3   \n",
       "\n",
       "   vehicle_direction_from  vehicle_direction_to  \\\n",
       "0                       9                     9   \n",
       "1                       9                     9   \n",
       "2                       9                     9   \n",
       "3                       9                     9   \n",
       "4                       5                     1   \n",
       "\n",
       "   vehicle_location_restricted_lane  ...  journey_purpose_of_driver  \\\n",
       "0                                99  ...                          6   \n",
       "1                                99  ...                          6   \n",
       "2                                99  ...                          6   \n",
       "3                                99  ...                          6   \n",
       "4                                 0  ...                          6   \n",
       "\n",
       "   sex_of_driver  age_of_driver  age_band_of_driver  engine_capacity_cc  \\\n",
       "0              1             58                   9                  -1   \n",
       "1              3             -1                  -1                  -1   \n",
       "2              2             24                   5                  -1   \n",
       "3              3             -1                  -1                  -1   \n",
       "4              1             45                   7                  -1   \n",
       "\n",
       "   propulsion_code  age_of_vehicle  generic_make_model  driver_imd_decile  \\\n",
       "0               -1              -1                  -1                  2   \n",
       "1               -1              -1                  -1                  2   \n",
       "2               -1              -1                  -1                  3   \n",
       "3               -1              -1                  -1                  6   \n",
       "4               -1              -1                  -1                  4   \n",
       "\n",
       "   driver_home_area_type  \n",
       "0                      1  \n",
       "1                      1  \n",
       "2                      1  \n",
       "3                      1  \n",
       "4                      1  \n",
       "\n",
       "[5 rows x 27 columns]"
      ]
     },
     "execution_count": 4,
     "metadata": {},
     "output_type": "execute_result"
    }
   ],
   "source": [
    "#loading vehicle's data set\n",
    "df_veh = pd.read_csv(\"H://BIG data//coursework//dft-road-casualty-statistics-vehicle-2019.csv\")\n",
    "df_veh.head()"
   ]
  },
  {
   "cell_type": "code",
   "execution_count": 5,
   "metadata": {},
   "outputs": [
    {
     "data": {
      "text/plain": [
       "(216381, 27)"
      ]
     },
     "execution_count": 5,
     "metadata": {},
     "output_type": "execute_result"
    }
   ],
   "source": [
    "#finding the dimensions of vehicle data \n",
    "df_veh.shape"
   ]
  },
  {
   "cell_type": "code",
   "execution_count": 6,
   "metadata": {},
   "outputs": [],
   "source": [
    "#merging vehicle and accident datasets as we need data from both the variables and\n",
    "#has been merged using the right join.\n",
    "df = pd.merge(df_acc, df_veh, \n",
    "                   on='accident_index', \n",
    "                   how='right')"
   ]
  },
  {
   "cell_type": "code",
   "execution_count": 7,
   "metadata": {},
   "outputs": [
    {
     "data": {
      "text/plain": [
       "(216381, 62)"
      ]
     },
     "execution_count": 7,
     "metadata": {},
     "output_type": "execute_result"
    }
   ],
   "source": [
    "#finding the dimensions of merged dataset\n",
    "df.shape"
   ]
  },
  {
   "cell_type": "code",
   "execution_count": 8,
   "metadata": {},
   "outputs": [
    {
     "data": {
      "text/html": [
       "<div>\n",
       "<style scoped>\n",
       "    .dataframe tbody tr th:only-of-type {\n",
       "        vertical-align: middle;\n",
       "    }\n",
       "\n",
       "    .dataframe tbody tr th {\n",
       "        vertical-align: top;\n",
       "    }\n",
       "\n",
       "    .dataframe thead th {\n",
       "        text-align: right;\n",
       "    }\n",
       "</style>\n",
       "<table border=\"1\" class=\"dataframe\">\n",
       "  <thead>\n",
       "    <tr style=\"text-align: right;\">\n",
       "      <th></th>\n",
       "      <th>accident_index</th>\n",
       "      <th>accident_year_x</th>\n",
       "      <th>accident_reference_x</th>\n",
       "      <th>location_easting_osgr</th>\n",
       "      <th>location_northing_osgr</th>\n",
       "      <th>longitude</th>\n",
       "      <th>latitude</th>\n",
       "      <th>police_force</th>\n",
       "      <th>accident_severity</th>\n",
       "      <th>number_of_vehicles</th>\n",
       "      <th>...</th>\n",
       "      <th>journey_purpose_of_driver</th>\n",
       "      <th>sex_of_driver</th>\n",
       "      <th>age_of_driver</th>\n",
       "      <th>age_band_of_driver</th>\n",
       "      <th>engine_capacity_cc</th>\n",
       "      <th>propulsion_code</th>\n",
       "      <th>age_of_vehicle</th>\n",
       "      <th>generic_make_model</th>\n",
       "      <th>driver_imd_decile</th>\n",
       "      <th>driver_home_area_type</th>\n",
       "    </tr>\n",
       "  </thead>\n",
       "  <tbody>\n",
       "    <tr>\n",
       "      <th>0</th>\n",
       "      <td>2019010128300</td>\n",
       "      <td>2019.0</td>\n",
       "      <td>10128300</td>\n",
       "      <td>528218.0</td>\n",
       "      <td>180407.0</td>\n",
       "      <td>-0.153842</td>\n",
       "      <td>51.508057</td>\n",
       "      <td>1.0</td>\n",
       "      <td>3.0</td>\n",
       "      <td>2.0</td>\n",
       "      <td>...</td>\n",
       "      <td>6</td>\n",
       "      <td>1</td>\n",
       "      <td>58</td>\n",
       "      <td>9</td>\n",
       "      <td>-1</td>\n",
       "      <td>-1</td>\n",
       "      <td>-1</td>\n",
       "      <td>-1</td>\n",
       "      <td>2</td>\n",
       "      <td>1</td>\n",
       "    </tr>\n",
       "    <tr>\n",
       "      <th>1</th>\n",
       "      <td>2019010128300</td>\n",
       "      <td>2019.0</td>\n",
       "      <td>10128300</td>\n",
       "      <td>528218.0</td>\n",
       "      <td>180407.0</td>\n",
       "      <td>-0.153842</td>\n",
       "      <td>51.508057</td>\n",
       "      <td>1.0</td>\n",
       "      <td>3.0</td>\n",
       "      <td>2.0</td>\n",
       "      <td>...</td>\n",
       "      <td>6</td>\n",
       "      <td>3</td>\n",
       "      <td>-1</td>\n",
       "      <td>-1</td>\n",
       "      <td>-1</td>\n",
       "      <td>-1</td>\n",
       "      <td>-1</td>\n",
       "      <td>-1</td>\n",
       "      <td>2</td>\n",
       "      <td>1</td>\n",
       "    </tr>\n",
       "    <tr>\n",
       "      <th>2</th>\n",
       "      <td>2019010152270</td>\n",
       "      <td>2019.0</td>\n",
       "      <td>10152270</td>\n",
       "      <td>530219.0</td>\n",
       "      <td>172463.0</td>\n",
       "      <td>-0.127949</td>\n",
       "      <td>51.436208</td>\n",
       "      <td>1.0</td>\n",
       "      <td>3.0</td>\n",
       "      <td>2.0</td>\n",
       "      <td>...</td>\n",
       "      <td>6</td>\n",
       "      <td>2</td>\n",
       "      <td>24</td>\n",
       "      <td>5</td>\n",
       "      <td>-1</td>\n",
       "      <td>-1</td>\n",
       "      <td>-1</td>\n",
       "      <td>-1</td>\n",
       "      <td>3</td>\n",
       "      <td>1</td>\n",
       "    </tr>\n",
       "    <tr>\n",
       "      <th>3</th>\n",
       "      <td>2019010152270</td>\n",
       "      <td>2019.0</td>\n",
       "      <td>10152270</td>\n",
       "      <td>530219.0</td>\n",
       "      <td>172463.0</td>\n",
       "      <td>-0.127949</td>\n",
       "      <td>51.436208</td>\n",
       "      <td>1.0</td>\n",
       "      <td>3.0</td>\n",
       "      <td>2.0</td>\n",
       "      <td>...</td>\n",
       "      <td>6</td>\n",
       "      <td>3</td>\n",
       "      <td>-1</td>\n",
       "      <td>-1</td>\n",
       "      <td>-1</td>\n",
       "      <td>-1</td>\n",
       "      <td>-1</td>\n",
       "      <td>-1</td>\n",
       "      <td>6</td>\n",
       "      <td>1</td>\n",
       "    </tr>\n",
       "    <tr>\n",
       "      <th>4</th>\n",
       "      <td>2019010155191</td>\n",
       "      <td>2019.0</td>\n",
       "      <td>10155191</td>\n",
       "      <td>530222.0</td>\n",
       "      <td>182543.0</td>\n",
       "      <td>-0.124193</td>\n",
       "      <td>51.526795</td>\n",
       "      <td>1.0</td>\n",
       "      <td>3.0</td>\n",
       "      <td>2.0</td>\n",
       "      <td>...</td>\n",
       "      <td>6</td>\n",
       "      <td>1</td>\n",
       "      <td>45</td>\n",
       "      <td>7</td>\n",
       "      <td>-1</td>\n",
       "      <td>-1</td>\n",
       "      <td>-1</td>\n",
       "      <td>-1</td>\n",
       "      <td>4</td>\n",
       "      <td>1</td>\n",
       "    </tr>\n",
       "  </tbody>\n",
       "</table>\n",
       "<p>5 rows × 62 columns</p>\n",
       "</div>"
      ],
      "text/plain": [
       "  accident_index  accident_year_x accident_reference_x  location_easting_osgr  \\\n",
       "0  2019010128300           2019.0             10128300               528218.0   \n",
       "1  2019010128300           2019.0             10128300               528218.0   \n",
       "2  2019010152270           2019.0             10152270               530219.0   \n",
       "3  2019010152270           2019.0             10152270               530219.0   \n",
       "4  2019010155191           2019.0             10155191               530222.0   \n",
       "\n",
       "   location_northing_osgr  longitude   latitude  police_force  \\\n",
       "0                180407.0  -0.153842  51.508057           1.0   \n",
       "1                180407.0  -0.153842  51.508057           1.0   \n",
       "2                172463.0  -0.127949  51.436208           1.0   \n",
       "3                172463.0  -0.127949  51.436208           1.0   \n",
       "4                182543.0  -0.124193  51.526795           1.0   \n",
       "\n",
       "   accident_severity  number_of_vehicles  ...  journey_purpose_of_driver  \\\n",
       "0                3.0                 2.0  ...                          6   \n",
       "1                3.0                 2.0  ...                          6   \n",
       "2                3.0                 2.0  ...                          6   \n",
       "3                3.0                 2.0  ...                          6   \n",
       "4                3.0                 2.0  ...                          6   \n",
       "\n",
       "  sex_of_driver  age_of_driver age_band_of_driver  engine_capacity_cc  \\\n",
       "0             1             58                  9                  -1   \n",
       "1             3             -1                 -1                  -1   \n",
       "2             2             24                  5                  -1   \n",
       "3             3             -1                 -1                  -1   \n",
       "4             1             45                  7                  -1   \n",
       "\n",
       "  propulsion_code age_of_vehicle  generic_make_model  driver_imd_decile  \\\n",
       "0              -1             -1                  -1                  2   \n",
       "1              -1             -1                  -1                  2   \n",
       "2              -1             -1                  -1                  3   \n",
       "3              -1             -1                  -1                  6   \n",
       "4              -1             -1                  -1                  4   \n",
       "\n",
       "   driver_home_area_type  \n",
       "0                      1  \n",
       "1                      1  \n",
       "2                      1  \n",
       "3                      1  \n",
       "4                      1  \n",
       "\n",
       "[5 rows x 62 columns]"
      ]
     },
     "execution_count": 8,
     "metadata": {},
     "output_type": "execute_result"
    }
   ],
   "source": [
    "#showing first 5 rows of the merged data set\n",
    "df.head()"
   ]
  },
  {
   "cell_type": "code",
   "execution_count": 9,
   "metadata": {},
   "outputs": [
    {
     "data": {
      "text/plain": [
       "Index(['accident_index', 'accident_year_x', 'accident_reference_x',\n",
       "       'location_easting_osgr', 'location_northing_osgr', 'longitude',\n",
       "       'latitude', 'police_force', 'accident_severity', 'number_of_vehicles',\n",
       "       'number_of_casualties', 'date', 'day_of_week', 'time',\n",
       "       'local_authority_district', 'local_authority_ons_district',\n",
       "       'local_authority_highway', 'first_road_class', 'first_road_number',\n",
       "       'road_type', 'speed_limit', 'junction_detail', 'junction_control',\n",
       "       'second_road_class', 'second_road_number',\n",
       "       'pedestrian_crossing_human_control',\n",
       "       'pedestrian_crossing_physical_facilities', 'light_conditions',\n",
       "       'weather_conditions', 'road_surface_conditions',\n",
       "       'special_conditions_at_site', 'carriageway_hazards',\n",
       "       'urban_or_rural_area', 'did_police_officer_attend_scene_of_accident',\n",
       "       'trunk_road_flag', 'lsoa_of_accident_location', 'accident_year_y',\n",
       "       'accident_reference_y', 'vehicle_reference', 'vehicle_type',\n",
       "       'towing_and_articulation', 'vehicle_manoeuvre',\n",
       "       'vehicle_direction_from', 'vehicle_direction_to',\n",
       "       'vehicle_location_restricted_lane', 'junction_location',\n",
       "       'skidding_and_overturning', 'hit_object_in_carriageway',\n",
       "       'vehicle_leaving_carriageway', 'hit_object_off_carriageway',\n",
       "       'first_point_of_impact', 'vehicle_left_hand_drive',\n",
       "       'journey_purpose_of_driver', 'sex_of_driver', 'age_of_driver',\n",
       "       'age_band_of_driver', 'engine_capacity_cc', 'propulsion_code',\n",
       "       'age_of_vehicle', 'generic_make_model', 'driver_imd_decile',\n",
       "       'driver_home_area_type'],\n",
       "      dtype='object')"
      ]
     },
     "execution_count": 9,
     "metadata": {},
     "output_type": "execute_result"
    }
   ],
   "source": [
    "#showing total columns name in the merged dataset\n",
    "df.columns"
   ]
  },
  {
   "cell_type": "code",
   "execution_count": 10,
   "metadata": {},
   "outputs": [],
   "source": [
    "#deleting columns which are not needed for the model implementation\n",
    "df = df.drop(['accident_index', 'accident_year_x', 'accident_reference_x',\n",
    "       'location_easting_osgr', 'location_northing_osgr','number_of_vehicles',\n",
    "       'number_of_casualties', 'date','time',\n",
    "       'local_authority_district', 'local_authority_ons_district',\n",
    "       'local_authority_highway', 'first_road_class', 'first_road_number','speed_limit', 'junction_detail', 'junction_control',\n",
    "       'second_road_class', 'second_road_number',\n",
    "       'pedestrian_crossing_human_control',\n",
    "       'pedestrian_crossing_physical_facilities', 'light_conditions','special_conditions_at_site', 'carriageway_hazards',\n",
    "       'urban_or_rural_area', 'did_police_officer_attend_scene_of_accident',\n",
    "       'trunk_road_flag', 'lsoa_of_accident_location', 'accident_year_y',\n",
    "       'accident_reference_y', 'vehicle_reference','towing_and_articulation','vehicle_direction_from', 'vehicle_direction_to',\n",
    "       'vehicle_location_restricted_lane','police_force', 'junction_location','hit_object_in_carriageway',\n",
    "       'vehicle_leaving_carriageway', 'hit_object_off_carriageway','vehicle_left_hand_drive',\n",
    "       'journey_purpose_of_driver','age_of_driver','propulsion_code',\n",
    "       'age_of_vehicle', 'generic_make_model', 'driver_imd_decile',\n",
    "       'driver_home_area_type','sex_of_driver','age_band_of_driver','skidding_and_overturning'],axis = 1)"
   ]
  },
  {
   "cell_type": "markdown",
   "metadata": {},
   "source": [
    "Columns that are not necessary to develop the model have been removed through data analysis in accordance with the domain research, leaving just those attributes that are required for the prediction."
   ]
  },
  {
   "cell_type": "code",
   "execution_count": 11,
   "metadata": {},
   "outputs": [
    {
     "data": {
      "text/html": [
       "<div>\n",
       "<style scoped>\n",
       "    .dataframe tbody tr th:only-of-type {\n",
       "        vertical-align: middle;\n",
       "    }\n",
       "\n",
       "    .dataframe tbody tr th {\n",
       "        vertical-align: top;\n",
       "    }\n",
       "\n",
       "    .dataframe thead th {\n",
       "        text-align: right;\n",
       "    }\n",
       "</style>\n",
       "<table border=\"1\" class=\"dataframe\">\n",
       "  <thead>\n",
       "    <tr style=\"text-align: right;\">\n",
       "      <th></th>\n",
       "      <th>longitude</th>\n",
       "      <th>latitude</th>\n",
       "      <th>accident_severity</th>\n",
       "      <th>day_of_week</th>\n",
       "      <th>road_type</th>\n",
       "      <th>weather_conditions</th>\n",
       "      <th>road_surface_conditions</th>\n",
       "      <th>vehicle_type</th>\n",
       "      <th>vehicle_manoeuvre</th>\n",
       "      <th>first_point_of_impact</th>\n",
       "      <th>engine_capacity_cc</th>\n",
       "    </tr>\n",
       "  </thead>\n",
       "  <tbody>\n",
       "    <tr>\n",
       "      <th>0</th>\n",
       "      <td>-0.153842</td>\n",
       "      <td>51.508057</td>\n",
       "      <td>3.0</td>\n",
       "      <td>2.0</td>\n",
       "      <td>1.0</td>\n",
       "      <td>1.0</td>\n",
       "      <td>1.0</td>\n",
       "      <td>9</td>\n",
       "      <td>99</td>\n",
       "      <td>4</td>\n",
       "      <td>-1</td>\n",
       "    </tr>\n",
       "    <tr>\n",
       "      <th>1</th>\n",
       "      <td>-0.153842</td>\n",
       "      <td>51.508057</td>\n",
       "      <td>3.0</td>\n",
       "      <td>2.0</td>\n",
       "      <td>1.0</td>\n",
       "      <td>1.0</td>\n",
       "      <td>1.0</td>\n",
       "      <td>9</td>\n",
       "      <td>99</td>\n",
       "      <td>9</td>\n",
       "      <td>-1</td>\n",
       "    </tr>\n",
       "    <tr>\n",
       "      <th>2</th>\n",
       "      <td>-0.127949</td>\n",
       "      <td>51.436208</td>\n",
       "      <td>3.0</td>\n",
       "      <td>3.0</td>\n",
       "      <td>2.0</td>\n",
       "      <td>1.0</td>\n",
       "      <td>1.0</td>\n",
       "      <td>9</td>\n",
       "      <td>18</td>\n",
       "      <td>1</td>\n",
       "      <td>-1</td>\n",
       "    </tr>\n",
       "    <tr>\n",
       "      <th>3</th>\n",
       "      <td>-0.127949</td>\n",
       "      <td>51.436208</td>\n",
       "      <td>3.0</td>\n",
       "      <td>3.0</td>\n",
       "      <td>2.0</td>\n",
       "      <td>1.0</td>\n",
       "      <td>1.0</td>\n",
       "      <td>9</td>\n",
       "      <td>18</td>\n",
       "      <td>9</td>\n",
       "      <td>-1</td>\n",
       "    </tr>\n",
       "    <tr>\n",
       "      <th>4</th>\n",
       "      <td>-0.124193</td>\n",
       "      <td>51.526795</td>\n",
       "      <td>3.0</td>\n",
       "      <td>3.0</td>\n",
       "      <td>6.0</td>\n",
       "      <td>1.0</td>\n",
       "      <td>1.0</td>\n",
       "      <td>9</td>\n",
       "      <td>3</td>\n",
       "      <td>2</td>\n",
       "      <td>-1</td>\n",
       "    </tr>\n",
       "  </tbody>\n",
       "</table>\n",
       "</div>"
      ],
      "text/plain": [
       "   longitude   latitude  accident_severity  day_of_week  road_type  \\\n",
       "0  -0.153842  51.508057                3.0          2.0        1.0   \n",
       "1  -0.153842  51.508057                3.0          2.0        1.0   \n",
       "2  -0.127949  51.436208                3.0          3.0        2.0   \n",
       "3  -0.127949  51.436208                3.0          3.0        2.0   \n",
       "4  -0.124193  51.526795                3.0          3.0        6.0   \n",
       "\n",
       "   weather_conditions  road_surface_conditions  vehicle_type  \\\n",
       "0                 1.0                      1.0             9   \n",
       "1                 1.0                      1.0             9   \n",
       "2                 1.0                      1.0             9   \n",
       "3                 1.0                      1.0             9   \n",
       "4                 1.0                      1.0             9   \n",
       "\n",
       "   vehicle_manoeuvre  first_point_of_impact  engine_capacity_cc  \n",
       "0                 99                      4                  -1  \n",
       "1                 99                      9                  -1  \n",
       "2                 18                      1                  -1  \n",
       "3                 18                      9                  -1  \n",
       "4                  3                      2                  -1  "
      ]
     },
     "execution_count": 11,
     "metadata": {},
     "output_type": "execute_result"
    }
   ],
   "source": [
    "#printing first 5 rows excluding dropped columns\n",
    "df.head()"
   ]
  },
  {
   "cell_type": "code",
   "execution_count": 12,
   "metadata": {},
   "outputs": [
    {
     "data": {
      "text/plain": [
       "(216381, 11)"
      ]
     },
     "execution_count": 12,
     "metadata": {},
     "output_type": "execute_result"
    }
   ],
   "source": [
    "#determining the size of the merged dataset after dropping the columns which aren't needed\n",
    "df.shape"
   ]
  },
  {
   "cell_type": "code",
   "execution_count": 13,
   "metadata": {},
   "outputs": [],
   "source": [
    "#Replacing values of the variable as per meta data document \n",
    "df.accident_severity = df.accident_severity.replace([1,2,3], ['Fatal', 'Serious', 'Slight'])\n",
    "df.road_type = df.road_type.replace([1,2,3,6,7,12,9],['Roundabout','One way street','Dual carriageway','Single carriageway','Slip road','One way street/Slip road','unknown'])\n",
    "df.day_of_week = df.day_of_week.replace([1,2,3,4,5,6,7],['Sunday','Monday','Tuesday','Wednesday','Thursday','Friday','Saturday'])\n",
    "df.weather_conditions = df.weather_conditions.replace([1,2,3,4,5,6,7,8,9],['Fine no high winds','Raining no high winds','Snowing no high winds','Fine + high winds','Raining + high winds',\n",
    "                                                                          'Snowing + high winds','Fog or mist','Other','unknown'])\n",
    "df.vehicle_type = df.vehicle_type.replace([1,2,3,4,5,8,9,10,11,16,17,18,19,20,21,22,23,90,97,98,99,103,104,105,106,108,109,110,113],['cycle','Motorcycle','Motorcycle','Motorcycle','Motorcycle','car','car','bus','bus','others','goods vehicle','goods vehicle','goods vehicle','goods vehicle','goods vehicle','Motorcycle','Motorcycle','others','Motorcycle','goods vehicle','others','Motorcycle','Motorcycle','Motorcycle','Motorcycle','car','car','bus','good vehicle'])\n",
    "df.vehicle_manoeuvre = df.vehicle_manoeuvre.replace([1,2,3,4,5,6,7,8,9,10,11,12,13,14,15,16,17,18,99],['reversing','parked','stopping','stopping','moving','turning','turning','turning','turning','turning','changing lane','changing lane','overtaking',\n",
    "                                                                                                      'overtaking','overtaking','overtaking','overtaking','overtaking','unknown'])\n",
    "df.first_point_of_impact = df.first_point_of_impact.replace([0,1,2,3,4,9],['no impact','front','back','offside','nearside','unknown'])\n",
    "df.road_surface_conditions = df.road_surface_conditions.replace([1,2,3,4,5,6,7,9],['dry','wet','snow','Frost','Flood','oil/diesel','mud','unknown'])\n"
   ]
  },
  {
   "cell_type": "markdown",
   "metadata": {},
   "source": [
    "According to the meta data document, several of these columns'(accident_severity, road_type, day_of_week, weather_conditions, vehicle_type, vehicle_manoeuvre, first_point_of_impact and road_surface_conditions) numerical values have been swapped out for categorical values to make the data more descriptive and transparent. There were several categories in many variables and has been brought down to less number of categories such as in vehicle type, there were around 29 categories like motorcycle with 250cc, motorcycle with 150cc, electric motorcycle which have been categorised as Motocycle. This had also changed the datatype from interger to object(string). "
   ]
  },
  {
   "cell_type": "code",
   "execution_count": 15,
   "metadata": {},
   "outputs": [
    {
     "data": {
      "text/html": [
       "<div>\n",
       "<style scoped>\n",
       "    .dataframe tbody tr th:only-of-type {\n",
       "        vertical-align: middle;\n",
       "    }\n",
       "\n",
       "    .dataframe tbody tr th {\n",
       "        vertical-align: top;\n",
       "    }\n",
       "\n",
       "    .dataframe thead th {\n",
       "        text-align: right;\n",
       "    }\n",
       "</style>\n",
       "<table border=\"1\" class=\"dataframe\">\n",
       "  <thead>\n",
       "    <tr style=\"text-align: right;\">\n",
       "      <th></th>\n",
       "      <th>longitude</th>\n",
       "      <th>latitude</th>\n",
       "      <th>accident_severity</th>\n",
       "      <th>day_of_week</th>\n",
       "      <th>road_type</th>\n",
       "      <th>weather_conditions</th>\n",
       "      <th>road_surface_conditions</th>\n",
       "      <th>vehicle_type</th>\n",
       "      <th>vehicle_manoeuvre</th>\n",
       "      <th>first_point_of_impact</th>\n",
       "      <th>engine_capacity_cc</th>\n",
       "    </tr>\n",
       "  </thead>\n",
       "  <tbody>\n",
       "    <tr>\n",
       "      <th>0</th>\n",
       "      <td>-0.153842</td>\n",
       "      <td>51.508057</td>\n",
       "      <td>Slight</td>\n",
       "      <td>Monday</td>\n",
       "      <td>Roundabout</td>\n",
       "      <td>Fine no high winds</td>\n",
       "      <td>dry</td>\n",
       "      <td>car</td>\n",
       "      <td>unknown</td>\n",
       "      <td>nearside</td>\n",
       "      <td>-1</td>\n",
       "    </tr>\n",
       "    <tr>\n",
       "      <th>1</th>\n",
       "      <td>-0.153842</td>\n",
       "      <td>51.508057</td>\n",
       "      <td>Slight</td>\n",
       "      <td>Monday</td>\n",
       "      <td>Roundabout</td>\n",
       "      <td>Fine no high winds</td>\n",
       "      <td>dry</td>\n",
       "      <td>car</td>\n",
       "      <td>unknown</td>\n",
       "      <td>unknown</td>\n",
       "      <td>-1</td>\n",
       "    </tr>\n",
       "    <tr>\n",
       "      <th>2</th>\n",
       "      <td>-0.127949</td>\n",
       "      <td>51.436208</td>\n",
       "      <td>Slight</td>\n",
       "      <td>Tuesday</td>\n",
       "      <td>One way street</td>\n",
       "      <td>Fine no high winds</td>\n",
       "      <td>dry</td>\n",
       "      <td>car</td>\n",
       "      <td>overtaking</td>\n",
       "      <td>front</td>\n",
       "      <td>-1</td>\n",
       "    </tr>\n",
       "    <tr>\n",
       "      <th>3</th>\n",
       "      <td>-0.127949</td>\n",
       "      <td>51.436208</td>\n",
       "      <td>Slight</td>\n",
       "      <td>Tuesday</td>\n",
       "      <td>One way street</td>\n",
       "      <td>Fine no high winds</td>\n",
       "      <td>dry</td>\n",
       "      <td>car</td>\n",
       "      <td>overtaking</td>\n",
       "      <td>unknown</td>\n",
       "      <td>-1</td>\n",
       "    </tr>\n",
       "    <tr>\n",
       "      <th>4</th>\n",
       "      <td>-0.124193</td>\n",
       "      <td>51.526795</td>\n",
       "      <td>Slight</td>\n",
       "      <td>Tuesday</td>\n",
       "      <td>Single carriageway</td>\n",
       "      <td>Fine no high winds</td>\n",
       "      <td>dry</td>\n",
       "      <td>car</td>\n",
       "      <td>stopping</td>\n",
       "      <td>back</td>\n",
       "      <td>-1</td>\n",
       "    </tr>\n",
       "  </tbody>\n",
       "</table>\n",
       "</div>"
      ],
      "text/plain": [
       "   longitude   latitude accident_severity day_of_week           road_type  \\\n",
       "0  -0.153842  51.508057            Slight      Monday          Roundabout   \n",
       "1  -0.153842  51.508057            Slight      Monday          Roundabout   \n",
       "2  -0.127949  51.436208            Slight     Tuesday      One way street   \n",
       "3  -0.127949  51.436208            Slight     Tuesday      One way street   \n",
       "4  -0.124193  51.526795            Slight     Tuesday  Single carriageway   \n",
       "\n",
       "   weather_conditions road_surface_conditions vehicle_type vehicle_manoeuvre  \\\n",
       "0  Fine no high winds                     dry          car           unknown   \n",
       "1  Fine no high winds                     dry          car           unknown   \n",
       "2  Fine no high winds                     dry          car        overtaking   \n",
       "3  Fine no high winds                     dry          car        overtaking   \n",
       "4  Fine no high winds                     dry          car          stopping   \n",
       "\n",
       "  first_point_of_impact  engine_capacity_cc  \n",
       "0              nearside                  -1  \n",
       "1               unknown                  -1  \n",
       "2                 front                  -1  \n",
       "3               unknown                  -1  \n",
       "4                  back                  -1  "
      ]
     },
     "execution_count": 15,
     "metadata": {},
     "output_type": "execute_result"
    }
   ],
   "source": [
    "#printing values after altering the values to categorical data\n",
    "df.head()"
   ]
  },
  {
   "cell_type": "markdown",
   "metadata": {},
   "source": [
    "-1 refers to the missing values in the dataset and as the dataset contains about 216000 observations ,so the missing values were converted to null and values and have been dropped."
   ]
  },
  {
   "cell_type": "code",
   "execution_count": 17,
   "metadata": {},
   "outputs": [],
   "source": [
    "#replacing every data having '-1' value with NaN in the dataset \n",
    "df = df.replace(-1,np.NaN)"
   ]
  },
  {
   "cell_type": "code",
   "execution_count": 18,
   "metadata": {},
   "outputs": [
    {
     "data": {
      "text/plain": [
       "longitude                  40767\n",
       "latitude                   40767\n",
       "accident_severity          40716\n",
       "day_of_week                40716\n",
       "road_type                  40716\n",
       "weather_conditions         40716\n",
       "road_surface_conditions    41184\n",
       "vehicle_type                 259\n",
       "vehicle_manoeuvre            592\n",
       "first_point_of_impact        781\n",
       "engine_capacity_cc         54958\n",
       "dtype: int64"
      ]
     },
     "execution_count": 18,
     "metadata": {},
     "output_type": "execute_result"
    }
   ],
   "source": [
    "#identifying the total number of null values in each column \n",
    "df.isnull().sum()"
   ]
  },
  {
   "cell_type": "code",
   "execution_count": 19,
   "metadata": {},
   "outputs": [],
   "source": [
    "#deleting null values \n",
    "df = df.dropna()"
   ]
  },
  {
   "cell_type": "markdown",
   "metadata": {},
   "source": [
    "According to an analysis of the metadata, the values for the -1 labels for categories are unknown or missing. Therefore, all such values are replaced by NaN and then dropped such values."
   ]
  },
  {
   "cell_type": "code",
   "execution_count": 20,
   "metadata": {},
   "outputs": [
    {
     "data": {
      "text/plain": [
       "(129054, 11)"
      ]
     },
     "execution_count": 20,
     "metadata": {},
     "output_type": "execute_result"
    }
   ],
   "source": [
    "#identifying shape of the dataset after deleting null values\n",
    "df.shape"
   ]
  },
  {
   "cell_type": "markdown",
   "metadata": {},
   "source": [
    "## Stratified sampling"
   ]
  },
  {
   "cell_type": "code",
   "execution_count": 17,
   "metadata": {},
   "outputs": [
    {
     "data": {
      "text/plain": [
       "Slight     140887\n",
       "Serious     32236\n",
       "Fatal        2542\n",
       "Name: accident_severity, dtype: int64"
      ]
     },
     "execution_count": 17,
     "metadata": {},
     "output_type": "execute_result"
    }
   ],
   "source": [
    "#counting the number of accidents as per severity classes\n",
    "df.accident_severity.value_counts()"
   ]
  },
  {
   "cell_type": "code",
   "execution_count": 18,
   "metadata": {},
   "outputs": [
    {
     "data": {
      "text/plain": [
       "Text(0.5, 0, 'Severity')"
      ]
     },
     "execution_count": 18,
     "metadata": {},
     "output_type": "execute_result"
    },
    {
     "data": {
      "image/png": "[encoded data removed]",
      "text/plain": [
       "<Figure size 432x288 with 1 Axes>"
      ]
     },
     "metadata": {
      "needs_background": "light"
     },
     "output_type": "display_data"
    }
   ],
   "source": [
    "#plotting bar graph between accident severity and number of accidents \n",
    "df[\"accident_severity\"].value_counts().plot(kind=\"bar\", rot=0)\n",
    "plt.title('Number of accidents against seriousness of accident' , fontsize= 20)\n",
    "plt.ylabel('Accident count' , fontsize = 13)\n",
    "plt.xlabel('Severity', fontsize = 13)"
   ]
  },
  {
   "cell_type": "markdown",
   "metadata": {},
   "source": [
    "Here, it can be seen that the bulk of accidents that happened in 2019 had a mild severity, totalling 140887, while the number of fatal accidents was relatively low, at 2542."
   ]
  },
  {
   "cell_type": "code",
   "execution_count": 21,
   "metadata": {},
   "outputs": [
    {
     "name": "stdout",
     "output_type": "stream",
     "text": [
      "103243 train and 25811 test instances\n"
     ]
    }
   ],
   "source": [
    "#Splitting dataset into train and test instances\n",
    "train_set,test_set = train_test_split(df, test_size=0.2, random_state=7,stratify=df[\"accident_severity\"])\n",
    "print(f\"{train_set.shape[0]} train and {test_set.shape[0]} test instances\")"
   ]
  },
  {
   "cell_type": "markdown",
   "metadata": {},
   "source": [
    "# EXPLORATORY DATA ANALYSIS"
   ]
  },
  {
   "cell_type": "code",
   "execution_count": 22,
   "metadata": {},
   "outputs": [],
   "source": [
    "#The data set contained unknown values which have been dropped from the train set\n",
    "train_set = train_set[~train_set.isin(['unknown']).any(axis=1)]"
   ]
  },
  {
   "cell_type": "code",
   "execution_count": 23,
   "metadata": {},
   "outputs": [
    {
     "data": {
      "text/plain": [
       "(95169, 11)"
      ]
     },
     "execution_count": 23,
     "metadata": {},
     "output_type": "execute_result"
    }
   ],
   "source": [
    "#identifying the size of train set\n",
    "train_set.shape"
   ]
  },
  {
   "cell_type": "code",
   "execution_count": 24,
   "metadata": {},
   "outputs": [],
   "source": [
    "##The data set contained unknown values which have been dropped from the test set\n",
    "test_set = test_set[~test_set.isin(['unknown']).any(axis=1)]"
   ]
  },
  {
   "cell_type": "code",
   "execution_count": 25,
   "metadata": {},
   "outputs": [
    {
     "data": {
      "text/plain": [
       "(23790, 11)"
      ]
     },
     "execution_count": 25,
     "metadata": {},
     "output_type": "execute_result"
    }
   ],
   "source": [
    "#finding shape of test set\n",
    "test_set.shape"
   ]
  },
  {
   "cell_type": "code",
   "execution_count": 26,
   "metadata": {},
   "outputs": [
    {
     "name": "stdout",
     "output_type": "stream",
     "text": [
      "<class 'pandas.core.frame.DataFrame'>\n",
      "Int64Index: 95169 entries, 174130 to 100784\n",
      "Data columns (total 11 columns):\n",
      " #   Column                   Non-Null Count  Dtype  \n",
      "---  ------                   --------------  -----  \n",
      " 0   longitude                95169 non-null  float64\n",
      " 1   latitude                 95169 non-null  float64\n",
      " 2   accident_severity        95169 non-null  object \n",
      " 3   day_of_week              95169 non-null  object \n",
      " 4   road_type                95169 non-null  object \n",
      " 5   weather_conditions       95169 non-null  object \n",
      " 6   road_surface_conditions  95169 non-null  object \n",
      " 7   vehicle_type             95169 non-null  object \n",
      " 8   vehicle_manoeuvre        95169 non-null  object \n",
      " 9   first_point_of_impact    95169 non-null  object \n",
      " 10  engine_capacity_cc       95169 non-null  float64\n",
      "dtypes: float64(3), object(8)\n",
      "memory usage: 8.7+ MB\n"
     ]
    }
   ],
   "source": [
    "#describing information including column name, count of non null values in each column and their data type for train_set \n",
    "train_set.info()"
   ]
  },
  {
   "cell_type": "markdown",
   "metadata": {},
   "source": [
    "# Descriptive Statistics"
   ]
  },
  {
   "cell_type": "code",
   "execution_count": 27,
   "metadata": {},
   "outputs": [
    {
     "data": {
      "text/html": [
       "<div>\n",
       "<style scoped>\n",
       "    .dataframe tbody tr th:only-of-type {\n",
       "        vertical-align: middle;\n",
       "    }\n",
       "\n",
       "    .dataframe tbody tr th {\n",
       "        vertical-align: top;\n",
       "    }\n",
       "\n",
       "    .dataframe thead th {\n",
       "        text-align: right;\n",
       "    }\n",
       "</style>\n",
       "<table border=\"1\" class=\"dataframe\">\n",
       "  <thead>\n",
       "    <tr style=\"text-align: right;\">\n",
       "      <th></th>\n",
       "      <th>accident_severity</th>\n",
       "      <th>day_of_week</th>\n",
       "      <th>road_type</th>\n",
       "      <th>weather_conditions</th>\n",
       "      <th>road_surface_conditions</th>\n",
       "      <th>vehicle_type</th>\n",
       "      <th>vehicle_manoeuvre</th>\n",
       "      <th>first_point_of_impact</th>\n",
       "    </tr>\n",
       "  </thead>\n",
       "  <tbody>\n",
       "    <tr>\n",
       "      <th>count</th>\n",
       "      <td>95169</td>\n",
       "      <td>95169</td>\n",
       "      <td>95169</td>\n",
       "      <td>95169</td>\n",
       "      <td>95169</td>\n",
       "      <td>95169</td>\n",
       "      <td>95169</td>\n",
       "      <td>95169</td>\n",
       "    </tr>\n",
       "    <tr>\n",
       "      <th>unique</th>\n",
       "      <td>3</td>\n",
       "      <td>7</td>\n",
       "      <td>5</td>\n",
       "      <td>8</td>\n",
       "      <td>5</td>\n",
       "      <td>5</td>\n",
       "      <td>7</td>\n",
       "      <td>5</td>\n",
       "    </tr>\n",
       "    <tr>\n",
       "      <th>top</th>\n",
       "      <td>Slight</td>\n",
       "      <td>Friday</td>\n",
       "      <td>Single carriageway</td>\n",
       "      <td>Fine no high winds</td>\n",
       "      <td>dry</td>\n",
       "      <td>car</td>\n",
       "      <td>overtaking</td>\n",
       "      <td>front</td>\n",
       "    </tr>\n",
       "    <tr>\n",
       "      <th>freq</th>\n",
       "      <td>75263</td>\n",
       "      <td>15804</td>\n",
       "      <td>69164</td>\n",
       "      <td>77259</td>\n",
       "      <td>66369</td>\n",
       "      <td>76620</td>\n",
       "      <td>55149</td>\n",
       "      <td>49357</td>\n",
       "    </tr>\n",
       "  </tbody>\n",
       "</table>\n",
       "</div>"
      ],
      "text/plain": [
       "       accident_severity day_of_week           road_type  weather_conditions  \\\n",
       "count              95169       95169               95169               95169   \n",
       "unique                 3           7                   5                   8   \n",
       "top               Slight      Friday  Single carriageway  Fine no high winds   \n",
       "freq               75263       15804               69164               77259   \n",
       "\n",
       "       road_surface_conditions vehicle_type vehicle_manoeuvre  \\\n",
       "count                    95169        95169             95169   \n",
       "unique                       5            5                 7   \n",
       "top                        dry          car        overtaking   \n",
       "freq                     66369        76620             55149   \n",
       "\n",
       "       first_point_of_impact  \n",
       "count                  95169  \n",
       "unique                     5  \n",
       "top                    front  \n",
       "freq                   49357  "
      ]
     },
     "execution_count": 27,
     "metadata": {},
     "output_type": "execute_result"
    }
   ],
   "source": [
    "#describing categorical variable in the train set\n",
    "train_set.describe(exclude = ['float', 'int64']) "
   ]
  },
  {
   "cell_type": "markdown",
   "metadata": {},
   "source": [
    "The statistical description of categorical values show that friday was the day when most of the accidents had taken place with high winds and dry surface condition. Most of the accidnets had taken place because of overtaking and the first point of contact for most of the vehicles was the front side."
   ]
  },
  {
   "cell_type": "code",
   "execution_count": 28,
   "metadata": {},
   "outputs": [
    {
     "data": {
      "text/plain": [
       "count    95169.000000\n",
       "mean      1856.143429\n",
       "std       1617.282103\n",
       "min          2.000000\n",
       "25%       1242.000000\n",
       "50%       1596.000000\n",
       "75%       1995.000000\n",
       "max      29980.000000\n",
       "Name: engine_capacity_cc, dtype: float64"
      ]
     },
     "execution_count": 28,
     "metadata": {},
     "output_type": "execute_result"
    }
   ],
   "source": [
    "#showing the stastical analysis of engine_capcity_cc column \n",
    "train_set['engine_capacity_cc'].describe()"
   ]
  },
  {
   "cell_type": "markdown",
   "metadata": {},
   "source": [
    "As engine capacacity is a continuous variable, it has been separately statistically analysed. We can infer that most of the vehicles involved in the accidents were of the capacity 1856 cc. The maximum engine capacity as found to be 29980 suggest that it could be an expensive car involved in the accident such as sports car,SUV, high end luxury cars. The minimum engine capacity is of 2cc which is a non realsitic data and thus, had to be removed. There were a total of 95169 engines involved in the accident suggests that there could be various type of automotive involved such as cars, buses, motorcycles, goods vehicles etc."
   ]
  },
  {
   "cell_type": "markdown",
   "metadata": {},
   "source": [
    "## VISUALIZATIONS"
   ]
  },
  {
   "cell_type": "code",
   "execution_count": 29,
   "metadata": {},
   "outputs": [
    {
     "data": {
      "text/plain": [
       "<matplotlib.axes._subplots.AxesSubplot at 0x2309aa6a3c8>"
      ]
     },
     "execution_count": 29,
     "metadata": {},
     "output_type": "execute_result"
    },
    {
     "data": {
      "image/png": "[encoded data removed]",
      "text/plain": [
       "<Figure size 432x504 with 1 Axes>"
      ]
     },
     "metadata": {
      "needs_background": "light"
     },
     "output_type": "display_data"
    }
   ],
   "source": [
    "#constructing plot between longitute and latitude \n",
    "plt.rcParams['figure.figsize'] = (6, 7)\n",
    "sns.scatterplot(x=train_set['longitude'], y=train_set['latitude'], size=0.001)"
   ]
  },
  {
   "cell_type": "code",
   "execution_count": 30,
   "metadata": {},
   "outputs": [
    {
     "data": {
      "text/plain": [
       "Slight     75263\n",
       "Serious    18269\n",
       "Fatal       1637\n",
       "Name: accident_severity, dtype: int64"
      ]
     },
     "execution_count": 30,
     "metadata": {},
     "output_type": "execute_result"
    }
   ],
   "source": [
    "train_set['accident_severity'].value_counts()"
   ]
  },
  {
   "cell_type": "markdown",
   "metadata": {},
   "source": [
    "It can be observed that the majority of accidents took place in the longitude region from -3 to -1 and latitude region from 52 to 54. "
   ]
  },
  {
   "cell_type": "code",
   "execution_count": 31,
   "metadata": {},
   "outputs": [
    {
     "data": {
      "image/png": "[encoded data removed]",
      "text/plain": [
       "<Figure size 455.875x360 with 1 Axes>"
      ]
     },
     "metadata": {
      "needs_background": "light"
     },
     "output_type": "display_data"
    }
   ],
   "source": [
    "#importing library which uses Matplotlib to plot graphs\n",
    "import seaborn as sns\n",
    "sns.lmplot('longitude', 'latitude', data=train_set, hue='accident_severity', fit_reg=False, palette=\"viridis\")\n",
    "plt.show()"
   ]
  },
  {
   "cell_type": "markdown",
   "metadata": {},
   "source": [
    "The plot depicts the accidents that had happened across UK in 2019.It is evident that most accidents have less severity and have been categorised as slight where as the severity of high seriousness which could involve deaths have been categorised as fatal that is the least frequent.There is an other category of accidents called serious that has been overlapped by fatal in the plot which is about 17000."
   ]
  },
  {
   "cell_type": "markdown",
   "metadata": {},
   "source": [
    "## Visualising count of accidents against vehicle type"
   ]
  },
  {
   "cell_type": "code",
   "execution_count": 32,
   "metadata": {},
   "outputs": [
    {
     "data": {
      "text/plain": [
       "Text(0.5, 0, 'Vehicle type')"
      ]
     },
     "execution_count": 32,
     "metadata": {},
     "output_type": "execute_result"
    },
    {
     "data": {
      "image/png": "[encoded data removed]",
      "text/plain": [
       "<Figure size 864x432 with 1 Axes>"
      ]
     },
     "metadata": {
      "needs_background": "light"
     },
     "output_type": "display_data"
    }
   ],
   "source": [
    "#plotting graph between counts of accident and type of vehicle \n",
    "plt.figure(figsize=(12,6))\n",
    "train_set.vehicle_type.hist(bins=7,rwidth=0.55,alpha=0.5, color= 'blue')\n",
    "plt.title('number of accicents per vehicle type' , fontsize= 30)\n",
    "plt.grid(False)\n",
    "plt.ylabel('Accident count' , fontsize = 20)\n",
    "plt.xlabel('Vehicle type', fontsize = 13)"
   ]
  },
  {
   "cell_type": "markdown",
   "metadata": {},
   "source": [
    "The bar plot shows that the majority of accidents, or about 77000 of them, have involved cars. On the other hand, only a small number of motorcycle and goods vehicle were involed in the accident, which contribute to about 7000 and 10,000 accidents, respectively. Contrarily, accidents involving other vehicles are rather insignificant."
   ]
  },
  {
   "cell_type": "markdown",
   "metadata": {},
   "source": [
    "## Visualising count of accidents against the day of a week"
   ]
  },
  {
   "cell_type": "code",
   "execution_count": 33,
   "metadata": {},
   "outputs": [
    {
     "data": {
      "text/plain": [
       "Text(0.5, 0, 'Day of the week')"
      ]
     },
     "execution_count": 33,
     "metadata": {},
     "output_type": "execute_result"
    },
    {
     "data": {
      "image/png": "[encoded data removed]",
      "text/plain": [
       "<Figure size 864x432 with 1 Axes>"
      ]
     },
     "metadata": {
      "needs_background": "light"
     },
     "output_type": "display_data"
    }
   ],
   "source": [
    "#plotting graph between number of accidents and day of the week\n",
    "plt.figure(figsize=(12,6))\n",
    "train_set.day_of_week.hist(bins=7,rwidth=0.55,alpha=0.5, color= 'blue')\n",
    "plt.title('Accidents on the day of a week' , fontsize= 30)\n",
    "plt.grid(False)\n",
    "plt.ylabel('Accident count' , fontsize = 20)\n",
    "plt.xlabel('Day of the week', fontsize = 13)"
   ]
  },
  {
   "cell_type": "markdown",
   "metadata": {},
   "source": [
    "Although the graph above gives the impression that accidents occur every day of the week at roughly the same rate, the day with the most accidents is Friday which accounts around 15500 accidents, closely followed by Wednesday and Thursday. Sunday is the day with the fewest accidents.on sunday has the lowest number of accidents suggesting that less number of people go out on holidays."
   ]
  },
  {
   "cell_type": "markdown",
   "metadata": {},
   "source": [
    "## Visualising count of accidents against the engine capacity"
   ]
  },
  {
   "cell_type": "code",
   "execution_count": 34,
   "metadata": {},
   "outputs": [
    {
     "data": {
      "image/png": "[encoded data removed]",
      "text/plain": [
       "<Figure size 576x360 with 1 Axes>"
      ]
     },
     "metadata": {
      "needs_background": "light"
     },
     "output_type": "display_data"
    }
   ],
   "source": [
    "#creating a plot between accident count and engine capacity cc \n",
    "train_set['engine_capacity_cc'].hist(figsize=(8,5))\n",
    "plt.tight_layout()\n",
    "plt.title('Number of accidents on the basis of engine capacity' , fontsize= 20)\n",
    "plt.ylabel('Accident count' , fontsize = 13)\n",
    "plt.xlabel('engine_capacity_cc', fontsize = 13)\n",
    "plt.show()"
   ]
  },
  {
   "cell_type": "markdown",
   "metadata": {},
   "source": [
    "It is evident from the graph above that more accidents involved the vehicles with the smallest engine sizes. For vehicles with more than 2500 CC, there has been a significant decrease in accidents. The graph has a right skew. For vehicles with an engine capacity of 15,000 or more, there have been no accidents.This also suggests that there are outliers in the data and also a transformation has to be applied."
   ]
  },
  {
   "cell_type": "markdown",
   "metadata": {},
   "source": [
    "## Visualizing count of accident against accident severity and road type"
   ]
  },
  {
   "cell_type": "code",
   "execution_count": 35,
   "metadata": {},
   "outputs": [
    {
     "data": {
      "text/plain": [
       "Text(0.5, 0, 'Road type')"
      ]
     },
     "execution_count": 35,
     "metadata": {},
     "output_type": "execute_result"
    },
    {
     "data": {
      "image/png": "[encoded data removed]",
      "text/plain": [
       "<Figure size 864x432 with 1 Axes>"
      ]
     },
     "metadata": {
      "needs_background": "light"
     },
     "output_type": "display_data"
    }
   ],
   "source": [
    "#plotting bar graph between accident count and road type\n",
    "plt.figure(figsize=(12,6))\n",
    "train_set.road_type.hist(bins=7,rwidth=0.55,alpha=0.5, color= 'blue')\n",
    "plt.title('Number of accidents per road type ' , fontsize= 30)\n",
    "plt.grid(False)\n",
    "plt.ylabel('Accident count' , fontsize = 20)\n",
    "plt.xlabel('Road type', fontsize = 13)"
   ]
  },
  {
   "cell_type": "markdown",
   "metadata": {},
   "source": [
    "The graph below shows that most number of accidents occur on single-carriageways, which are particularly risky, since there is no separation between vehicles travelling in opposite directions. Additionally, it can be observed that majority of the severity cases fall under Slight category in all kinds of road type."
   ]
  },
  {
   "cell_type": "code",
   "execution_count": 36,
   "metadata": {},
   "outputs": [],
   "source": [
    "# to visualize categorical values against target variable, a new varibale was created \n",
    "# to store 'accident_severity','longitude','latitude','engine_capacity_cc'\n",
    "other_cols = [x for x in train_set.columns.tolist() if x not in ['accident_severity','longitude','latitude','engine_capacity_cc']]\n",
    "cols_horiz = ['day_of_week']"
   ]
  },
  {
   "cell_type": "code",
   "execution_count": 37,
   "metadata": {
    "scrolled": false
   },
   "outputs": [
    {
     "data": {
      "text/plain": [
       "<Figure size 720x360 with 0 Axes>"
      ]
     },
     "metadata": {},
     "output_type": "display_data"
    },
    {
     "data": {
      "image/png": "[encoded data removed]",
      "text/plain": [
       "<Figure size 1080x360 with 3 Axes>"
      ]
     },
     "metadata": {
      "needs_background": "light"
     },
     "output_type": "display_data"
    },
    {
     "data": {
      "text/plain": [
       "<Figure size 720x360 with 0 Axes>"
      ]
     },
     "metadata": {},
     "output_type": "display_data"
    },
    {
     "data": {
      "image/png": "[encoded data removed]",
      "text/plain": [
       "<Figure size 1080x360 with 3 Axes>"
      ]
     },
     "metadata": {
      "needs_background": "light"
     },
     "output_type": "display_data"
    },
    {
     "data": {
      "text/plain": [
       "<Figure size 720x360 with 0 Axes>"
      ]
     },
     "metadata": {},
     "output_type": "display_data"
    },
    {
     "data": {
      "image/png": "[encoded data removed]",
      "text/plain": [
       "<Figure size 1080x360 with 3 Axes>"
      ]
     },
     "metadata": {
      "needs_background": "light"
     },
     "output_type": "display_data"
    },
    {
     "data": {
      "text/plain": [
       "<Figure size 720x360 with 0 Axes>"
      ]
     },
     "metadata": {},
     "output_type": "display_data"
    },
    {
     "data": {
      "image/png": "[encoded data removed]",
      "text/plain": [
       "<Figure size 1080x360 with 3 Axes>"
      ]
     },
     "metadata": {
      "needs_background": "light"
     },
     "output_type": "display_data"
    },
    {
     "data": {
      "text/plain": [
       "<Figure size 720x360 with 0 Axes>"
      ]
     },
     "metadata": {},
     "output_type": "display_data"
    },
    {
     "data": {
      "image/png": "[encoded data removed]",
      "text/plain": [
       "<Figure size 1080x360 with 3 Axes>"
      ]
     },
     "metadata": {
      "needs_background": "light"
     },
     "output_type": "display_data"
    },
    {
     "data": {
      "text/plain": [
       "<Figure size 720x360 with 0 Axes>"
      ]
     },
     "metadata": {},
     "output_type": "display_data"
    },
    {
     "data": {
      "image/png": "[encoded data removed]",
      "text/plain": [
       "<Figure size 1080x360 with 3 Axes>"
      ]
     },
     "metadata": {
      "needs_background": "light"
     },
     "output_type": "display_data"
    },
    {
     "data": {
      "text/plain": [
       "<Figure size 720x360 with 0 Axes>"
      ]
     },
     "metadata": {},
     "output_type": "display_data"
    },
    {
     "data": {
      "image/png": "[encoded data removed]",
      "text/plain": [
       "<Figure size 1080x360 with 3 Axes>"
      ]
     },
     "metadata": {
      "needs_background": "light"
     },
     "output_type": "display_data"
    }
   ],
   "source": [
    "# comparing various train dataset characteristics with the target variable, accident severity usinng visualization\n",
    "for cols in other_cols:\n",
    "    plt.figure(figsize = (10, 5))\n",
    "    category_plot = sns.catplot(data = train_set, x =cols, col = 'accident_severity', kind = 'count', sharey = False)\n",
    "    if cols not in cols_horiz:\n",
    "        category_plot.set_xticklabels(rotation = 90)\n",
    "    plt.suptitle(\"Frequency distribution of {} by target class\".format(cols), y = 1.1, fontsize = 15)\n",
    "    plt.show()"
   ]
  },
  {
   "cell_type": "markdown",
   "metadata": {},
   "source": [
    "The plotted graphs show that accidents happen every day but that Friday saw the bulk of incidents in all three severity classes. In comparison to other routes, the number of accidents on the single carriageway was notably high for all severity levels. Additionally, it is noted that the weather conditionss with the most number of accidents occurred was one with pleasant weather and no strong winds, whereas the number of accidents where weather condition was rainy with no winds had second most accidents involved in all the three categories of severity,suggesting that visiblity and skidding could be a reason for accidents and thus an upgrade in windsceen, tyres and breaking system is required. Surprisingly, dry road surfaces are second in importance to wet ones as major contributors to accidents, suggest that skidding could be a cause of accidents. Snowy, rainy, and icy surface don't have a big impact on accidents. Overall, it is clear that the majority of car accidents are caused while overtaking,when the climate conditions were fine on and dry or wet surface condition, and most of the vehicles have collided from the front as the distribution of impact shows in all three severity levels and also suggest that vehicles need a stronger front part with advanced breaking system."
   ]
  },
  {
   "cell_type": "code",
   "execution_count": 38,
   "metadata": {},
   "outputs": [],
   "source": [
    "#dropping latitude and longitude from test and train dataset\n",
    "train_set = train_set.drop(['longitude','latitude'],axis = 1)\n",
    "test_set = test_set.drop(['longitude','latitude'],axis = 1)"
   ]
  },
  {
   "cell_type": "markdown",
   "metadata": {},
   "source": []
  },
  {
   "cell_type": "markdown",
   "metadata": {},
   "source": [
    "# Outlier detection "
   ]
  },
  {
   "cell_type": "code",
   "execution_count": 39,
   "metadata": {},
   "outputs": [
    {
     "data": {
      "image/png": "[encoded data removed]",
      "text/plain": [
       "<Figure size 504x504 with 1 Axes>"
      ]
     },
     "metadata": {
      "needs_background": "light"
     },
     "output_type": "display_data"
    }
   ],
   "source": [
    "fig = plt.figure(figsize =(7, 7))\n",
    " \n",
    "# Creating box plot for engine_capacity \n",
    "plt.boxplot(train_set['engine_capacity_cc'])\n",
    " \n",
    "# show plot\n",
    "plt.show()"
   ]
  },
  {
   "cell_type": "code",
   "execution_count": 40,
   "metadata": {},
   "outputs": [
    {
     "name": "stdout",
     "output_type": "stream",
     "text": [
      "112.5 3124.5\n",
      " trainset, rows and columns(89416, 9)\n"
     ]
    }
   ],
   "source": [
    "#calculating the lower bound and upper bound for for engine capacity to remove outliers from trainset\n",
    "# and removing the outliers.\n",
    "Q1=train_set['engine_capacity_cc'].quantile(0.25)\n",
    "Q3=train_set['engine_capacity_cc'].quantile(0.75)\n",
    "IQR=Q3-Q1\n",
    "lowqe_bound=Q1 - 1.5 * IQR\n",
    "upper_bound=Q3 + 1.5 * IQR\n",
    "print(lowqe_bound,upper_bound)\n",
    "train_set = train_set[(train_set[\"engine_capacity_cc\"] < upper_bound) & (train_set[\"engine_capacity_cc\"] > lowqe_bound)]\n",
    "print(f\" trainset, rows and columns{train_set.shape}\") "
   ]
  },
  {
   "cell_type": "code",
   "execution_count": 41,
   "metadata": {},
   "outputs": [
    {
     "name": "stdout",
     "output_type": "stream",
     "text": [
      "127.5 3115.5\n",
      " testset, rows and columns(21306, 9)\n"
     ]
    }
   ],
   "source": [
    "#Removing the outliers from testing set\n",
    "Qt1=test_set['engine_capacity_cc'].quantile(0.25)\n",
    "Qt3=test_set['engine_capacity_cc'].quantile(0.75)\n",
    "IQR1=Qt3-Qt1\n",
    "lowqe_bound1=Qt1 - 1.5 * IQR1\n",
    "upper_bound1=Qt3 + 1.5 * IQR1\n",
    "print(lowqe_bound1,upper_bound1)\n",
    "test_set = test_set[(test_set[\"engine_capacity_cc\"] < upper_bound1) & (test_set[\"engine_capacity_cc\"] > lowqe_bound1)]\n",
    "print(f\" testset, rows and columns{test_set.shape}\") "
   ]
  },
  {
   "cell_type": "code",
   "execution_count": 42,
   "metadata": {
    "scrolled": false
   },
   "outputs": [
    {
     "data": {
      "image/png": "[encoded data removed]",
      "text/plain": [
       "<Figure size 576x360 with 1 Axes>"
      ]
     },
     "metadata": {
      "needs_background": "light"
     },
     "output_type": "display_data"
    }
   ],
   "source": [
    "#plotting the graph of engine capacity against number of accidents after removing outliers\n",
    "train_set['engine_capacity_cc'].hist(figsize=(8,5))\n",
    "plt.tight_layout()\n",
    "plt.title('Number of accidents against engine capacity ' , fontsize= 30)\n",
    "plt.ylabel('Num of accidents' , fontsize = 20)\n",
    "plt.xlabel('Engine capacity', fontsize = 13)\n",
    "plt.show()\n"
   ]
  },
  {
   "cell_type": "markdown",
   "metadata": {},
   "source": [
    "The histogram displays a symmetrical distribution of data. When variables' values exist at predictable frequencies and frequently at the same location, the distribution is said to be symmetrical. It can be observed that most of the accidents took place by the vehicle having engine capacity 1500 CC."
   ]
  },
  {
   "cell_type": "code",
   "execution_count": 43,
   "metadata": {},
   "outputs": [
    {
     "data": {
      "text/html": [
       "<div>\n",
       "<style scoped>\n",
       "    .dataframe tbody tr th:only-of-type {\n",
       "        vertical-align: middle;\n",
       "    }\n",
       "\n",
       "    .dataframe tbody tr th {\n",
       "        vertical-align: top;\n",
       "    }\n",
       "\n",
       "    .dataframe thead th {\n",
       "        text-align: right;\n",
       "    }\n",
       "</style>\n",
       "<table border=\"1\" class=\"dataframe\">\n",
       "  <thead>\n",
       "    <tr style=\"text-align: right;\">\n",
       "      <th></th>\n",
       "      <th>accident_severity</th>\n",
       "      <th>day_of_week</th>\n",
       "      <th>road_type</th>\n",
       "      <th>weather_conditions</th>\n",
       "      <th>road_surface_conditions</th>\n",
       "      <th>vehicle_type</th>\n",
       "      <th>vehicle_manoeuvre</th>\n",
       "      <th>first_point_of_impact</th>\n",
       "      <th>engine_capacity_cc</th>\n",
       "      <th>Monday</th>\n",
       "      <th>...</th>\n",
       "      <th>moving</th>\n",
       "      <th>overtaking</th>\n",
       "      <th>parked</th>\n",
       "      <th>reversing</th>\n",
       "      <th>stopping</th>\n",
       "      <th>turning</th>\n",
       "      <th>front</th>\n",
       "      <th>nearside</th>\n",
       "      <th>no impact</th>\n",
       "      <th>offside</th>\n",
       "    </tr>\n",
       "  </thead>\n",
       "  <tbody>\n",
       "    <tr>\n",
       "      <th>174130</th>\n",
       "      <td>Slight</td>\n",
       "      <td>Tuesday</td>\n",
       "      <td>Dual carriageway</td>\n",
       "      <td>Fine no high winds</td>\n",
       "      <td>dry</td>\n",
       "      <td>car</td>\n",
       "      <td>overtaking</td>\n",
       "      <td>front</td>\n",
       "      <td>1896.0</td>\n",
       "      <td>0.0</td>\n",
       "      <td>...</td>\n",
       "      <td>0.0</td>\n",
       "      <td>1.0</td>\n",
       "      <td>0.0</td>\n",
       "      <td>0.0</td>\n",
       "      <td>0.0</td>\n",
       "      <td>0.0</td>\n",
       "      <td>1.0</td>\n",
       "      <td>0.0</td>\n",
       "      <td>0.0</td>\n",
       "      <td>0.0</td>\n",
       "    </tr>\n",
       "    <tr>\n",
       "      <th>45542</th>\n",
       "      <td>Slight</td>\n",
       "      <td>Wednesday</td>\n",
       "      <td>Single carriageway</td>\n",
       "      <td>Fine no high winds</td>\n",
       "      <td>dry</td>\n",
       "      <td>car</td>\n",
       "      <td>overtaking</td>\n",
       "      <td>front</td>\n",
       "      <td>2143.0</td>\n",
       "      <td>0.0</td>\n",
       "      <td>...</td>\n",
       "      <td>0.0</td>\n",
       "      <td>1.0</td>\n",
       "      <td>0.0</td>\n",
       "      <td>0.0</td>\n",
       "      <td>0.0</td>\n",
       "      <td>0.0</td>\n",
       "      <td>1.0</td>\n",
       "      <td>0.0</td>\n",
       "      <td>0.0</td>\n",
       "      <td>0.0</td>\n",
       "    </tr>\n",
       "    <tr>\n",
       "      <th>72453</th>\n",
       "      <td>Slight</td>\n",
       "      <td>Sunday</td>\n",
       "      <td>Single carriageway</td>\n",
       "      <td>Fine no high winds</td>\n",
       "      <td>dry</td>\n",
       "      <td>car</td>\n",
       "      <td>overtaking</td>\n",
       "      <td>back</td>\n",
       "      <td>1587.0</td>\n",
       "      <td>0.0</td>\n",
       "      <td>...</td>\n",
       "      <td>0.0</td>\n",
       "      <td>1.0</td>\n",
       "      <td>0.0</td>\n",
       "      <td>0.0</td>\n",
       "      <td>0.0</td>\n",
       "      <td>0.0</td>\n",
       "      <td>0.0</td>\n",
       "      <td>0.0</td>\n",
       "      <td>0.0</td>\n",
       "      <td>0.0</td>\n",
       "    </tr>\n",
       "    <tr>\n",
       "      <th>171197</th>\n",
       "      <td>Serious</td>\n",
       "      <td>Friday</td>\n",
       "      <td>Single carriageway</td>\n",
       "      <td>Fine no high winds</td>\n",
       "      <td>dry</td>\n",
       "      <td>car</td>\n",
       "      <td>overtaking</td>\n",
       "      <td>front</td>\n",
       "      <td>1984.0</td>\n",
       "      <td>0.0</td>\n",
       "      <td>...</td>\n",
       "      <td>0.0</td>\n",
       "      <td>1.0</td>\n",
       "      <td>0.0</td>\n",
       "      <td>0.0</td>\n",
       "      <td>0.0</td>\n",
       "      <td>0.0</td>\n",
       "      <td>1.0</td>\n",
       "      <td>0.0</td>\n",
       "      <td>0.0</td>\n",
       "      <td>0.0</td>\n",
       "    </tr>\n",
       "    <tr>\n",
       "      <th>52153</th>\n",
       "      <td>Serious</td>\n",
       "      <td>Friday</td>\n",
       "      <td>Single carriageway</td>\n",
       "      <td>Fine no high winds</td>\n",
       "      <td>dry</td>\n",
       "      <td>car</td>\n",
       "      <td>overtaking</td>\n",
       "      <td>front</td>\n",
       "      <td>1398.0</td>\n",
       "      <td>0.0</td>\n",
       "      <td>...</td>\n",
       "      <td>0.0</td>\n",
       "      <td>1.0</td>\n",
       "      <td>0.0</td>\n",
       "      <td>0.0</td>\n",
       "      <td>0.0</td>\n",
       "      <td>0.0</td>\n",
       "      <td>1.0</td>\n",
       "      <td>0.0</td>\n",
       "      <td>0.0</td>\n",
       "      <td>0.0</td>\n",
       "    </tr>\n",
       "  </tbody>\n",
       "</table>\n",
       "<p>5 rows × 44 columns</p>\n",
       "</div>"
      ],
      "text/plain": [
       "       accident_severity day_of_week           road_type  weather_conditions  \\\n",
       "174130            Slight     Tuesday    Dual carriageway  Fine no high winds   \n",
       "45542             Slight   Wednesday  Single carriageway  Fine no high winds   \n",
       "72453             Slight      Sunday  Single carriageway  Fine no high winds   \n",
       "171197           Serious      Friday  Single carriageway  Fine no high winds   \n",
       "52153            Serious      Friday  Single carriageway  Fine no high winds   \n",
       "\n",
       "       road_surface_conditions vehicle_type vehicle_manoeuvre  \\\n",
       "174130                     dry          car        overtaking   \n",
       "45542                      dry          car        overtaking   \n",
       "72453                      dry          car        overtaking   \n",
       "171197                     dry          car        overtaking   \n",
       "52153                      dry          car        overtaking   \n",
       "\n",
       "       first_point_of_impact  engine_capacity_cc  Monday  ...  moving  \\\n",
       "174130                 front              1896.0     0.0  ...     0.0   \n",
       "45542                  front              2143.0     0.0  ...     0.0   \n",
       "72453                   back              1587.0     0.0  ...     0.0   \n",
       "171197                 front              1984.0     0.0  ...     0.0   \n",
       "52153                  front              1398.0     0.0  ...     0.0   \n",
       "\n",
       "        overtaking  parked  reversing  stopping  turning  front  nearside  \\\n",
       "174130         1.0     0.0        0.0       0.0      0.0    1.0       0.0   \n",
       "45542          1.0     0.0        0.0       0.0      0.0    1.0       0.0   \n",
       "72453          1.0     0.0        0.0       0.0      0.0    0.0       0.0   \n",
       "171197         1.0     0.0        0.0       0.0      0.0    1.0       0.0   \n",
       "52153          1.0     0.0        0.0       0.0      0.0    1.0       0.0   \n",
       "\n",
       "        no impact  offside  \n",
       "174130        0.0      0.0  \n",
       "45542         0.0      0.0  \n",
       "72453         0.0      0.0  \n",
       "171197        0.0      0.0  \n",
       "52153         0.0      0.0  \n",
       "\n",
       "[5 rows x 44 columns]"
      ]
     },
     "execution_count": 43,
     "metadata": {},
     "output_type": "execute_result"
    }
   ],
   "source": [
    "from sklearn.preprocessing import OneHotEncoder\n",
    "\n",
    "\n",
    "def get_dummies(trainset, testset, old_col_name):\n",
    "    \"\"\"If you have a trainset, a testset, and the name of a column \n",
    "       that contains a categorical variable, you can fit an encoder \n",
    "       to the trainset and use it to insert dummy columns further into trainset and testset.\n",
    "    \"\"\"\n",
    "    \n",
    "    one_hot_encoder = OneHotEncoder(drop=\"first\", sparse=False)\n",
    "    \n",
    "    #The column is taken, the values are extracted, and the array \n",
    "    # is reshaped to be 2-d because the input to the encoder needs to be a 2-d numpy array.\n",
    "    cat_vals = trainset[old_col_name].values.reshape(-1,1)\n",
    "\n",
    "    \n",
    "    #  output is new nummpy array \n",
    "    transformed = one_hot_encoder.fit_transform(cat_vals)\n",
    "    \n",
    "\n",
    "    new_col_names = one_hot_encoder.categories_[0].tolist()[1:]\n",
    "    \n",
    "    for i, new_col_name in enumerate(new_col_names):\n",
    "        \n",
    "        # including columns of transformed data in a trainset\n",
    "        trainset[new_col_name] = transformed[:,i]\n",
    "    \n",
    "    # using fitted encoder fot transforming testset \n",
    "    \n",
    "    cat_vals = testset[old_col_name].values.reshape(-1,1)\n",
    "    transformed = one_hot_encoder.transform(cat_vals)\n",
    "\n",
    "    for i, new_col_name in enumerate(new_col_names):\n",
    "        \n",
    "        # including columns of transformed data in a testset\n",
    "        testset[new_col_name] = transformed[:,i]\n",
    "    \n",
    "    return trainset, testset\n",
    "\n",
    "\n",
    "for col_name in [\"day_of_week\", \"road_type\",\"weather_conditions\",\"road_surface_conditions\",\"vehicle_type\",\"vehicle_manoeuvre\",\"first_point_of_impact\"]:\n",
    "    trainset, testset = get_dummies(train_set, test_set, col_name)\n",
    "\n",
    "# checking for dummies in trainset  \n",
    "trainset.head()"
   ]
  },
  {
   "cell_type": "code",
   "execution_count": 44,
   "metadata": {},
   "outputs": [
    {
     "data": {
      "text/html": [
       "<div>\n",
       "<style scoped>\n",
       "    .dataframe tbody tr th:only-of-type {\n",
       "        vertical-align: middle;\n",
       "    }\n",
       "\n",
       "    .dataframe tbody tr th {\n",
       "        vertical-align: top;\n",
       "    }\n",
       "\n",
       "    .dataframe thead th {\n",
       "        text-align: right;\n",
       "    }\n",
       "</style>\n",
       "<table border=\"1\" class=\"dataframe\">\n",
       "  <thead>\n",
       "    <tr style=\"text-align: right;\">\n",
       "      <th></th>\n",
       "      <th>accident_severity</th>\n",
       "      <th>day_of_week</th>\n",
       "      <th>road_type</th>\n",
       "      <th>weather_conditions</th>\n",
       "      <th>road_surface_conditions</th>\n",
       "      <th>vehicle_type</th>\n",
       "      <th>vehicle_manoeuvre</th>\n",
       "      <th>first_point_of_impact</th>\n",
       "      <th>engine_capacity_cc</th>\n",
       "      <th>Monday</th>\n",
       "      <th>...</th>\n",
       "      <th>moving</th>\n",
       "      <th>overtaking</th>\n",
       "      <th>parked</th>\n",
       "      <th>reversing</th>\n",
       "      <th>stopping</th>\n",
       "      <th>turning</th>\n",
       "      <th>front</th>\n",
       "      <th>nearside</th>\n",
       "      <th>no impact</th>\n",
       "      <th>offside</th>\n",
       "    </tr>\n",
       "  </thead>\n",
       "  <tbody>\n",
       "    <tr>\n",
       "      <th>26268</th>\n",
       "      <td>Slight</td>\n",
       "      <td>Thursday</td>\n",
       "      <td>Single carriageway</td>\n",
       "      <td>Fine no high winds</td>\n",
       "      <td>dry</td>\n",
       "      <td>car</td>\n",
       "      <td>overtaking</td>\n",
       "      <td>nearside</td>\n",
       "      <td>2400.0</td>\n",
       "      <td>0.0</td>\n",
       "      <td>...</td>\n",
       "      <td>0.0</td>\n",
       "      <td>1.0</td>\n",
       "      <td>0.0</td>\n",
       "      <td>0.0</td>\n",
       "      <td>0.0</td>\n",
       "      <td>0.0</td>\n",
       "      <td>0.0</td>\n",
       "      <td>1.0</td>\n",
       "      <td>0.0</td>\n",
       "      <td>0.0</td>\n",
       "    </tr>\n",
       "    <tr>\n",
       "      <th>32658</th>\n",
       "      <td>Slight</td>\n",
       "      <td>Sunday</td>\n",
       "      <td>Single carriageway</td>\n",
       "      <td>Fine no high winds</td>\n",
       "      <td>dry</td>\n",
       "      <td>car</td>\n",
       "      <td>overtaking</td>\n",
       "      <td>front</td>\n",
       "      <td>1360.0</td>\n",
       "      <td>0.0</td>\n",
       "      <td>...</td>\n",
       "      <td>0.0</td>\n",
       "      <td>1.0</td>\n",
       "      <td>0.0</td>\n",
       "      <td>0.0</td>\n",
       "      <td>0.0</td>\n",
       "      <td>0.0</td>\n",
       "      <td>1.0</td>\n",
       "      <td>0.0</td>\n",
       "      <td>0.0</td>\n",
       "      <td>0.0</td>\n",
       "    </tr>\n",
       "    <tr>\n",
       "      <th>99162</th>\n",
       "      <td>Slight</td>\n",
       "      <td>Wednesday</td>\n",
       "      <td>Single carriageway</td>\n",
       "      <td>Fine no high winds</td>\n",
       "      <td>dry</td>\n",
       "      <td>car</td>\n",
       "      <td>moving</td>\n",
       "      <td>front</td>\n",
       "      <td>1395.0</td>\n",
       "      <td>0.0</td>\n",
       "      <td>...</td>\n",
       "      <td>1.0</td>\n",
       "      <td>0.0</td>\n",
       "      <td>0.0</td>\n",
       "      <td>0.0</td>\n",
       "      <td>0.0</td>\n",
       "      <td>0.0</td>\n",
       "      <td>1.0</td>\n",
       "      <td>0.0</td>\n",
       "      <td>0.0</td>\n",
       "      <td>0.0</td>\n",
       "    </tr>\n",
       "    <tr>\n",
       "      <th>130811</th>\n",
       "      <td>Slight</td>\n",
       "      <td>Tuesday</td>\n",
       "      <td>Single carriageway</td>\n",
       "      <td>Fine no high winds</td>\n",
       "      <td>dry</td>\n",
       "      <td>car</td>\n",
       "      <td>stopping</td>\n",
       "      <td>front</td>\n",
       "      <td>1995.0</td>\n",
       "      <td>0.0</td>\n",
       "      <td>...</td>\n",
       "      <td>0.0</td>\n",
       "      <td>0.0</td>\n",
       "      <td>0.0</td>\n",
       "      <td>0.0</td>\n",
       "      <td>1.0</td>\n",
       "      <td>0.0</td>\n",
       "      <td>1.0</td>\n",
       "      <td>0.0</td>\n",
       "      <td>0.0</td>\n",
       "      <td>0.0</td>\n",
       "    </tr>\n",
       "    <tr>\n",
       "      <th>72030</th>\n",
       "      <td>Slight</td>\n",
       "      <td>Wednesday</td>\n",
       "      <td>Single carriageway</td>\n",
       "      <td>Fine no high winds</td>\n",
       "      <td>dry</td>\n",
       "      <td>car</td>\n",
       "      <td>overtaking</td>\n",
       "      <td>offside</td>\n",
       "      <td>1968.0</td>\n",
       "      <td>0.0</td>\n",
       "      <td>...</td>\n",
       "      <td>0.0</td>\n",
       "      <td>1.0</td>\n",
       "      <td>0.0</td>\n",
       "      <td>0.0</td>\n",
       "      <td>0.0</td>\n",
       "      <td>0.0</td>\n",
       "      <td>0.0</td>\n",
       "      <td>0.0</td>\n",
       "      <td>0.0</td>\n",
       "      <td>1.0</td>\n",
       "    </tr>\n",
       "  </tbody>\n",
       "</table>\n",
       "<p>5 rows × 44 columns</p>\n",
       "</div>"
      ],
      "text/plain": [
       "       accident_severity day_of_week           road_type  weather_conditions  \\\n",
       "26268             Slight    Thursday  Single carriageway  Fine no high winds   \n",
       "32658             Slight      Sunday  Single carriageway  Fine no high winds   \n",
       "99162             Slight   Wednesday  Single carriageway  Fine no high winds   \n",
       "130811            Slight     Tuesday  Single carriageway  Fine no high winds   \n",
       "72030             Slight   Wednesday  Single carriageway  Fine no high winds   \n",
       "\n",
       "       road_surface_conditions vehicle_type vehicle_manoeuvre  \\\n",
       "26268                      dry          car        overtaking   \n",
       "32658                      dry          car        overtaking   \n",
       "99162                      dry          car            moving   \n",
       "130811                     dry          car          stopping   \n",
       "72030                      dry          car        overtaking   \n",
       "\n",
       "       first_point_of_impact  engine_capacity_cc  Monday  ...  moving  \\\n",
       "26268               nearside              2400.0     0.0  ...     0.0   \n",
       "32658                  front              1360.0     0.0  ...     0.0   \n",
       "99162                  front              1395.0     0.0  ...     1.0   \n",
       "130811                 front              1995.0     0.0  ...     0.0   \n",
       "72030                offside              1968.0     0.0  ...     0.0   \n",
       "\n",
       "        overtaking  parked  reversing  stopping  turning  front  nearside  \\\n",
       "26268          1.0     0.0        0.0       0.0      0.0    0.0       1.0   \n",
       "32658          1.0     0.0        0.0       0.0      0.0    1.0       0.0   \n",
       "99162          0.0     0.0        0.0       0.0      0.0    1.0       0.0   \n",
       "130811         0.0     0.0        0.0       1.0      0.0    1.0       0.0   \n",
       "72030          1.0     0.0        0.0       0.0      0.0    0.0       0.0   \n",
       "\n",
       "        no impact  offside  \n",
       "26268         0.0      0.0  \n",
       "32658         0.0      0.0  \n",
       "99162         0.0      0.0  \n",
       "130811        0.0      0.0  \n",
       "72030         0.0      1.0  \n",
       "\n",
       "[5 rows x 44 columns]"
      ]
     },
     "execution_count": 44,
     "metadata": {},
     "output_type": "execute_result"
    }
   ],
   "source": [
    "# checking for dummies in trainset\n",
    "testset.head()"
   ]
  },
  {
   "cell_type": "code",
   "execution_count": 45,
   "metadata": {},
   "outputs": [],
   "source": [
    "#dropping columns after creating dummy variables as it is not required in the data\n",
    "cols_to_drop = [\"day_of_week\",\"road_type\",\"weather_conditions\",\"road_surface_conditions\",\"vehicle_type\",\"vehicle_manoeuvre\",\"first_point_of_impact\"]\n",
    "trainset.drop(columns=cols_to_drop, inplace=True)\n",
    "testset.drop(columns=cols_to_drop, inplace=True)"
   ]
  },
  {
   "cell_type": "code",
   "execution_count": 46,
   "metadata": {},
   "outputs": [
    {
     "data": {
      "text/plain": [
       "(89416, 37)"
      ]
     },
     "execution_count": 46,
     "metadata": {},
     "output_type": "execute_result"
    }
   ],
   "source": [
    "#dimensions of test set after dropping columns\n",
    "trainset.shape"
   ]
  },
  {
   "cell_type": "markdown",
   "metadata": {},
   "source": [
    "The train set has 23790 rows and 37 columns."
   ]
  },
  {
   "cell_type": "markdown",
   "metadata": {},
   "source": [
    "## FEATURE SCALING"
   ]
  },
  {
   "cell_type": "code",
   "execution_count": 47,
   "metadata": {},
   "outputs": [
    {
     "data": {
      "text/html": [
       "<div>\n",
       "<style scoped>\n",
       "    .dataframe tbody tr th:only-of-type {\n",
       "        vertical-align: middle;\n",
       "    }\n",
       "\n",
       "    .dataframe tbody tr th {\n",
       "        vertical-align: top;\n",
       "    }\n",
       "\n",
       "    .dataframe thead th {\n",
       "        text-align: right;\n",
       "    }\n",
       "</style>\n",
       "<table border=\"1\" class=\"dataframe\">\n",
       "  <thead>\n",
       "    <tr style=\"text-align: right;\">\n",
       "      <th></th>\n",
       "      <th>engine_capacity_cc</th>\n",
       "      <th>Monday</th>\n",
       "      <th>Saturday</th>\n",
       "      <th>Sunday</th>\n",
       "      <th>Thursday</th>\n",
       "      <th>Tuesday</th>\n",
       "      <th>Wednesday</th>\n",
       "      <th>One way street</th>\n",
       "      <th>Roundabout</th>\n",
       "      <th>Single carriageway</th>\n",
       "      <th>...</th>\n",
       "      <th>overtaking</th>\n",
       "      <th>parked</th>\n",
       "      <th>reversing</th>\n",
       "      <th>stopping</th>\n",
       "      <th>turning</th>\n",
       "      <th>front</th>\n",
       "      <th>nearside</th>\n",
       "      <th>no impact</th>\n",
       "      <th>offside</th>\n",
       "      <th>accident_severity</th>\n",
       "    </tr>\n",
       "  </thead>\n",
       "  <tbody>\n",
       "    <tr>\n",
       "      <th>0</th>\n",
       "      <td>0.589525</td>\n",
       "      <td>-0.400334</td>\n",
       "      <td>-0.395847</td>\n",
       "      <td>-0.362695</td>\n",
       "      <td>-0.421568</td>\n",
       "      <td>2.439773</td>\n",
       "      <td>-0.420169</td>\n",
       "      <td>-0.131987</td>\n",
       "      <td>-0.242573</td>\n",
       "      <td>-1.646832</td>\n",
       "      <td>...</td>\n",
       "      <td>0.852962</td>\n",
       "      <td>-0.217475</td>\n",
       "      <td>-0.121083</td>\n",
       "      <td>-0.383663</td>\n",
       "      <td>-0.453704</td>\n",
       "      <td>0.954959</td>\n",
       "      <td>-0.36908</td>\n",
       "      <td>-0.201955</td>\n",
       "      <td>-0.402287</td>\n",
       "      <td>Slight</td>\n",
       "    </tr>\n",
       "    <tr>\n",
       "      <th>1</th>\n",
       "      <td>1.031392</td>\n",
       "      <td>-0.400334</td>\n",
       "      <td>-0.395847</td>\n",
       "      <td>-0.362695</td>\n",
       "      <td>-0.421568</td>\n",
       "      <td>-0.409874</td>\n",
       "      <td>2.379996</td>\n",
       "      <td>-0.131987</td>\n",
       "      <td>-0.242573</td>\n",
       "      <td>0.607226</td>\n",
       "      <td>...</td>\n",
       "      <td>0.852962</td>\n",
       "      <td>-0.217475</td>\n",
       "      <td>-0.121083</td>\n",
       "      <td>-0.383663</td>\n",
       "      <td>-0.453704</td>\n",
       "      <td>0.954959</td>\n",
       "      <td>-0.36908</td>\n",
       "      <td>-0.201955</td>\n",
       "      <td>-0.402287</td>\n",
       "      <td>Slight</td>\n",
       "    </tr>\n",
       "    <tr>\n",
       "      <th>2</th>\n",
       "      <td>0.036743</td>\n",
       "      <td>-0.400334</td>\n",
       "      <td>-0.395847</td>\n",
       "      <td>2.757141</td>\n",
       "      <td>-0.421568</td>\n",
       "      <td>-0.409874</td>\n",
       "      <td>-0.420169</td>\n",
       "      <td>-0.131987</td>\n",
       "      <td>-0.242573</td>\n",
       "      <td>0.607226</td>\n",
       "      <td>...</td>\n",
       "      <td>0.852962</td>\n",
       "      <td>-0.217475</td>\n",
       "      <td>-0.121083</td>\n",
       "      <td>-0.383663</td>\n",
       "      <td>-0.453704</td>\n",
       "      <td>-1.047166</td>\n",
       "      <td>-0.36908</td>\n",
       "      <td>-0.201955</td>\n",
       "      <td>-0.402287</td>\n",
       "      <td>Slight</td>\n",
       "    </tr>\n",
       "    <tr>\n",
       "      <th>3</th>\n",
       "      <td>0.746951</td>\n",
       "      <td>-0.400334</td>\n",
       "      <td>-0.395847</td>\n",
       "      <td>-0.362695</td>\n",
       "      <td>-0.421568</td>\n",
       "      <td>-0.409874</td>\n",
       "      <td>-0.420169</td>\n",
       "      <td>-0.131987</td>\n",
       "      <td>-0.242573</td>\n",
       "      <td>0.607226</td>\n",
       "      <td>...</td>\n",
       "      <td>0.852962</td>\n",
       "      <td>-0.217475</td>\n",
       "      <td>-0.121083</td>\n",
       "      <td>-0.383663</td>\n",
       "      <td>-0.453704</td>\n",
       "      <td>0.954959</td>\n",
       "      <td>-0.36908</td>\n",
       "      <td>-0.201955</td>\n",
       "      <td>-0.402287</td>\n",
       "      <td>Serious</td>\n",
       "    </tr>\n",
       "    <tr>\n",
       "      <th>4</th>\n",
       "      <td>-0.301366</td>\n",
       "      <td>-0.400334</td>\n",
       "      <td>-0.395847</td>\n",
       "      <td>-0.362695</td>\n",
       "      <td>-0.421568</td>\n",
       "      <td>-0.409874</td>\n",
       "      <td>-0.420169</td>\n",
       "      <td>-0.131987</td>\n",
       "      <td>-0.242573</td>\n",
       "      <td>0.607226</td>\n",
       "      <td>...</td>\n",
       "      <td>0.852962</td>\n",
       "      <td>-0.217475</td>\n",
       "      <td>-0.121083</td>\n",
       "      <td>-0.383663</td>\n",
       "      <td>-0.453704</td>\n",
       "      <td>0.954959</td>\n",
       "      <td>-0.36908</td>\n",
       "      <td>-0.201955</td>\n",
       "      <td>-0.402287</td>\n",
       "      <td>Serious</td>\n",
       "    </tr>\n",
       "  </tbody>\n",
       "</table>\n",
       "<p>5 rows × 37 columns</p>\n",
       "</div>"
      ],
      "text/plain": [
       "   engine_capacity_cc    Monday  Saturday    Sunday  Thursday   Tuesday  \\\n",
       "0            0.589525 -0.400334 -0.395847 -0.362695 -0.421568  2.439773   \n",
       "1            1.031392 -0.400334 -0.395847 -0.362695 -0.421568 -0.409874   \n",
       "2            0.036743 -0.400334 -0.395847  2.757141 -0.421568 -0.409874   \n",
       "3            0.746951 -0.400334 -0.395847 -0.362695 -0.421568 -0.409874   \n",
       "4           -0.301366 -0.400334 -0.395847 -0.362695 -0.421568 -0.409874   \n",
       "\n",
       "   Wednesday  One way street  Roundabout  Single carriageway  ...  overtaking  \\\n",
       "0  -0.420169       -0.131987   -0.242573           -1.646832  ...    0.852962   \n",
       "1   2.379996       -0.131987   -0.242573            0.607226  ...    0.852962   \n",
       "2  -0.420169       -0.131987   -0.242573            0.607226  ...    0.852962   \n",
       "3  -0.420169       -0.131987   -0.242573            0.607226  ...    0.852962   \n",
       "4  -0.420169       -0.131987   -0.242573            0.607226  ...    0.852962   \n",
       "\n",
       "     parked  reversing  stopping   turning     front  nearside  no impact  \\\n",
       "0 -0.217475  -0.121083 -0.383663 -0.453704  0.954959  -0.36908  -0.201955   \n",
       "1 -0.217475  -0.121083 -0.383663 -0.453704  0.954959  -0.36908  -0.201955   \n",
       "2 -0.217475  -0.121083 -0.383663 -0.453704 -1.047166  -0.36908  -0.201955   \n",
       "3 -0.217475  -0.121083 -0.383663 -0.453704  0.954959  -0.36908  -0.201955   \n",
       "4 -0.217475  -0.121083 -0.383663 -0.453704  0.954959  -0.36908  -0.201955   \n",
       "\n",
       "    offside  accident_severity  \n",
       "0 -0.402287             Slight  \n",
       "1 -0.402287             Slight  \n",
       "2 -0.402287             Slight  \n",
       "3 -0.402287            Serious  \n",
       "4 -0.402287            Serious  \n",
       "\n",
       "[5 rows x 37 columns]"
      ]
     },
     "execution_count": 47,
     "metadata": {},
     "output_type": "execute_result"
    }
   ],
   "source": [
    "from sklearn.preprocessing import StandardScaler\n",
    "\n",
    "scaler = StandardScaler()\n",
    "\n",
    "# removing target variable before scaling\n",
    "trainset_tgt = trainset[\"accident_severity\"].values\n",
    "trainset_preds = trainset.drop(\"accident_severity\", axis=1)\n",
    "\n",
    "# putting back the numpy array, returned from fit_transform into dataframe\n",
    "scaled_vals = scaler.fit_transform(trainset_preds)\n",
    "trainset = pd.DataFrame(scaled_vals, columns=trainset_preds.columns)\n",
    "\n",
    "# joining the non-scale target back\n",
    "trainset['accident_severity'] = trainset_tgt\n",
    "\n",
    "# inspect the data\n",
    "trainset.head()"
   ]
  },
  {
   "cell_type": "code",
   "execution_count": 48,
   "metadata": {},
   "outputs": [
    {
     "data": {
      "text/html": [
       "<div>\n",
       "<style scoped>\n",
       "    .dataframe tbody tr th:only-of-type {\n",
       "        vertical-align: middle;\n",
       "    }\n",
       "\n",
       "    .dataframe tbody tr th {\n",
       "        vertical-align: top;\n",
       "    }\n",
       "\n",
       "    .dataframe thead th {\n",
       "        text-align: right;\n",
       "    }\n",
       "</style>\n",
       "<table border=\"1\" class=\"dataframe\">\n",
       "  <thead>\n",
       "    <tr style=\"text-align: right;\">\n",
       "      <th></th>\n",
       "      <th>engine_capacity_cc</th>\n",
       "      <th>Monday</th>\n",
       "      <th>Saturday</th>\n",
       "      <th>Sunday</th>\n",
       "      <th>Thursday</th>\n",
       "      <th>Tuesday</th>\n",
       "      <th>Wednesday</th>\n",
       "      <th>One way street</th>\n",
       "      <th>Roundabout</th>\n",
       "      <th>Single carriageway</th>\n",
       "      <th>...</th>\n",
       "      <th>overtaking</th>\n",
       "      <th>parked</th>\n",
       "      <th>reversing</th>\n",
       "      <th>stopping</th>\n",
       "      <th>turning</th>\n",
       "      <th>front</th>\n",
       "      <th>nearside</th>\n",
       "      <th>no impact</th>\n",
       "      <th>offside</th>\n",
       "      <th>accident_severity</th>\n",
       "    </tr>\n",
       "  </thead>\n",
       "  <tbody>\n",
       "    <tr>\n",
       "      <th>0</th>\n",
       "      <td>1.491149</td>\n",
       "      <td>-0.400334</td>\n",
       "      <td>-0.395847</td>\n",
       "      <td>-0.362695</td>\n",
       "      <td>2.372097</td>\n",
       "      <td>-0.409874</td>\n",
       "      <td>-0.420169</td>\n",
       "      <td>-0.131987</td>\n",
       "      <td>-0.242573</td>\n",
       "      <td>0.607226</td>\n",
       "      <td>...</td>\n",
       "      <td>0.852962</td>\n",
       "      <td>-0.217475</td>\n",
       "      <td>-0.121083</td>\n",
       "      <td>-0.383663</td>\n",
       "      <td>-0.453704</td>\n",
       "      <td>-1.047166</td>\n",
       "      <td>2.709436</td>\n",
       "      <td>-0.201955</td>\n",
       "      <td>-0.402287</td>\n",
       "      <td>Slight</td>\n",
       "    </tr>\n",
       "    <tr>\n",
       "      <th>1</th>\n",
       "      <td>-0.369346</td>\n",
       "      <td>-0.400334</td>\n",
       "      <td>-0.395847</td>\n",
       "      <td>2.757141</td>\n",
       "      <td>-0.421568</td>\n",
       "      <td>-0.409874</td>\n",
       "      <td>-0.420169</td>\n",
       "      <td>-0.131987</td>\n",
       "      <td>-0.242573</td>\n",
       "      <td>0.607226</td>\n",
       "      <td>...</td>\n",
       "      <td>0.852962</td>\n",
       "      <td>-0.217475</td>\n",
       "      <td>-0.121083</td>\n",
       "      <td>-0.383663</td>\n",
       "      <td>-0.453704</td>\n",
       "      <td>0.954959</td>\n",
       "      <td>-0.369080</td>\n",
       "      <td>-0.201955</td>\n",
       "      <td>-0.402287</td>\n",
       "      <td>Slight</td>\n",
       "    </tr>\n",
       "    <tr>\n",
       "      <th>2</th>\n",
       "      <td>-0.306733</td>\n",
       "      <td>-0.400334</td>\n",
       "      <td>-0.395847</td>\n",
       "      <td>-0.362695</td>\n",
       "      <td>-0.421568</td>\n",
       "      <td>-0.409874</td>\n",
       "      <td>2.379996</td>\n",
       "      <td>-0.131987</td>\n",
       "      <td>-0.242573</td>\n",
       "      <td>0.607226</td>\n",
       "      <td>...</td>\n",
       "      <td>-1.172385</td>\n",
       "      <td>-0.217475</td>\n",
       "      <td>-0.121083</td>\n",
       "      <td>-0.383663</td>\n",
       "      <td>-0.453704</td>\n",
       "      <td>0.954959</td>\n",
       "      <td>-0.369080</td>\n",
       "      <td>-0.201955</td>\n",
       "      <td>-0.402287</td>\n",
       "      <td>Slight</td>\n",
       "    </tr>\n",
       "    <tr>\n",
       "      <th>3</th>\n",
       "      <td>0.766630</td>\n",
       "      <td>-0.400334</td>\n",
       "      <td>-0.395847</td>\n",
       "      <td>-0.362695</td>\n",
       "      <td>-0.421568</td>\n",
       "      <td>2.439773</td>\n",
       "      <td>-0.420169</td>\n",
       "      <td>-0.131987</td>\n",
       "      <td>-0.242573</td>\n",
       "      <td>0.607226</td>\n",
       "      <td>...</td>\n",
       "      <td>-1.172385</td>\n",
       "      <td>-0.217475</td>\n",
       "      <td>-0.121083</td>\n",
       "      <td>2.606454</td>\n",
       "      <td>-0.453704</td>\n",
       "      <td>0.954959</td>\n",
       "      <td>-0.369080</td>\n",
       "      <td>-0.201955</td>\n",
       "      <td>-0.402287</td>\n",
       "      <td>Slight</td>\n",
       "    </tr>\n",
       "    <tr>\n",
       "      <th>4</th>\n",
       "      <td>0.718328</td>\n",
       "      <td>-0.400334</td>\n",
       "      <td>-0.395847</td>\n",
       "      <td>-0.362695</td>\n",
       "      <td>-0.421568</td>\n",
       "      <td>-0.409874</td>\n",
       "      <td>2.379996</td>\n",
       "      <td>-0.131987</td>\n",
       "      <td>-0.242573</td>\n",
       "      <td>0.607226</td>\n",
       "      <td>...</td>\n",
       "      <td>0.852962</td>\n",
       "      <td>-0.217475</td>\n",
       "      <td>-0.121083</td>\n",
       "      <td>-0.383663</td>\n",
       "      <td>-0.453704</td>\n",
       "      <td>-1.047166</td>\n",
       "      <td>-0.369080</td>\n",
       "      <td>-0.201955</td>\n",
       "      <td>2.485785</td>\n",
       "      <td>Slight</td>\n",
       "    </tr>\n",
       "  </tbody>\n",
       "</table>\n",
       "<p>5 rows × 37 columns</p>\n",
       "</div>"
      ],
      "text/plain": [
       "   engine_capacity_cc    Monday  Saturday    Sunday  Thursday   Tuesday  \\\n",
       "0            1.491149 -0.400334 -0.395847 -0.362695  2.372097 -0.409874   \n",
       "1           -0.369346 -0.400334 -0.395847  2.757141 -0.421568 -0.409874   \n",
       "2           -0.306733 -0.400334 -0.395847 -0.362695 -0.421568 -0.409874   \n",
       "3            0.766630 -0.400334 -0.395847 -0.362695 -0.421568  2.439773   \n",
       "4            0.718328 -0.400334 -0.395847 -0.362695 -0.421568 -0.409874   \n",
       "\n",
       "   Wednesday  One way street  Roundabout  Single carriageway  ...  overtaking  \\\n",
       "0  -0.420169       -0.131987   -0.242573            0.607226  ...    0.852962   \n",
       "1  -0.420169       -0.131987   -0.242573            0.607226  ...    0.852962   \n",
       "2   2.379996       -0.131987   -0.242573            0.607226  ...   -1.172385   \n",
       "3  -0.420169       -0.131987   -0.242573            0.607226  ...   -1.172385   \n",
       "4   2.379996       -0.131987   -0.242573            0.607226  ...    0.852962   \n",
       "\n",
       "     parked  reversing  stopping   turning     front  nearside  no impact  \\\n",
       "0 -0.217475  -0.121083 -0.383663 -0.453704 -1.047166  2.709436  -0.201955   \n",
       "1 -0.217475  -0.121083 -0.383663 -0.453704  0.954959 -0.369080  -0.201955   \n",
       "2 -0.217475  -0.121083 -0.383663 -0.453704  0.954959 -0.369080  -0.201955   \n",
       "3 -0.217475  -0.121083  2.606454 -0.453704  0.954959 -0.369080  -0.201955   \n",
       "4 -0.217475  -0.121083 -0.383663 -0.453704 -1.047166 -0.369080  -0.201955   \n",
       "\n",
       "    offside  accident_severity  \n",
       "0 -0.402287             Slight  \n",
       "1 -0.402287             Slight  \n",
       "2 -0.402287             Slight  \n",
       "3 -0.402287             Slight  \n",
       "4  2.485785             Slight  \n",
       "\n",
       "[5 rows x 37 columns]"
      ]
     },
     "execution_count": 48,
     "metadata": {},
     "output_type": "execute_result"
    }
   ],
   "source": [
    "testset_tgt = testset[\"accident_severity\"].values\n",
    "testset_preds = testset.drop(\"accident_severity\", axis=1)\n",
    "\n",
    "scaled_vals = scaler.transform(testset_preds)\n",
    "testset = pd.DataFrame(scaled_vals, columns=testset_preds.columns)\n",
    "\n",
    "# put the non-scaled target back in\n",
    "testset['accident_severity'] = testset_tgt\n",
    "\n",
    "testset.head()"
   ]
  },
  {
   "cell_type": "code",
   "execution_count": 49,
   "metadata": {},
   "outputs": [
    {
     "data": {
      "text/plain": [
       "(89416, 37)"
      ]
     },
     "execution_count": 49,
     "metadata": {},
     "output_type": "execute_result"
    }
   ],
   "source": [
    "train_set.shape"
   ]
  },
  {
   "cell_type": "markdown",
   "metadata": {},
   "source": [
    "# CONCLUSION"
   ]
  },
  {
   "cell_type": "markdown",
   "metadata": {},
   "source": [
    "Using the accident and vehicle dataset a new dataframe was created by merging.The new dataset was preprocessed, cleaned.EDA was performed which included visualizing various plots and understanding the predictors and their relation with the target varibale that we had chosen.We had also performed featured engineering and featuring scaling and later had converted it to a csv file which has been used in the individual assignment."
   ]
  },
  {
   "cell_type": "code",
   "execution_count": 50,
   "metadata": {},
   "outputs": [],
   "source": [
    "#Converting the train and test set to csv files\n",
    "trainset.to_csv('trainset.csv')\n",
    "testset.to_csv('testset.csv')"
   ]
  },
  {
   "cell_type": "code",
   "execution_count": null,
   "metadata": {},
   "outputs": [],
   "source": []
  }
 ],
 "metadata": {
  "kernelspec": {
   "display_name": "Python 3 (ipykernel)",
   "language": "python",
   "name": "python3"
  },
  "language_info": {
   "codemirror_mode": {
    "name": "ipython",
    "version": 3
   },
   "file_extension": ".py",
   "mimetype": "text/x-python",
   "name": "python",
   "nbconvert_exporter": "python",
   "pygments_lexer": "ipython3",
   "version": "3.8.5"
  }
 },
 "nbformat": 4,
 "nbformat_minor": 4
}
